{
  "nbformat": 4,
  "nbformat_minor": 0,
  "metadata": {
    "colab": {
      "provenance": [],
      "authorship_tag": "ABX9TyMGLeXIzCuNGfkwnneLb3yP",
      "include_colab_link": true
    },
    "kernelspec": {
      "name": "python3",
      "display_name": "Python 3"
    },
    "language_info": {
      "name": "python"
    }
  },
  "cells": [
    {
      "cell_type": "markdown",
      "metadata": {
        "id": "view-in-github",
        "colab_type": "text"
      },
      "source": [
        "<a href=\"https://colab.research.google.com/github/brunogtds/pyact/blob/main/pyact.ipynb\" target=\"_parent\"><img src=\"https://colab.research.google.com/assets/colab-badge.svg\" alt=\"Open In Colab\"/></a>"
      ]
    },
    {
      "cell_type": "markdown",
      "source": [
        "*comandos úteis*\n",
        "\n",
        "ctrl + enter = roda a célula em foco\n",
        "\n",
        "ctrl + F9 = roda todas células\n",
        "\n",
        "ctrl + / = comenta tudo selecionado"
      ],
      "metadata": {
        "id": "1kxHgXcknkk6"
      }
    },
    {
      "cell_type": "code",
      "source": [
        "pip install pyActigraphy"
      ],
      "metadata": {
        "colab": {
          "base_uri": "https://localhost:8080/"
        },
        "id": "B3ip_4lzotJw",
        "outputId": "fe25aff2-c84a-44e0-dd26-c62fe9b5fe66"
      },
      "execution_count": null,
      "outputs": [
        {
          "output_type": "stream",
          "name": "stdout",
          "text": [
            "Looking in indexes: https://pypi.org/simple, https://us-python.pkg.dev/colab-wheels/public/simple/\n",
            "Collecting pyActigraphy\n",
            "  Downloading pyActigraphy-1.2-py3-none-any.whl (1.9 MB)\n",
            "\u001b[2K     \u001b[90m━━━━━━━━━━━━━━━━━━━━━━━━━━━━━━━━━━━━━━━━\u001b[0m \u001b[32m1.9/1.9 MB\u001b[0m \u001b[31m6.2 MB/s\u001b[0m eta \u001b[36m0:00:00\u001b[0m\n",
            "\u001b[?25hCollecting accelerometer>=6.2.2\n",
            "  Downloading accelerometer-6.2.3-py3-none-any.whl (1.5 MB)\n",
            "\u001b[2K     \u001b[90m━━━━━━━━━━━━━━━━━━━━━━━━━━━━━━━━━━━━━━━━\u001b[0m \u001b[32m1.5/1.5 MB\u001b[0m \u001b[31m36.4 MB/s\u001b[0m eta \u001b[36m0:00:00\u001b[0m\n",
            "\u001b[?25hCollecting spm1d\n",
            "  Downloading spm1d-0.4.18-py3-none-any.whl (8.5 MB)\n",
            "\u001b[2K     \u001b[90m━━━━━━━━━━━━━━━━━━━━━━━━━━━━━━━━━━━━━━━━\u001b[0m \u001b[32m8.5/8.5 MB\u001b[0m \u001b[31m4.2 MB/s\u001b[0m eta \u001b[36m0:00:00\u001b[0m\n",
            "\u001b[?25hRequirement already satisfied: numpy in /usr/local/lib/python3.9/dist-packages (from pyActigraphy) (1.22.4)\n",
            "Requirement already satisfied: pandas in /usr/local/lib/python3.9/dist-packages (from pyActigraphy) (1.5.3)\n",
            "Requirement already satisfied: numba in /usr/local/lib/python3.9/dist-packages (from pyActigraphy) (0.56.4)\n",
            "Requirement already satisfied: statsmodels>=0.10 in /usr/local/lib/python3.9/dist-packages (from pyActigraphy) (0.13.5)\n",
            "Collecting pyexcel-ods3\n",
            "  Downloading pyexcel_ods3-0.6.1-py3-none-any.whl (9.8 kB)\n",
            "Collecting stochastic>=0.6.0\n",
            "  Downloading stochastic-0.7.0-py3-none-any.whl (48 kB)\n",
            "\u001b[2K     \u001b[90m━━━━━━━━━━━━━━━━━━━━━━━━━━━━━━━━━━━━━━━━\u001b[0m \u001b[32m48.1/48.1 kB\u001b[0m \u001b[31m5.4 MB/s\u001b[0m eta \u001b[36m0:00:00\u001b[0m\n",
            "\u001b[?25hRequirement already satisfied: plotly in /usr/local/lib/python3.9/dist-packages (from pyActigraphy) (5.13.1)\n",
            "Collecting lmfit\n",
            "  Downloading lmfit-1.2.0-py3-none-any.whl (93 kB)\n",
            "\u001b[2K     \u001b[90m━━━━━━━━━━━━━━━━━━━━━━━━━━━━━━━━━━━━━━━━\u001b[0m \u001b[32m93.1/93.1 kB\u001b[0m \u001b[31m10.6 MB/s\u001b[0m eta \u001b[36m0:00:00\u001b[0m\n",
            "\u001b[?25hCollecting pyexcel-xlsx\n",
            "  Downloading pyexcel_xlsx-0.6.0-py2.py3-none-any.whl (9.6 kB)\n",
            "Requirement already satisfied: scipy in /usr/local/lib/python3.9/dist-packages (from pyActigraphy) (1.10.1)\n",
            "Collecting pyexcel\n",
            "  Downloading pyexcel-0.7.0-py2.py3-none-any.whl (87 kB)\n",
            "\u001b[2K     \u001b[90m━━━━━━━━━━━━━━━━━━━━━━━━━━━━━━━━━━━━━━━━\u001b[0m \u001b[32m87.7/87.7 kB\u001b[0m \u001b[31m7.7 MB/s\u001b[0m eta \u001b[36m0:00:00\u001b[0m\n",
            "\u001b[?25hRequirement already satisfied: joblib in /usr/local/lib/python3.9/dist-packages (from pyActigraphy) (1.2.0)\n",
            "Collecting joblib\n",
            "  Downloading joblib-1.1.0-py2.py3-none-any.whl (306 kB)\n",
            "\u001b[2K     \u001b[90m━━━━━━━━━━━━━━━━━━━━━━━━━━━━━━━━━━━━━━\u001b[0m \u001b[32m307.0/307.0 kB\u001b[0m \u001b[31m24.6 MB/s\u001b[0m eta \u001b[36m0:00:00\u001b[0m\n",
            "\u001b[?25hRequirement already satisfied: tqdm>=4.59.0 in /usr/local/lib/python3.9/dist-packages (from accelerometer>=6.2.2->pyActigraphy) (4.65.0)\n",
            "Collecting imbalanced-learn==0.8.1\n",
            "  Downloading imbalanced_learn-0.8.1-py3-none-any.whl (189 kB)\n",
            "\u001b[2K     \u001b[90m━━━━━━━━━━━━━━━━━━━━━━━━━━━━━━━━━━━━━━\u001b[0m \u001b[32m189.7/189.7 kB\u001b[0m \u001b[31m21.8 MB/s\u001b[0m eta \u001b[36m0:00:00\u001b[0m\n",
            "\u001b[?25hRequirement already satisfied: matplotlib in /usr/local/lib/python3.9/dist-packages (from accelerometer>=6.2.2->pyActigraphy) (3.7.1)\n",
            "Collecting scikit-learn==1.0.1\n",
            "  Downloading scikit_learn-1.0.1-cp39-cp39-manylinux_2_12_x86_64.manylinux2010_x86_64.whl (24.7 MB)\n",
            "\u001b[2K     \u001b[90m━━━━━━━━━━━━━━━━━━━━━━━━━━━━━━━━━━━━━━━━\u001b[0m \u001b[32m24.7/24.7 MB\u001b[0m \u001b[31m4.6 MB/s\u001b[0m eta \u001b[36m0:00:00\u001b[0m\n",
            "\u001b[?25hRequirement already satisfied: threadpoolctl>=2.0.0 in /usr/local/lib/python3.9/dist-packages (from scikit-learn==1.0.1->accelerometer>=6.2.2->pyActigraphy) (3.1.0)\n",
            "Requirement already satisfied: python-dateutil>=2.8.1 in /usr/local/lib/python3.9/dist-packages (from pandas->pyActigraphy) (2.8.2)\n",
            "Requirement already satisfied: pytz>=2020.1 in /usr/local/lib/python3.9/dist-packages (from pandas->pyActigraphy) (2022.7.1)\n",
            "Requirement already satisfied: patsy>=0.5.2 in /usr/local/lib/python3.9/dist-packages (from statsmodels>=0.10->pyActigraphy) (0.5.3)\n",
            "Requirement already satisfied: packaging>=21.3 in /usr/local/lib/python3.9/dist-packages (from statsmodels>=0.10->pyActigraphy) (23.1)\n",
            "Collecting asteval>=0.9.28\n",
            "  Downloading asteval-0.9.29-py3-none-any.whl (18 kB)\n",
            "Collecting uncertainties>=3.1.4\n",
            "  Downloading uncertainties-3.1.7-py2.py3-none-any.whl (98 kB)\n",
            "\u001b[2K     \u001b[90m━━━━━━━━━━━━━━━━━━━━━━━━━━━━━━━━━━━━━━━━\u001b[0m \u001b[32m98.4/98.4 kB\u001b[0m \u001b[31m11.5 MB/s\u001b[0m eta \u001b[36m0:00:00\u001b[0m\n",
            "\u001b[?25hRequirement already satisfied: llvmlite<0.40,>=0.39.0dev0 in /usr/local/lib/python3.9/dist-packages (from numba->pyActigraphy) (0.39.1)\n",
            "Requirement already satisfied: setuptools in /usr/local/lib/python3.9/dist-packages (from numba->pyActigraphy) (67.7.2)\n",
            "Requirement already satisfied: tenacity>=6.2.0 in /usr/local/lib/python3.9/dist-packages (from plotly->pyActigraphy) (8.2.2)\n",
            "Requirement already satisfied: chardet in /usr/local/lib/python3.9/dist-packages (from pyexcel->pyActigraphy) (4.0.0)\n",
            "Collecting texttable>=0.8.2\n",
            "  Downloading texttable-1.6.7-py2.py3-none-any.whl (10 kB)\n",
            "Collecting pyexcel-io>=0.6.2\n",
            "  Downloading pyexcel_io-0.6.6-py2.py3-none-any.whl (44 kB)\n",
            "\u001b[2K     \u001b[90m━━━━━━━━━━━━━━━━━━━━━━━━━━━━━━━━━━━━━━━━\u001b[0m \u001b[32m44.2/44.2 kB\u001b[0m \u001b[31m4.5 MB/s\u001b[0m eta \u001b[36m0:00:00\u001b[0m\n",
            "\u001b[?25hCollecting lml>=0.0.4\n",
            "  Downloading lml-0.1.0-py2.py3-none-any.whl (10 kB)\n",
            "Collecting pyexcel-ezodf>=0.3.3\n",
            "  Downloading pyexcel_ezodf-0.3.4-py2.py3-none-any.whl (53 kB)\n",
            "\u001b[2K     \u001b[90m━━━━━━━━━━━━━━━━━━━━━━━━━━━━━━━━━━━━━━━━\u001b[0m \u001b[32m53.9/53.9 kB\u001b[0m \u001b[31m6.9 MB/s\u001b[0m eta \u001b[36m0:00:00\u001b[0m\n",
            "\u001b[?25hRequirement already satisfied: lxml in /usr/local/lib/python3.9/dist-packages (from pyexcel-ods3->pyActigraphy) (4.9.2)\n",
            "Requirement already satisfied: openpyxl>=2.6.1 in /usr/local/lib/python3.9/dist-packages (from pyexcel-xlsx->pyActigraphy) (3.0.10)\n",
            "Requirement already satisfied: et-xmlfile in /usr/local/lib/python3.9/dist-packages (from openpyxl>=2.6.1->pyexcel-xlsx->pyActigraphy) (1.1.0)\n",
            "Requirement already satisfied: six in /usr/local/lib/python3.9/dist-packages (from patsy>=0.5.2->statsmodels>=0.10->pyActigraphy) (1.16.0)\n",
            "Requirement already satisfied: future in /usr/local/lib/python3.9/dist-packages (from uncertainties>=3.1.4->lmfit->pyActigraphy) (0.18.3)\n",
            "Requirement already satisfied: pillow>=6.2.0 in /usr/local/lib/python3.9/dist-packages (from matplotlib->accelerometer>=6.2.2->pyActigraphy) (8.4.0)\n",
            "Requirement already satisfied: cycler>=0.10 in /usr/local/lib/python3.9/dist-packages (from matplotlib->accelerometer>=6.2.2->pyActigraphy) (0.11.0)\n",
            "Requirement already satisfied: contourpy>=1.0.1 in /usr/local/lib/python3.9/dist-packages (from matplotlib->accelerometer>=6.2.2->pyActigraphy) (1.0.7)\n",
            "Requirement already satisfied: fonttools>=4.22.0 in /usr/local/lib/python3.9/dist-packages (from matplotlib->accelerometer>=6.2.2->pyActigraphy) (4.39.3)\n",
            "Requirement already satisfied: pyparsing>=2.3.1 in /usr/local/lib/python3.9/dist-packages (from matplotlib->accelerometer>=6.2.2->pyActigraphy) (3.0.9)\n",
            "Requirement already satisfied: importlib-resources>=3.2.0 in /usr/local/lib/python3.9/dist-packages (from matplotlib->accelerometer>=6.2.2->pyActigraphy) (5.12.0)\n",
            "Requirement already satisfied: kiwisolver>=1.0.1 in /usr/local/lib/python3.9/dist-packages (from matplotlib->accelerometer>=6.2.2->pyActigraphy) (1.4.4)\n",
            "Requirement already satisfied: zipp>=3.1.0 in /usr/local/lib/python3.9/dist-packages (from importlib-resources>=3.2.0->matplotlib->accelerometer>=6.2.2->pyActigraphy) (3.15.0)\n",
            "Installing collected packages: texttable, lml, uncertainties, pyexcel-io, pyexcel-ezodf, joblib, asteval, stochastic, scikit-learn, pyexcel-xlsx, pyexcel-ods3, pyexcel, lmfit, spm1d, imbalanced-learn, accelerometer, pyActigraphy\n",
            "  Attempting uninstall: joblib\n",
            "    Found existing installation: joblib 1.2.0\n",
            "    Uninstalling joblib-1.2.0:\n",
            "      Successfully uninstalled joblib-1.2.0\n",
            "  Attempting uninstall: scikit-learn\n",
            "    Found existing installation: scikit-learn 1.2.2\n",
            "    Uninstalling scikit-learn-1.2.2:\n",
            "      Successfully uninstalled scikit-learn-1.2.2\n",
            "  Attempting uninstall: imbalanced-learn\n",
            "    Found existing installation: imbalanced-learn 0.10.1\n",
            "    Uninstalling imbalanced-learn-0.10.1:\n",
            "      Successfully uninstalled imbalanced-learn-0.10.1\n",
            "Successfully installed accelerometer-6.2.3 asteval-0.9.29 imbalanced-learn-0.8.1 joblib-1.1.0 lmfit-1.2.0 lml-0.1.0 pyActigraphy-1.2 pyexcel-0.7.0 pyexcel-ezodf-0.3.4 pyexcel-io-0.6.6 pyexcel-ods3-0.6.1 pyexcel-xlsx-0.6.0 scikit-learn-1.0.1 spm1d-0.4.18 stochastic-0.7.0 texttable-1.6.7 uncertainties-3.1.7\n"
          ]
        }
      ]
    },
    {
      "cell_type": "code",
      "source": [
        "import pyActigraphy\n",
        "import plotly.graph_objects as go\n",
        "import pandas as pd\n",
        "import numpy as np"
      ],
      "metadata": {
        "id": "yFpgyhygojO9"
      },
      "execution_count": null,
      "outputs": []
    },
    {
      "cell_type": "code",
      "source": [
        "import os\n",
        "fpath = os.path.join(os.path.dirname(pyActigraphy.__file__),'tests/data/')\n",
        "\n",
        "raw = pyActigraphy.io.read_raw_awd(fpath+'example_01.AWD')\n",
        "raw_allfiles = pyActigraphy.io.read_raw(fpath+'example_0*.AWD', reader_type='AWD') #importa todos os 6 exemplos disponíveis"
      ],
      "metadata": {
        "id": "eIXCsWAKpJoR"
      },
      "execution_count": null,
      "outputs": []
    },
    {
      "cell_type": "code",
      "source": [
        "len(raw_allfiles.readers)"
      ],
      "metadata": {
        "colab": {
          "base_uri": "https://localhost:8080/"
        },
        "id": "6H_pThFQqUCW",
        "outputId": "944eb268-e2d9-4dfe-f7df-6a52c6fdbc61"
      },
      "execution_count": null,
      "outputs": [
        {
          "output_type": "execute_result",
          "data": {
            "text/plain": [
              "6"
            ]
          },
          "metadata": {},
          "execution_count": 11
        }
      ]
    },
    {
      "cell_type": "code",
      "source": [
        "###propriedades de um arquivo:\n",
        "\n",
        "#help(raw)\n",
        "#dir(raw)\n",
        "#help(print)\n",
        "\n",
        "print(\"File name:\", raw.name)\n",
        "print(\"Start time of data acquisition:\", raw.start_time)\n",
        "print(\"Acquisition frequency:\", raw.frequency)\n",
        "print(\"Duration:\", raw.duration())\n",
        "print(\"Device:\", raw.uuid)\n",
        "print(\"Light metric:\", raw.light)\n"
      ],
      "metadata": {
        "colab": {
          "base_uri": "https://localhost:8080/"
        },
        "id": "lLnNmxTKq_6P",
        "outputId": "9c652822-b1fb-4d1f-cc9f-bd952e1bfd80"
      },
      "execution_count": null,
      "outputs": [
        {
          "output_type": "stream",
          "name": "stdout",
          "text": [
            "File name: example_01\n",
            "Start time of data acquisition: 1918-01-23 13:58:00\n",
            "Acquisition frequency: 0 days 00:01:00\n",
            "Duration: 12 days 18:41:00\n",
            "Device: V664055\n",
            "Light metric: None\n"
          ]
        }
      ]
    },
    {
      "cell_type": "code",
      "source": [
        "raw.data"
      ],
      "metadata": {
        "colab": {
          "base_uri": "https://localhost:8080/"
        },
        "id": "e2NsGyO5taJ9",
        "outputId": "5abd50ca-e371-47f4-86ac-b997cbaaa688"
      },
      "execution_count": null,
      "outputs": [
        {
          "output_type": "execute_result",
          "data": {
            "text/plain": [
              "1918-01-23 13:58:00      0\n",
              "1918-01-23 13:59:00      0\n",
              "1918-01-23 14:00:00      0\n",
              "1918-01-23 14:01:00    149\n",
              "1918-01-23 14:02:00    144\n",
              "                      ... \n",
              "1918-02-05 08:34:00      0\n",
              "1918-02-05 08:35:00      0\n",
              "1918-02-05 08:36:00      0\n",
              "1918-02-05 08:37:00      0\n",
              "1918-02-05 08:38:00      0\n",
              "Freq: 60S, Name: Activity, Length: 18401, dtype: int64"
            ]
          },
          "metadata": {},
          "execution_count": 26
        }
      ]
    },
    {
      "cell_type": "code",
      "source": [
        "#método de média diária do pyAct\n",
        "#help(raw.average_daily_activity)\n",
        "\n",
        "daily_profile = raw.average_daily_activity(freq='15min', cyclic=False, binarize=False)\n",
        "daily_profile"
      ],
      "metadata": {
        "colab": {
          "base_uri": "https://localhost:8080/"
        },
        "id": "3dKApNUzuCgT",
        "outputId": "f8d94d54-1eec-4c4f-9c12-2be691f3eb6f"
      },
      "execution_count": null,
      "outputs": [
        {
          "output_type": "execute_result",
          "data": {
            "text/plain": [
              "0 days 00:00:00     166.153846\n",
              "0 days 00:15:00     168.000000\n",
              "0 days 00:30:00     170.538462\n",
              "0 days 00:45:00     149.000000\n",
              "0 days 01:00:00     255.923077\n",
              "                      ...     \n",
              "0 days 22:45:00    1148.461538\n",
              "0 days 23:00:00    3710.307692\n",
              "0 days 23:15:00     443.846154\n",
              "0 days 23:30:00     236.000000\n",
              "0 days 23:45:00     727.615385\n",
              "Freq: 15T, Name: Activity, Length: 96, dtype: float64"
            ]
          },
          "metadata": {},
          "execution_count": 30
        }
      ]
    },
    {
      "cell_type": "code",
      "source": [
        "#sumarizando todos exemplos --pyLight\n",
        "\n",
        "for i in raw_allfiles.readers:\n",
        "  print('Name: {}, Duration: {}, Frequency: {}, Light: {}'.format(i.name, i.duration(), i.frequency, i.light))"
      ],
      "metadata": {
        "colab": {
          "base_uri": "https://localhost:8080/"
        },
        "id": "xzdmE93SukG1",
        "outputId": "47ab2f9c-1054-4a59-f8a0-ba9ee51935ba"
      },
      "execution_count": null,
      "outputs": [
        {
          "output_type": "stream",
          "name": "stdout",
          "text": [
            "Name: example_04, Duration: 21 days 17:39:00, Frequency: 0 days 00:01:00, Light: None\n",
            "Name: example_03, Duration: 14 days 21:36:00, Frequency: 0 days 00:01:00, Light: None\n",
            "Name: example_05, Duration: 15 days 01:43:00, Frequency: 0 days 00:01:00, Light: None\n",
            "Name: example_01, Duration: 12 days 18:41:00, Frequency: 0 days 00:01:00, Light: None\n",
            "Name: example_01_mask, Duration: 12 days 18:41:00, Frequency: 0 days 00:01:00, Light: None\n",
            "Name: example_02, Duration: 12 days 18:53:00, Frequency: 0 days 00:01:00, Light: None\n"
          ]
        }
      ]
    },
    {
      "cell_type": "code",
      "source": [
        "#importando dados teste\n",
        "\n",
        "from google.colab import files\n",
        "uploaded= files.upload()"
      ],
      "metadata": {
        "colab": {
          "base_uri": "https://localhost:8080/",
          "height": 73
        },
        "id": "XjrnME8JzDDp",
        "outputId": "61d70d48-2d2c-414e-f2de-41722523273f"
      },
      "execution_count": null,
      "outputs": [
        {
          "output_type": "display_data",
          "data": {
            "text/plain": [
              "<IPython.core.display.HTML object>"
            ],
            "text/html": [
              "\n",
              "     <input type=\"file\" id=\"files-b13d3ce4-6056-4a47-a638-140d2ff82035\" name=\"files[]\" multiple disabled\n",
              "        style=\"border:none\" />\n",
              "     <output id=\"result-b13d3ce4-6056-4a47-a638-140d2ff82035\">\n",
              "      Upload widget is only available when the cell has been executed in the\n",
              "      current browser session. Please rerun this cell to enable.\n",
              "      </output>\n",
              "      <script>// Copyright 2017 Google LLC\n",
              "//\n",
              "// Licensed under the Apache License, Version 2.0 (the \"License\");\n",
              "// you may not use this file except in compliance with the License.\n",
              "// You may obtain a copy of the License at\n",
              "//\n",
              "//      http://www.apache.org/licenses/LICENSE-2.0\n",
              "//\n",
              "// Unless required by applicable law or agreed to in writing, software\n",
              "// distributed under the License is distributed on an \"AS IS\" BASIS,\n",
              "// WITHOUT WARRANTIES OR CONDITIONS OF ANY KIND, either express or implied.\n",
              "// See the License for the specific language governing permissions and\n",
              "// limitations under the License.\n",
              "\n",
              "/**\n",
              " * @fileoverview Helpers for google.colab Python module.\n",
              " */\n",
              "(function(scope) {\n",
              "function span(text, styleAttributes = {}) {\n",
              "  const element = document.createElement('span');\n",
              "  element.textContent = text;\n",
              "  for (const key of Object.keys(styleAttributes)) {\n",
              "    element.style[key] = styleAttributes[key];\n",
              "  }\n",
              "  return element;\n",
              "}\n",
              "\n",
              "// Max number of bytes which will be uploaded at a time.\n",
              "const MAX_PAYLOAD_SIZE = 100 * 1024;\n",
              "\n",
              "function _uploadFiles(inputId, outputId) {\n",
              "  const steps = uploadFilesStep(inputId, outputId);\n",
              "  const outputElement = document.getElementById(outputId);\n",
              "  // Cache steps on the outputElement to make it available for the next call\n",
              "  // to uploadFilesContinue from Python.\n",
              "  outputElement.steps = steps;\n",
              "\n",
              "  return _uploadFilesContinue(outputId);\n",
              "}\n",
              "\n",
              "// This is roughly an async generator (not supported in the browser yet),\n",
              "// where there are multiple asynchronous steps and the Python side is going\n",
              "// to poll for completion of each step.\n",
              "// This uses a Promise to block the python side on completion of each step,\n",
              "// then passes the result of the previous step as the input to the next step.\n",
              "function _uploadFilesContinue(outputId) {\n",
              "  const outputElement = document.getElementById(outputId);\n",
              "  const steps = outputElement.steps;\n",
              "\n",
              "  const next = steps.next(outputElement.lastPromiseValue);\n",
              "  return Promise.resolve(next.value.promise).then((value) => {\n",
              "    // Cache the last promise value to make it available to the next\n",
              "    // step of the generator.\n",
              "    outputElement.lastPromiseValue = value;\n",
              "    return next.value.response;\n",
              "  });\n",
              "}\n",
              "\n",
              "/**\n",
              " * Generator function which is called between each async step of the upload\n",
              " * process.\n",
              " * @param {string} inputId Element ID of the input file picker element.\n",
              " * @param {string} outputId Element ID of the output display.\n",
              " * @return {!Iterable<!Object>} Iterable of next steps.\n",
              " */\n",
              "function* uploadFilesStep(inputId, outputId) {\n",
              "  const inputElement = document.getElementById(inputId);\n",
              "  inputElement.disabled = false;\n",
              "\n",
              "  const outputElement = document.getElementById(outputId);\n",
              "  outputElement.innerHTML = '';\n",
              "\n",
              "  const pickedPromise = new Promise((resolve) => {\n",
              "    inputElement.addEventListener('change', (e) => {\n",
              "      resolve(e.target.files);\n",
              "    });\n",
              "  });\n",
              "\n",
              "  const cancel = document.createElement('button');\n",
              "  inputElement.parentElement.appendChild(cancel);\n",
              "  cancel.textContent = 'Cancel upload';\n",
              "  const cancelPromise = new Promise((resolve) => {\n",
              "    cancel.onclick = () => {\n",
              "      resolve(null);\n",
              "    };\n",
              "  });\n",
              "\n",
              "  // Wait for the user to pick the files.\n",
              "  const files = yield {\n",
              "    promise: Promise.race([pickedPromise, cancelPromise]),\n",
              "    response: {\n",
              "      action: 'starting',\n",
              "    }\n",
              "  };\n",
              "\n",
              "  cancel.remove();\n",
              "\n",
              "  // Disable the input element since further picks are not allowed.\n",
              "  inputElement.disabled = true;\n",
              "\n",
              "  if (!files) {\n",
              "    return {\n",
              "      response: {\n",
              "        action: 'complete',\n",
              "      }\n",
              "    };\n",
              "  }\n",
              "\n",
              "  for (const file of files) {\n",
              "    const li = document.createElement('li');\n",
              "    li.append(span(file.name, {fontWeight: 'bold'}));\n",
              "    li.append(span(\n",
              "        `(${file.type || 'n/a'}) - ${file.size} bytes, ` +\n",
              "        `last modified: ${\n",
              "            file.lastModifiedDate ? file.lastModifiedDate.toLocaleDateString() :\n",
              "                                    'n/a'} - `));\n",
              "    const percent = span('0% done');\n",
              "    li.appendChild(percent);\n",
              "\n",
              "    outputElement.appendChild(li);\n",
              "\n",
              "    const fileDataPromise = new Promise((resolve) => {\n",
              "      const reader = new FileReader();\n",
              "      reader.onload = (e) => {\n",
              "        resolve(e.target.result);\n",
              "      };\n",
              "      reader.readAsArrayBuffer(file);\n",
              "    });\n",
              "    // Wait for the data to be ready.\n",
              "    let fileData = yield {\n",
              "      promise: fileDataPromise,\n",
              "      response: {\n",
              "        action: 'continue',\n",
              "      }\n",
              "    };\n",
              "\n",
              "    // Use a chunked sending to avoid message size limits. See b/62115660.\n",
              "    let position = 0;\n",
              "    do {\n",
              "      const length = Math.min(fileData.byteLength - position, MAX_PAYLOAD_SIZE);\n",
              "      const chunk = new Uint8Array(fileData, position, length);\n",
              "      position += length;\n",
              "\n",
              "      const base64 = btoa(String.fromCharCode.apply(null, chunk));\n",
              "      yield {\n",
              "        response: {\n",
              "          action: 'append',\n",
              "          file: file.name,\n",
              "          data: base64,\n",
              "        },\n",
              "      };\n",
              "\n",
              "      let percentDone = fileData.byteLength === 0 ?\n",
              "          100 :\n",
              "          Math.round((position / fileData.byteLength) * 100);\n",
              "      percent.textContent = `${percentDone}% done`;\n",
              "\n",
              "    } while (position < fileData.byteLength);\n",
              "  }\n",
              "\n",
              "  // All done.\n",
              "  yield {\n",
              "    response: {\n",
              "      action: 'complete',\n",
              "    }\n",
              "  };\n",
              "}\n",
              "\n",
              "scope.google = scope.google || {};\n",
              "scope.google.colab = scope.google.colab || {};\n",
              "scope.google.colab._files = {\n",
              "  _uploadFiles,\n",
              "  _uploadFilesContinue,\n",
              "};\n",
              "})(self);\n",
              "</script> "
            ]
          },
          "metadata": {}
        },
        {
          "output_type": "stream",
          "name": "stdout",
          "text": [
            "Saving teste.xlsx to teste.xlsx\n"
          ]
        }
      ]
    },
    {
      "cell_type": "code",
      "source": [
        "import io\n",
        "df = pd.read_excel(io.BytesIO(uploaded['teste.xlsx']))"
      ],
      "metadata": {
        "colab": {
          "base_uri": "https://localhost:8080/"
        },
        "id": "2-VNUBAozXy-",
        "outputId": "a69fdb5a-56aa-4f31-9fa7-d2529e0485ac"
      },
      "execution_count": null,
      "outputs": [
        {
          "output_type": "stream",
          "name": "stderr",
          "text": [
            "/usr/local/lib/python3.9/dist-packages/openpyxl/worksheet/_reader.py:312: UserWarning: Unknown extension is not supported and will be removed\n",
            "  warn(msg)\n"
          ]
        }
      ]
    },
    {
      "cell_type": "code",
      "source": [
        "df.head()"
      ],
      "metadata": {
        "colab": {
          "base_uri": "https://localhost:8080/",
          "height": 206
        },
        "id": "nlCF54oQzquB",
        "outputId": "c686e8d6-170e-4af8-a3db-d68b917213bf"
      },
      "execution_count": null,
      "outputs": [
        {
          "output_type": "execute_result",
          "data": {
            "text/plain": [
              "   time  activity  sleep\n",
              "0   0.0       NaN    NaN\n",
              "1  10.0       NaN    NaN\n",
              "2  20.0       NaN    NaN\n",
              "3  30.0       NaN    NaN\n",
              "4  40.0       NaN    NaN"
            ],
            "text/html": [
              "\n",
              "  <div id=\"df-be67ff3b-617e-475d-817f-ba8221d07928\">\n",
              "    <div class=\"colab-df-container\">\n",
              "      <div>\n",
              "<style scoped>\n",
              "    .dataframe tbody tr th:only-of-type {\n",
              "        vertical-align: middle;\n",
              "    }\n",
              "\n",
              "    .dataframe tbody tr th {\n",
              "        vertical-align: top;\n",
              "    }\n",
              "\n",
              "    .dataframe thead th {\n",
              "        text-align: right;\n",
              "    }\n",
              "</style>\n",
              "<table border=\"1\" class=\"dataframe\">\n",
              "  <thead>\n",
              "    <tr style=\"text-align: right;\">\n",
              "      <th></th>\n",
              "      <th>time</th>\n",
              "      <th>activity</th>\n",
              "      <th>sleep</th>\n",
              "    </tr>\n",
              "  </thead>\n",
              "  <tbody>\n",
              "    <tr>\n",
              "      <th>0</th>\n",
              "      <td>0.0</td>\n",
              "      <td>NaN</td>\n",
              "      <td>NaN</td>\n",
              "    </tr>\n",
              "    <tr>\n",
              "      <th>1</th>\n",
              "      <td>10.0</td>\n",
              "      <td>NaN</td>\n",
              "      <td>NaN</td>\n",
              "    </tr>\n",
              "    <tr>\n",
              "      <th>2</th>\n",
              "      <td>20.0</td>\n",
              "      <td>NaN</td>\n",
              "      <td>NaN</td>\n",
              "    </tr>\n",
              "    <tr>\n",
              "      <th>3</th>\n",
              "      <td>30.0</td>\n",
              "      <td>NaN</td>\n",
              "      <td>NaN</td>\n",
              "    </tr>\n",
              "    <tr>\n",
              "      <th>4</th>\n",
              "      <td>40.0</td>\n",
              "      <td>NaN</td>\n",
              "      <td>NaN</td>\n",
              "    </tr>\n",
              "  </tbody>\n",
              "</table>\n",
              "</div>\n",
              "      <button class=\"colab-df-convert\" onclick=\"convertToInteractive('df-be67ff3b-617e-475d-817f-ba8221d07928')\"\n",
              "              title=\"Convert this dataframe to an interactive table.\"\n",
              "              style=\"display:none;\">\n",
              "        \n",
              "  <svg xmlns=\"http://www.w3.org/2000/svg\" height=\"24px\"viewBox=\"0 0 24 24\"\n",
              "       width=\"24px\">\n",
              "    <path d=\"M0 0h24v24H0V0z\" fill=\"none\"/>\n",
              "    <path d=\"M18.56 5.44l.94 2.06.94-2.06 2.06-.94-2.06-.94-.94-2.06-.94 2.06-2.06.94zm-11 1L8.5 8.5l.94-2.06 2.06-.94-2.06-.94L8.5 2.5l-.94 2.06-2.06.94zm10 10l.94 2.06.94-2.06 2.06-.94-2.06-.94-.94-2.06-.94 2.06-2.06.94z\"/><path d=\"M17.41 7.96l-1.37-1.37c-.4-.4-.92-.59-1.43-.59-.52 0-1.04.2-1.43.59L10.3 9.45l-7.72 7.72c-.78.78-.78 2.05 0 2.83L4 21.41c.39.39.9.59 1.41.59.51 0 1.02-.2 1.41-.59l7.78-7.78 2.81-2.81c.8-.78.8-2.07 0-2.86zM5.41 20L4 18.59l7.72-7.72 1.47 1.35L5.41 20z\"/>\n",
              "  </svg>\n",
              "      </button>\n",
              "      \n",
              "  <style>\n",
              "    .colab-df-container {\n",
              "      display:flex;\n",
              "      flex-wrap:wrap;\n",
              "      gap: 12px;\n",
              "    }\n",
              "\n",
              "    .colab-df-convert {\n",
              "      background-color: #E8F0FE;\n",
              "      border: none;\n",
              "      border-radius: 50%;\n",
              "      cursor: pointer;\n",
              "      display: none;\n",
              "      fill: #1967D2;\n",
              "      height: 32px;\n",
              "      padding: 0 0 0 0;\n",
              "      width: 32px;\n",
              "    }\n",
              "\n",
              "    .colab-df-convert:hover {\n",
              "      background-color: #E2EBFA;\n",
              "      box-shadow: 0px 1px 2px rgba(60, 64, 67, 0.3), 0px 1px 3px 1px rgba(60, 64, 67, 0.15);\n",
              "      fill: #174EA6;\n",
              "    }\n",
              "\n",
              "    [theme=dark] .colab-df-convert {\n",
              "      background-color: #3B4455;\n",
              "      fill: #D2E3FC;\n",
              "    }\n",
              "\n",
              "    [theme=dark] .colab-df-convert:hover {\n",
              "      background-color: #434B5C;\n",
              "      box-shadow: 0px 1px 3px 1px rgba(0, 0, 0, 0.15);\n",
              "      filter: drop-shadow(0px 1px 2px rgba(0, 0, 0, 0.3));\n",
              "      fill: #FFFFFF;\n",
              "    }\n",
              "  </style>\n",
              "\n",
              "      <script>\n",
              "        const buttonEl =\n",
              "          document.querySelector('#df-be67ff3b-617e-475d-817f-ba8221d07928 button.colab-df-convert');\n",
              "        buttonEl.style.display =\n",
              "          google.colab.kernel.accessAllowed ? 'block' : 'none';\n",
              "\n",
              "        async function convertToInteractive(key) {\n",
              "          const element = document.querySelector('#df-be67ff3b-617e-475d-817f-ba8221d07928');\n",
              "          const dataTable =\n",
              "            await google.colab.kernel.invokeFunction('convertToInteractive',\n",
              "                                                     [key], {});\n",
              "          if (!dataTable) return;\n",
              "\n",
              "          const docLinkHtml = 'Like what you see? Visit the ' +\n",
              "            '<a target=\"_blank\" href=https://colab.research.google.com/notebooks/data_table.ipynb>data table notebook</a>'\n",
              "            + ' to learn more about interactive tables.';\n",
              "          element.innerHTML = '';\n",
              "          dataTable['output_type'] = 'display_data';\n",
              "          await google.colab.output.renderOutput(dataTable, element);\n",
              "          const docLink = document.createElement('div');\n",
              "          docLink.innerHTML = docLinkHtml;\n",
              "          element.appendChild(docLink);\n",
              "        }\n",
              "      </script>\n",
              "    </div>\n",
              "  </div>\n",
              "  "
            ]
          },
          "metadata": {},
          "execution_count": 44
        }
      ]
    },
    {
      "cell_type": "code",
      "source": [
        "df.describe()"
      ],
      "metadata": {
        "colab": {
          "base_uri": "https://localhost:8080/",
          "height": 300
        },
        "id": "LVmYqsZkzt5u",
        "outputId": "236446c8-f6ad-47ee-9f2e-5bcf31355e53"
      },
      "execution_count": null,
      "outputs": [
        {
          "output_type": "execute_result",
          "data": {
            "text/plain": [
              "              time      activity        sleep\n",
              "count   6102.00000   5556.000000  5558.000000\n",
              "mean   30505.00000   3531.402520     0.399604\n",
              "std    17616.40003   4883.050454     0.489861\n",
              "min        0.00000      0.000000     0.000000\n",
              "25%    15252.50000    133.350000     0.000000\n",
              "50%    30505.00000   1744.650000     0.000000\n",
              "75%    45757.50000   5263.825000     1.000000\n",
              "max    61010.00000  40332.700000     1.000000"
            ],
            "text/html": [
              "\n",
              "  <div id=\"df-f0603e4c-ce6f-4f02-9fab-f3343271874d\">\n",
              "    <div class=\"colab-df-container\">\n",
              "      <div>\n",
              "<style scoped>\n",
              "    .dataframe tbody tr th:only-of-type {\n",
              "        vertical-align: middle;\n",
              "    }\n",
              "\n",
              "    .dataframe tbody tr th {\n",
              "        vertical-align: top;\n",
              "    }\n",
              "\n",
              "    .dataframe thead th {\n",
              "        text-align: right;\n",
              "    }\n",
              "</style>\n",
              "<table border=\"1\" class=\"dataframe\">\n",
              "  <thead>\n",
              "    <tr style=\"text-align: right;\">\n",
              "      <th></th>\n",
              "      <th>time</th>\n",
              "      <th>activity</th>\n",
              "      <th>sleep</th>\n",
              "    </tr>\n",
              "  </thead>\n",
              "  <tbody>\n",
              "    <tr>\n",
              "      <th>count</th>\n",
              "      <td>6102.00000</td>\n",
              "      <td>5556.000000</td>\n",
              "      <td>5558.000000</td>\n",
              "    </tr>\n",
              "    <tr>\n",
              "      <th>mean</th>\n",
              "      <td>30505.00000</td>\n",
              "      <td>3531.402520</td>\n",
              "      <td>0.399604</td>\n",
              "    </tr>\n",
              "    <tr>\n",
              "      <th>std</th>\n",
              "      <td>17616.40003</td>\n",
              "      <td>4883.050454</td>\n",
              "      <td>0.489861</td>\n",
              "    </tr>\n",
              "    <tr>\n",
              "      <th>min</th>\n",
              "      <td>0.00000</td>\n",
              "      <td>0.000000</td>\n",
              "      <td>0.000000</td>\n",
              "    </tr>\n",
              "    <tr>\n",
              "      <th>25%</th>\n",
              "      <td>15252.50000</td>\n",
              "      <td>133.350000</td>\n",
              "      <td>0.000000</td>\n",
              "    </tr>\n",
              "    <tr>\n",
              "      <th>50%</th>\n",
              "      <td>30505.00000</td>\n",
              "      <td>1744.650000</td>\n",
              "      <td>0.000000</td>\n",
              "    </tr>\n",
              "    <tr>\n",
              "      <th>75%</th>\n",
              "      <td>45757.50000</td>\n",
              "      <td>5263.825000</td>\n",
              "      <td>1.000000</td>\n",
              "    </tr>\n",
              "    <tr>\n",
              "      <th>max</th>\n",
              "      <td>61010.00000</td>\n",
              "      <td>40332.700000</td>\n",
              "      <td>1.000000</td>\n",
              "    </tr>\n",
              "  </tbody>\n",
              "</table>\n",
              "</div>\n",
              "      <button class=\"colab-df-convert\" onclick=\"convertToInteractive('df-f0603e4c-ce6f-4f02-9fab-f3343271874d')\"\n",
              "              title=\"Convert this dataframe to an interactive table.\"\n",
              "              style=\"display:none;\">\n",
              "        \n",
              "  <svg xmlns=\"http://www.w3.org/2000/svg\" height=\"24px\"viewBox=\"0 0 24 24\"\n",
              "       width=\"24px\">\n",
              "    <path d=\"M0 0h24v24H0V0z\" fill=\"none\"/>\n",
              "    <path d=\"M18.56 5.44l.94 2.06.94-2.06 2.06-.94-2.06-.94-.94-2.06-.94 2.06-2.06.94zm-11 1L8.5 8.5l.94-2.06 2.06-.94-2.06-.94L8.5 2.5l-.94 2.06-2.06.94zm10 10l.94 2.06.94-2.06 2.06-.94-2.06-.94-.94-2.06-.94 2.06-2.06.94z\"/><path d=\"M17.41 7.96l-1.37-1.37c-.4-.4-.92-.59-1.43-.59-.52 0-1.04.2-1.43.59L10.3 9.45l-7.72 7.72c-.78.78-.78 2.05 0 2.83L4 21.41c.39.39.9.59 1.41.59.51 0 1.02-.2 1.41-.59l7.78-7.78 2.81-2.81c.8-.78.8-2.07 0-2.86zM5.41 20L4 18.59l7.72-7.72 1.47 1.35L5.41 20z\"/>\n",
              "  </svg>\n",
              "      </button>\n",
              "      \n",
              "  <style>\n",
              "    .colab-df-container {\n",
              "      display:flex;\n",
              "      flex-wrap:wrap;\n",
              "      gap: 12px;\n",
              "    }\n",
              "\n",
              "    .colab-df-convert {\n",
              "      background-color: #E8F0FE;\n",
              "      border: none;\n",
              "      border-radius: 50%;\n",
              "      cursor: pointer;\n",
              "      display: none;\n",
              "      fill: #1967D2;\n",
              "      height: 32px;\n",
              "      padding: 0 0 0 0;\n",
              "      width: 32px;\n",
              "    }\n",
              "\n",
              "    .colab-df-convert:hover {\n",
              "      background-color: #E2EBFA;\n",
              "      box-shadow: 0px 1px 2px rgba(60, 64, 67, 0.3), 0px 1px 3px 1px rgba(60, 64, 67, 0.15);\n",
              "      fill: #174EA6;\n",
              "    }\n",
              "\n",
              "    [theme=dark] .colab-df-convert {\n",
              "      background-color: #3B4455;\n",
              "      fill: #D2E3FC;\n",
              "    }\n",
              "\n",
              "    [theme=dark] .colab-df-convert:hover {\n",
              "      background-color: #434B5C;\n",
              "      box-shadow: 0px 1px 3px 1px rgba(0, 0, 0, 0.15);\n",
              "      filter: drop-shadow(0px 1px 2px rgba(0, 0, 0, 0.3));\n",
              "      fill: #FFFFFF;\n",
              "    }\n",
              "  </style>\n",
              "\n",
              "      <script>\n",
              "        const buttonEl =\n",
              "          document.querySelector('#df-f0603e4c-ce6f-4f02-9fab-f3343271874d button.colab-df-convert');\n",
              "        buttonEl.style.display =\n",
              "          google.colab.kernel.accessAllowed ? 'block' : 'none';\n",
              "\n",
              "        async function convertToInteractive(key) {\n",
              "          const element = document.querySelector('#df-f0603e4c-ce6f-4f02-9fab-f3343271874d');\n",
              "          const dataTable =\n",
              "            await google.colab.kernel.invokeFunction('convertToInteractive',\n",
              "                                                     [key], {});\n",
              "          if (!dataTable) return;\n",
              "\n",
              "          const docLinkHtml = 'Like what you see? Visit the ' +\n",
              "            '<a target=\"_blank\" href=https://colab.research.google.com/notebooks/data_table.ipynb>data table notebook</a>'\n",
              "            + ' to learn more about interactive tables.';\n",
              "          element.innerHTML = '';\n",
              "          dataTable['output_type'] = 'display_data';\n",
              "          await google.colab.output.renderOutput(dataTable, element);\n",
              "          const docLink = document.createElement('div');\n",
              "          docLink.innerHTML = docLinkHtml;\n",
              "          element.appendChild(docLink);\n",
              "        }\n",
              "      </script>\n",
              "    </div>\n",
              "  </div>\n",
              "  "
            ]
          },
          "metadata": {},
          "execution_count": 45
        }
      ]
    },
    {
      "cell_type": "code",
      "source": [
        "from pyActigraphy.io import BaseRaw\n",
        "\n",
        "raw = BaseRaw(\n",
        "    name=\"teste\", \n",
        "    uuid='DeviceId', \n",
        "    format='Pandas', \n",
        "    axial_mode=None,\n",
        "    start_time=df.index[0],\n",
        "    period=(df.index[-1]-df.index[0]),\n",
        "    frequency=0,\n",
        "    data=df['activity'],\n",
        "    light=0\n",
        ")\n",
        "\n",
        "#MASKS NA BIBLIOGRAFIA:\n",
        "#Set up a mask\n",
        "#Most devices that have a wear sensor return this information as a binary time series with \"1\" when the device is most likely not worn and \"0\" otherwise. In pyActigraphy, this information can be used to create a mask and thus invalidate the corresponding data points (set to \"0\" most probably). However, the mask, the value \"1\" correspond to \"no masking\". So, depending on your \"non-wear\" data, be careful to transform them appropriately:\n",
        "## Here, I assume that 0: the device is worn, 1: device not worn. \n",
        "# As mentioned aboce, for the mask, 1: no masking. (NB: it is a convolution: data*mask)\n",
        "#raw.mask = np.abs(data['Non-wear']-1)"
      ],
      "metadata": {
        "id": "uqz0M74Dz_NT"
      },
      "execution_count": null,
      "outputs": []
    },
    {
      "cell_type": "code",
      "source": [
        "raw.data"
      ],
      "metadata": {
        "colab": {
          "base_uri": "https://localhost:8080/"
        },
        "id": "3S-8iVrq1l2R",
        "outputId": "09604ba3-3483-4ae5-9070-075fb044fcf6"
      },
      "execution_count": null,
      "outputs": [
        {
          "output_type": "execute_result",
          "data": {
            "text/plain": [
              "0         NaN\n",
              "1         NaN\n",
              "2         NaN\n",
              "3         NaN\n",
              "4         NaN\n",
              "        ...  \n",
              "6099    138.0\n",
              "6100     69.1\n",
              "6101      1.2\n",
              "6102      NaN\n",
              "6103      NaN\n",
              "Name: activity, Length: 6104, dtype: float64"
            ]
          },
          "metadata": {},
          "execution_count": 58
        }
      ]
    },
    {
      "cell_type": "code",
      "source": [
        "raw.duration()"
      ],
      "metadata": {
        "colab": {
          "base_uri": "https://localhost:8080/"
        },
        "id": "A5rSDzCe2I7z",
        "outputId": "ebb693f1-82d4-441d-ef54-53f102a0537e"
      },
      "execution_count": null,
      "outputs": [
        {
          "output_type": "execute_result",
          "data": {
            "text/plain": [
              "0"
            ]
          },
          "metadata": {},
          "execution_count": 61
        }
      ]
    },
    {
      "cell_type": "markdown",
      "source": [
        "*plots*"
      ],
      "metadata": {
        "id": "UyNFLwX_2ogG"
      }
    },
    {
      "cell_type": "code",
      "source": [
        "layout = go.Layout(\n",
        "    title=\"Actigraphy data\",\n",
        "    xaxis=dict(title=\"Date time\"),\n",
        "    yaxis=dict(title=\"Counts/period\"),\n",
        "    showlegend=False\n",
        ")"
      ],
      "metadata": {
        "id": "ex0YIq-K2qAG"
      },
      "execution_count": null,
      "outputs": []
    },
    {
      "cell_type": "code",
      "source": [
        "go.Figure(data=[go.Scatter(x=raw.data.index.astype(str), y=raw.data)], layout=layout)"
      ],
      "metadata": {
        "colab": {
          "base_uri": "https://localhost:8080/",
          "height": 542
        },
        "id": "5ep8t2QR2sJ0",
        "outputId": "e9f1c37c-d639-4e08-ccbe-663fb3f630a4"
      },
      "execution_count": null,
      "outputs": [
        {
          "output_type": "display_data",
          "data": {
            "text/html": [
              "<html>\n",
              "<head><meta charset=\"utf-8\" /></head>\n",
              "<body>\n",
              "    <div>            <script src=\"https://cdnjs.cloudflare.com/ajax/libs/mathjax/2.7.5/MathJax.js?config=TeX-AMS-MML_SVG\"></script><script type=\"text/javascript\">if (window.MathJax && window.MathJax.Hub && window.MathJax.Hub.Config) {window.MathJax.Hub.Config({SVG: {font: \"STIX-Web\"}});}</script>                <script type=\"text/javascript\">window.PlotlyConfig = {MathJaxConfig: 'local'};</script>\n",
              "        <script src=\"https://cdn.plot.ly/plotly-2.18.2.min.js\"></script>                <div id=\"42bcfb59-ca99-40bf-8355-90bdd8370922\" class=\"plotly-graph-div\" style=\"height:525px; width:100%;\"></div>            <script type=\"text/javascript\">                                    window.PLOTLYENV=window.PLOTLYENV || {};                                    if (document.getElementById(\"42bcfb59-ca99-40bf-8355-90bdd8370922\")) {                    Plotly.newPlot(                        \"42bcfb59-ca99-40bf-8355-90bdd8370922\",                        [{\"x\":[\"0\",\"1\",\"2\",\"3\",\"4\",\"5\",\"6\",\"7\",\"8\",\"9\",\"10\",\"11\",\"12\",\"13\",\"14\",\"15\",\"16\",\"17\",\"18\",\"19\",\"20\",\"21\",\"22\",\"23\",\"24\",\"25\",\"26\",\"27\",\"28\",\"29\",\"30\",\"31\",\"32\",\"33\",\"34\",\"35\",\"36\",\"37\",\"38\",\"39\",\"40\",\"41\",\"42\",\"43\",\"44\",\"45\",\"46\",\"47\",\"48\",\"49\",\"50\",\"51\",\"52\",\"53\",\"54\",\"55\",\"56\",\"57\",\"58\",\"59\",\"60\",\"61\",\"62\",\"63\",\"64\",\"65\",\"66\",\"67\",\"68\",\"69\",\"70\",\"71\",\"72\",\"73\",\"74\",\"75\",\"76\",\"77\",\"78\",\"79\",\"80\",\"81\",\"82\",\"83\",\"84\",\"85\",\"86\",\"87\",\"88\",\"89\",\"90\",\"91\",\"92\",\"93\",\"94\",\"95\",\"96\",\"97\",\"98\",\"99\",\"100\",\"101\",\"102\",\"103\",\"104\",\"105\",\"106\",\"107\",\"108\",\"109\",\"110\",\"111\",\"112\",\"113\",\"114\",\"115\",\"116\",\"117\",\"118\",\"119\",\"120\",\"121\",\"122\",\"123\",\"124\",\"125\",\"126\",\"127\",\"128\",\"129\",\"130\",\"131\",\"132\",\"133\",\"134\",\"135\",\"136\",\"137\",\"138\",\"139\",\"140\",\"141\",\"142\",\"143\",\"144\",\"145\",\"146\",\"147\",\"148\",\"149\",\"150\",\"151\",\"152\",\"153\",\"154\",\"155\",\"156\",\"157\",\"158\",\"159\",\"160\",\"161\",\"162\",\"163\",\"164\",\"165\",\"166\",\"167\",\"168\",\"169\",\"170\",\"171\",\"172\",\"173\",\"174\",\"175\",\"176\",\"177\",\"178\",\"179\",\"180\",\"181\",\"182\",\"183\",\"184\",\"185\",\"186\",\"187\",\"188\",\"189\",\"190\",\"191\",\"192\",\"193\",\"194\",\"195\",\"196\",\"197\",\"198\",\"199\",\"200\",\"201\",\"202\",\"203\",\"204\",\"205\",\"206\",\"207\",\"208\",\"209\",\"210\",\"211\",\"212\",\"213\",\"214\",\"215\",\"216\",\"217\",\"218\",\"219\",\"220\",\"221\",\"222\",\"223\",\"224\",\"225\",\"226\",\"227\",\"228\",\"229\",\"230\",\"231\",\"232\",\"233\",\"234\",\"235\",\"236\",\"237\",\"238\",\"239\",\"240\",\"241\",\"242\",\"243\",\"244\",\"245\",\"246\",\"247\",\"248\",\"249\",\"250\",\"251\",\"252\",\"253\",\"254\",\"255\",\"256\",\"257\",\"258\",\"259\",\"260\",\"261\",\"262\",\"263\",\"264\",\"265\",\"266\",\"267\",\"268\",\"269\",\"270\",\"271\",\"272\",\"273\",\"274\",\"275\",\"276\",\"277\",\"278\",\"279\",\"280\",\"281\",\"282\",\"283\",\"284\",\"285\",\"286\",\"287\",\"288\",\"289\",\"290\",\"291\",\"292\",\"293\",\"294\",\"295\",\"296\",\"297\",\"298\",\"299\",\"300\",\"301\",\"302\",\"303\",\"304\",\"305\",\"306\",\"307\",\"308\",\"309\",\"310\",\"311\",\"312\",\"313\",\"314\",\"315\",\"316\",\"317\",\"318\",\"319\",\"320\",\"321\",\"322\",\"323\",\"324\",\"325\",\"326\",\"327\",\"328\",\"329\",\"330\",\"331\",\"332\",\"333\",\"334\",\"335\",\"336\",\"337\",\"338\",\"339\",\"340\",\"341\",\"342\",\"343\",\"344\",\"345\",\"346\",\"347\",\"348\",\"349\",\"350\",\"351\",\"352\",\"353\",\"354\",\"355\",\"356\",\"357\",\"358\",\"359\",\"360\",\"361\",\"362\",\"363\",\"364\",\"365\",\"366\",\"367\",\"368\",\"369\",\"370\",\"371\",\"372\",\"373\",\"374\",\"375\",\"376\",\"377\",\"378\",\"379\",\"380\",\"381\",\"382\",\"383\",\"384\",\"385\",\"386\",\"387\",\"388\",\"389\",\"390\",\"391\",\"392\",\"393\",\"394\",\"395\",\"396\",\"397\",\"398\",\"399\",\"400\",\"401\",\"402\",\"403\",\"404\",\"405\",\"406\",\"407\",\"408\",\"409\",\"410\",\"411\",\"412\",\"413\",\"414\",\"415\",\"416\",\"417\",\"418\",\"419\",\"420\",\"421\",\"422\",\"423\",\"424\",\"425\",\"426\",\"427\",\"428\",\"429\",\"430\",\"431\",\"432\",\"433\",\"434\",\"435\",\"436\",\"437\",\"438\",\"439\",\"440\",\"441\",\"442\",\"443\",\"444\",\"445\",\"446\",\"447\",\"448\",\"449\",\"450\",\"451\",\"452\",\"453\",\"454\",\"455\",\"456\",\"457\",\"458\",\"459\",\"460\",\"461\",\"462\",\"463\",\"464\",\"465\",\"466\",\"467\",\"468\",\"469\",\"470\",\"471\",\"472\",\"473\",\"474\",\"475\",\"476\",\"477\",\"478\",\"479\",\"480\",\"481\",\"482\",\"483\",\"484\",\"485\",\"486\",\"487\",\"488\",\"489\",\"490\",\"491\",\"492\",\"493\",\"494\",\"495\",\"496\",\"497\",\"498\",\"499\",\"500\",\"501\",\"502\",\"503\",\"504\",\"505\",\"506\",\"507\",\"508\",\"509\",\"510\",\"511\",\"512\",\"513\",\"514\",\"515\",\"516\",\"517\",\"518\",\"519\",\"520\",\"521\",\"522\",\"523\",\"524\",\"525\",\"526\",\"527\",\"528\",\"529\",\"530\",\"531\",\"532\",\"533\",\"534\",\"535\",\"536\",\"537\",\"538\",\"539\",\"540\",\"541\",\"542\",\"543\",\"544\",\"545\",\"546\",\"547\",\"548\",\"549\",\"550\",\"551\",\"552\",\"553\",\"554\",\"555\",\"556\",\"557\",\"558\",\"559\",\"560\",\"561\",\"562\",\"563\",\"564\",\"565\",\"566\",\"567\",\"568\",\"569\",\"570\",\"571\",\"572\",\"573\",\"574\",\"575\",\"576\",\"577\",\"578\",\"579\",\"580\",\"581\",\"582\",\"583\",\"584\",\"585\",\"586\",\"587\",\"588\",\"589\",\"590\",\"591\",\"592\",\"593\",\"594\",\"595\",\"596\",\"597\",\"598\",\"599\",\"600\",\"601\",\"602\",\"603\",\"604\",\"605\",\"606\",\"607\",\"608\",\"609\",\"610\",\"611\",\"612\",\"613\",\"614\",\"615\",\"616\",\"617\",\"618\",\"619\",\"620\",\"621\",\"622\",\"623\",\"624\",\"625\",\"626\",\"627\",\"628\",\"629\",\"630\",\"631\",\"632\",\"633\",\"634\",\"635\",\"636\",\"637\",\"638\",\"639\",\"640\",\"641\",\"642\",\"643\",\"644\",\"645\",\"646\",\"647\",\"648\",\"649\",\"650\",\"651\",\"652\",\"653\",\"654\",\"655\",\"656\",\"657\",\"658\",\"659\",\"660\",\"661\",\"662\",\"663\",\"664\",\"665\",\"666\",\"667\",\"668\",\"669\",\"670\",\"671\",\"672\",\"673\",\"674\",\"675\",\"676\",\"677\",\"678\",\"679\",\"680\",\"681\",\"682\",\"683\",\"684\",\"685\",\"686\",\"687\",\"688\",\"689\",\"690\",\"691\",\"692\",\"693\",\"694\",\"695\",\"696\",\"697\",\"698\",\"699\",\"700\",\"701\",\"702\",\"703\",\"704\",\"705\",\"706\",\"707\",\"708\",\"709\",\"710\",\"711\",\"712\",\"713\",\"714\",\"715\",\"716\",\"717\",\"718\",\"719\",\"720\",\"721\",\"722\",\"723\",\"724\",\"725\",\"726\",\"727\",\"728\",\"729\",\"730\",\"731\",\"732\",\"733\",\"734\",\"735\",\"736\",\"737\",\"738\",\"739\",\"740\",\"741\",\"742\",\"743\",\"744\",\"745\",\"746\",\"747\",\"748\",\"749\",\"750\",\"751\",\"752\",\"753\",\"754\",\"755\",\"756\",\"757\",\"758\",\"759\",\"760\",\"761\",\"762\",\"763\",\"764\",\"765\",\"766\",\"767\",\"768\",\"769\",\"770\",\"771\",\"772\",\"773\",\"774\",\"775\",\"776\",\"777\",\"778\",\"779\",\"780\",\"781\",\"782\",\"783\",\"784\",\"785\",\"786\",\"787\",\"788\",\"789\",\"790\",\"791\",\"792\",\"793\",\"794\",\"795\",\"796\",\"797\",\"798\",\"799\",\"800\",\"801\",\"802\",\"803\",\"804\",\"805\",\"806\",\"807\",\"808\",\"809\",\"810\",\"811\",\"812\",\"813\",\"814\",\"815\",\"816\",\"817\",\"818\",\"819\",\"820\",\"821\",\"822\",\"823\",\"824\",\"825\",\"826\",\"827\",\"828\",\"829\",\"830\",\"831\",\"832\",\"833\",\"834\",\"835\",\"836\",\"837\",\"838\",\"839\",\"840\",\"841\",\"842\",\"843\",\"844\",\"845\",\"846\",\"847\",\"848\",\"849\",\"850\",\"851\",\"852\",\"853\",\"854\",\"855\",\"856\",\"857\",\"858\",\"859\",\"860\",\"861\",\"862\",\"863\",\"864\",\"865\",\"866\",\"867\",\"868\",\"869\",\"870\",\"871\",\"872\",\"873\",\"874\",\"875\",\"876\",\"877\",\"878\",\"879\",\"880\",\"881\",\"882\",\"883\",\"884\",\"885\",\"886\",\"887\",\"888\",\"889\",\"890\",\"891\",\"892\",\"893\",\"894\",\"895\",\"896\",\"897\",\"898\",\"899\",\"900\",\"901\",\"902\",\"903\",\"904\",\"905\",\"906\",\"907\",\"908\",\"909\",\"910\",\"911\",\"912\",\"913\",\"914\",\"915\",\"916\",\"917\",\"918\",\"919\",\"920\",\"921\",\"922\",\"923\",\"924\",\"925\",\"926\",\"927\",\"928\",\"929\",\"930\",\"931\",\"932\",\"933\",\"934\",\"935\",\"936\",\"937\",\"938\",\"939\",\"940\",\"941\",\"942\",\"943\",\"944\",\"945\",\"946\",\"947\",\"948\",\"949\",\"950\",\"951\",\"952\",\"953\",\"954\",\"955\",\"956\",\"957\",\"958\",\"959\",\"960\",\"961\",\"962\",\"963\",\"964\",\"965\",\"966\",\"967\",\"968\",\"969\",\"970\",\"971\",\"972\",\"973\",\"974\",\"975\",\"976\",\"977\",\"978\",\"979\",\"980\",\"981\",\"982\",\"983\",\"984\",\"985\",\"986\",\"987\",\"988\",\"989\",\"990\",\"991\",\"992\",\"993\",\"994\",\"995\",\"996\",\"997\",\"998\",\"999\",\"1000\",\"1001\",\"1002\",\"1003\",\"1004\",\"1005\",\"1006\",\"1007\",\"1008\",\"1009\",\"1010\",\"1011\",\"1012\",\"1013\",\"1014\",\"1015\",\"1016\",\"1017\",\"1018\",\"1019\",\"1020\",\"1021\",\"1022\",\"1023\",\"1024\",\"1025\",\"1026\",\"1027\",\"1028\",\"1029\",\"1030\",\"1031\",\"1032\",\"1033\",\"1034\",\"1035\",\"1036\",\"1037\",\"1038\",\"1039\",\"1040\",\"1041\",\"1042\",\"1043\",\"1044\",\"1045\",\"1046\",\"1047\",\"1048\",\"1049\",\"1050\",\"1051\",\"1052\",\"1053\",\"1054\",\"1055\",\"1056\",\"1057\",\"1058\",\"1059\",\"1060\",\"1061\",\"1062\",\"1063\",\"1064\",\"1065\",\"1066\",\"1067\",\"1068\",\"1069\",\"1070\",\"1071\",\"1072\",\"1073\",\"1074\",\"1075\",\"1076\",\"1077\",\"1078\",\"1079\",\"1080\",\"1081\",\"1082\",\"1083\",\"1084\",\"1085\",\"1086\",\"1087\",\"1088\",\"1089\",\"1090\",\"1091\",\"1092\",\"1093\",\"1094\",\"1095\",\"1096\",\"1097\",\"1098\",\"1099\",\"1100\",\"1101\",\"1102\",\"1103\",\"1104\",\"1105\",\"1106\",\"1107\",\"1108\",\"1109\",\"1110\",\"1111\",\"1112\",\"1113\",\"1114\",\"1115\",\"1116\",\"1117\",\"1118\",\"1119\",\"1120\",\"1121\",\"1122\",\"1123\",\"1124\",\"1125\",\"1126\",\"1127\",\"1128\",\"1129\",\"1130\",\"1131\",\"1132\",\"1133\",\"1134\",\"1135\",\"1136\",\"1137\",\"1138\",\"1139\",\"1140\",\"1141\",\"1142\",\"1143\",\"1144\",\"1145\",\"1146\",\"1147\",\"1148\",\"1149\",\"1150\",\"1151\",\"1152\",\"1153\",\"1154\",\"1155\",\"1156\",\"1157\",\"1158\",\"1159\",\"1160\",\"1161\",\"1162\",\"1163\",\"1164\",\"1165\",\"1166\",\"1167\",\"1168\",\"1169\",\"1170\",\"1171\",\"1172\",\"1173\",\"1174\",\"1175\",\"1176\",\"1177\",\"1178\",\"1179\",\"1180\",\"1181\",\"1182\",\"1183\",\"1184\",\"1185\",\"1186\",\"1187\",\"1188\",\"1189\",\"1190\",\"1191\",\"1192\",\"1193\",\"1194\",\"1195\",\"1196\",\"1197\",\"1198\",\"1199\",\"1200\",\"1201\",\"1202\",\"1203\",\"1204\",\"1205\",\"1206\",\"1207\",\"1208\",\"1209\",\"1210\",\"1211\",\"1212\",\"1213\",\"1214\",\"1215\",\"1216\",\"1217\",\"1218\",\"1219\",\"1220\",\"1221\",\"1222\",\"1223\",\"1224\",\"1225\",\"1226\",\"1227\",\"1228\",\"1229\",\"1230\",\"1231\",\"1232\",\"1233\",\"1234\",\"1235\",\"1236\",\"1237\",\"1238\",\"1239\",\"1240\",\"1241\",\"1242\",\"1243\",\"1244\",\"1245\",\"1246\",\"1247\",\"1248\",\"1249\",\"1250\",\"1251\",\"1252\",\"1253\",\"1254\",\"1255\",\"1256\",\"1257\",\"1258\",\"1259\",\"1260\",\"1261\",\"1262\",\"1263\",\"1264\",\"1265\",\"1266\",\"1267\",\"1268\",\"1269\",\"1270\",\"1271\",\"1272\",\"1273\",\"1274\",\"1275\",\"1276\",\"1277\",\"1278\",\"1279\",\"1280\",\"1281\",\"1282\",\"1283\",\"1284\",\"1285\",\"1286\",\"1287\",\"1288\",\"1289\",\"1290\",\"1291\",\"1292\",\"1293\",\"1294\",\"1295\",\"1296\",\"1297\",\"1298\",\"1299\",\"1300\",\"1301\",\"1302\",\"1303\",\"1304\",\"1305\",\"1306\",\"1307\",\"1308\",\"1309\",\"1310\",\"1311\",\"1312\",\"1313\",\"1314\",\"1315\",\"1316\",\"1317\",\"1318\",\"1319\",\"1320\",\"1321\",\"1322\",\"1323\",\"1324\",\"1325\",\"1326\",\"1327\",\"1328\",\"1329\",\"1330\",\"1331\",\"1332\",\"1333\",\"1334\",\"1335\",\"1336\",\"1337\",\"1338\",\"1339\",\"1340\",\"1341\",\"1342\",\"1343\",\"1344\",\"1345\",\"1346\",\"1347\",\"1348\",\"1349\",\"1350\",\"1351\",\"1352\",\"1353\",\"1354\",\"1355\",\"1356\",\"1357\",\"1358\",\"1359\",\"1360\",\"1361\",\"1362\",\"1363\",\"1364\",\"1365\",\"1366\",\"1367\",\"1368\",\"1369\",\"1370\",\"1371\",\"1372\",\"1373\",\"1374\",\"1375\",\"1376\",\"1377\",\"1378\",\"1379\",\"1380\",\"1381\",\"1382\",\"1383\",\"1384\",\"1385\",\"1386\",\"1387\",\"1388\",\"1389\",\"1390\",\"1391\",\"1392\",\"1393\",\"1394\",\"1395\",\"1396\",\"1397\",\"1398\",\"1399\",\"1400\",\"1401\",\"1402\",\"1403\",\"1404\",\"1405\",\"1406\",\"1407\",\"1408\",\"1409\",\"1410\",\"1411\",\"1412\",\"1413\",\"1414\",\"1415\",\"1416\",\"1417\",\"1418\",\"1419\",\"1420\",\"1421\",\"1422\",\"1423\",\"1424\",\"1425\",\"1426\",\"1427\",\"1428\",\"1429\",\"1430\",\"1431\",\"1432\",\"1433\",\"1434\",\"1435\",\"1436\",\"1437\",\"1438\",\"1439\",\"1440\",\"1441\",\"1442\",\"1443\",\"1444\",\"1445\",\"1446\",\"1447\",\"1448\",\"1449\",\"1450\",\"1451\",\"1452\",\"1453\",\"1454\",\"1455\",\"1456\",\"1457\",\"1458\",\"1459\",\"1460\",\"1461\",\"1462\",\"1463\",\"1464\",\"1465\",\"1466\",\"1467\",\"1468\",\"1469\",\"1470\",\"1471\",\"1472\",\"1473\",\"1474\",\"1475\",\"1476\",\"1477\",\"1478\",\"1479\",\"1480\",\"1481\",\"1482\",\"1483\",\"1484\",\"1485\",\"1486\",\"1487\",\"1488\",\"1489\",\"1490\",\"1491\",\"1492\",\"1493\",\"1494\",\"1495\",\"1496\",\"1497\",\"1498\",\"1499\",\"1500\",\"1501\",\"1502\",\"1503\",\"1504\",\"1505\",\"1506\",\"1507\",\"1508\",\"1509\",\"1510\",\"1511\",\"1512\",\"1513\",\"1514\",\"1515\",\"1516\",\"1517\",\"1518\",\"1519\",\"1520\",\"1521\",\"1522\",\"1523\",\"1524\",\"1525\",\"1526\",\"1527\",\"1528\",\"1529\",\"1530\",\"1531\",\"1532\",\"1533\",\"1534\",\"1535\",\"1536\",\"1537\",\"1538\",\"1539\",\"1540\",\"1541\",\"1542\",\"1543\",\"1544\",\"1545\",\"1546\",\"1547\",\"1548\",\"1549\",\"1550\",\"1551\",\"1552\",\"1553\",\"1554\",\"1555\",\"1556\",\"1557\",\"1558\",\"1559\",\"1560\",\"1561\",\"1562\",\"1563\",\"1564\",\"1565\",\"1566\",\"1567\",\"1568\",\"1569\",\"1570\",\"1571\",\"1572\",\"1573\",\"1574\",\"1575\",\"1576\",\"1577\",\"1578\",\"1579\",\"1580\",\"1581\",\"1582\",\"1583\",\"1584\",\"1585\",\"1586\",\"1587\",\"1588\",\"1589\",\"1590\",\"1591\",\"1592\",\"1593\",\"1594\",\"1595\",\"1596\",\"1597\",\"1598\",\"1599\",\"1600\",\"1601\",\"1602\",\"1603\",\"1604\",\"1605\",\"1606\",\"1607\",\"1608\",\"1609\",\"1610\",\"1611\",\"1612\",\"1613\",\"1614\",\"1615\",\"1616\",\"1617\",\"1618\",\"1619\",\"1620\",\"1621\",\"1622\",\"1623\",\"1624\",\"1625\",\"1626\",\"1627\",\"1628\",\"1629\",\"1630\",\"1631\",\"1632\",\"1633\",\"1634\",\"1635\",\"1636\",\"1637\",\"1638\",\"1639\",\"1640\",\"1641\",\"1642\",\"1643\",\"1644\",\"1645\",\"1646\",\"1647\",\"1648\",\"1649\",\"1650\",\"1651\",\"1652\",\"1653\",\"1654\",\"1655\",\"1656\",\"1657\",\"1658\",\"1659\",\"1660\",\"1661\",\"1662\",\"1663\",\"1664\",\"1665\",\"1666\",\"1667\",\"1668\",\"1669\",\"1670\",\"1671\",\"1672\",\"1673\",\"1674\",\"1675\",\"1676\",\"1677\",\"1678\",\"1679\",\"1680\",\"1681\",\"1682\",\"1683\",\"1684\",\"1685\",\"1686\",\"1687\",\"1688\",\"1689\",\"1690\",\"1691\",\"1692\",\"1693\",\"1694\",\"1695\",\"1696\",\"1697\",\"1698\",\"1699\",\"1700\",\"1701\",\"1702\",\"1703\",\"1704\",\"1705\",\"1706\",\"1707\",\"1708\",\"1709\",\"1710\",\"1711\",\"1712\",\"1713\",\"1714\",\"1715\",\"1716\",\"1717\",\"1718\",\"1719\",\"1720\",\"1721\",\"1722\",\"1723\",\"1724\",\"1725\",\"1726\",\"1727\",\"1728\",\"1729\",\"1730\",\"1731\",\"1732\",\"1733\",\"1734\",\"1735\",\"1736\",\"1737\",\"1738\",\"1739\",\"1740\",\"1741\",\"1742\",\"1743\",\"1744\",\"1745\",\"1746\",\"1747\",\"1748\",\"1749\",\"1750\",\"1751\",\"1752\",\"1753\",\"1754\",\"1755\",\"1756\",\"1757\",\"1758\",\"1759\",\"1760\",\"1761\",\"1762\",\"1763\",\"1764\",\"1765\",\"1766\",\"1767\",\"1768\",\"1769\",\"1770\",\"1771\",\"1772\",\"1773\",\"1774\",\"1775\",\"1776\",\"1777\",\"1778\",\"1779\",\"1780\",\"1781\",\"1782\",\"1783\",\"1784\",\"1785\",\"1786\",\"1787\",\"1788\",\"1789\",\"1790\",\"1791\",\"1792\",\"1793\",\"1794\",\"1795\",\"1796\",\"1797\",\"1798\",\"1799\",\"1800\",\"1801\",\"1802\",\"1803\",\"1804\",\"1805\",\"1806\",\"1807\",\"1808\",\"1809\",\"1810\",\"1811\",\"1812\",\"1813\",\"1814\",\"1815\",\"1816\",\"1817\",\"1818\",\"1819\",\"1820\",\"1821\",\"1822\",\"1823\",\"1824\",\"1825\",\"1826\",\"1827\",\"1828\",\"1829\",\"1830\",\"1831\",\"1832\",\"1833\",\"1834\",\"1835\",\"1836\",\"1837\",\"1838\",\"1839\",\"1840\",\"1841\",\"1842\",\"1843\",\"1844\",\"1845\",\"1846\",\"1847\",\"1848\",\"1849\",\"1850\",\"1851\",\"1852\",\"1853\",\"1854\",\"1855\",\"1856\",\"1857\",\"1858\",\"1859\",\"1860\",\"1861\",\"1862\",\"1863\",\"1864\",\"1865\",\"1866\",\"1867\",\"1868\",\"1869\",\"1870\",\"1871\",\"1872\",\"1873\",\"1874\",\"1875\",\"1876\",\"1877\",\"1878\",\"1879\",\"1880\",\"1881\",\"1882\",\"1883\",\"1884\",\"1885\",\"1886\",\"1887\",\"1888\",\"1889\",\"1890\",\"1891\",\"1892\",\"1893\",\"1894\",\"1895\",\"1896\",\"1897\",\"1898\",\"1899\",\"1900\",\"1901\",\"1902\",\"1903\",\"1904\",\"1905\",\"1906\",\"1907\",\"1908\",\"1909\",\"1910\",\"1911\",\"1912\",\"1913\",\"1914\",\"1915\",\"1916\",\"1917\",\"1918\",\"1919\",\"1920\",\"1921\",\"1922\",\"1923\",\"1924\",\"1925\",\"1926\",\"1927\",\"1928\",\"1929\",\"1930\",\"1931\",\"1932\",\"1933\",\"1934\",\"1935\",\"1936\",\"1937\",\"1938\",\"1939\",\"1940\",\"1941\",\"1942\",\"1943\",\"1944\",\"1945\",\"1946\",\"1947\",\"1948\",\"1949\",\"1950\",\"1951\",\"1952\",\"1953\",\"1954\",\"1955\",\"1956\",\"1957\",\"1958\",\"1959\",\"1960\",\"1961\",\"1962\",\"1963\",\"1964\",\"1965\",\"1966\",\"1967\",\"1968\",\"1969\",\"1970\",\"1971\",\"1972\",\"1973\",\"1974\",\"1975\",\"1976\",\"1977\",\"1978\",\"1979\",\"1980\",\"1981\",\"1982\",\"1983\",\"1984\",\"1985\",\"1986\",\"1987\",\"1988\",\"1989\",\"1990\",\"1991\",\"1992\",\"1993\",\"1994\",\"1995\",\"1996\",\"1997\",\"1998\",\"1999\",\"2000\",\"2001\",\"2002\",\"2003\",\"2004\",\"2005\",\"2006\",\"2007\",\"2008\",\"2009\",\"2010\",\"2011\",\"2012\",\"2013\",\"2014\",\"2015\",\"2016\",\"2017\",\"2018\",\"2019\",\"2020\",\"2021\",\"2022\",\"2023\",\"2024\",\"2025\",\"2026\",\"2027\",\"2028\",\"2029\",\"2030\",\"2031\",\"2032\",\"2033\",\"2034\",\"2035\",\"2036\",\"2037\",\"2038\",\"2039\",\"2040\",\"2041\",\"2042\",\"2043\",\"2044\",\"2045\",\"2046\",\"2047\",\"2048\",\"2049\",\"2050\",\"2051\",\"2052\",\"2053\",\"2054\",\"2055\",\"2056\",\"2057\",\"2058\",\"2059\",\"2060\",\"2061\",\"2062\",\"2063\",\"2064\",\"2065\",\"2066\",\"2067\",\"2068\",\"2069\",\"2070\",\"2071\",\"2072\",\"2073\",\"2074\",\"2075\",\"2076\",\"2077\",\"2078\",\"2079\",\"2080\",\"2081\",\"2082\",\"2083\",\"2084\",\"2085\",\"2086\",\"2087\",\"2088\",\"2089\",\"2090\",\"2091\",\"2092\",\"2093\",\"2094\",\"2095\",\"2096\",\"2097\",\"2098\",\"2099\",\"2100\",\"2101\",\"2102\",\"2103\",\"2104\",\"2105\",\"2106\",\"2107\",\"2108\",\"2109\",\"2110\",\"2111\",\"2112\",\"2113\",\"2114\",\"2115\",\"2116\",\"2117\",\"2118\",\"2119\",\"2120\",\"2121\",\"2122\",\"2123\",\"2124\",\"2125\",\"2126\",\"2127\",\"2128\",\"2129\",\"2130\",\"2131\",\"2132\",\"2133\",\"2134\",\"2135\",\"2136\",\"2137\",\"2138\",\"2139\",\"2140\",\"2141\",\"2142\",\"2143\",\"2144\",\"2145\",\"2146\",\"2147\",\"2148\",\"2149\",\"2150\",\"2151\",\"2152\",\"2153\",\"2154\",\"2155\",\"2156\",\"2157\",\"2158\",\"2159\",\"2160\",\"2161\",\"2162\",\"2163\",\"2164\",\"2165\",\"2166\",\"2167\",\"2168\",\"2169\",\"2170\",\"2171\",\"2172\",\"2173\",\"2174\",\"2175\",\"2176\",\"2177\",\"2178\",\"2179\",\"2180\",\"2181\",\"2182\",\"2183\",\"2184\",\"2185\",\"2186\",\"2187\",\"2188\",\"2189\",\"2190\",\"2191\",\"2192\",\"2193\",\"2194\",\"2195\",\"2196\",\"2197\",\"2198\",\"2199\",\"2200\",\"2201\",\"2202\",\"2203\",\"2204\",\"2205\",\"2206\",\"2207\",\"2208\",\"2209\",\"2210\",\"2211\",\"2212\",\"2213\",\"2214\",\"2215\",\"2216\",\"2217\",\"2218\",\"2219\",\"2220\",\"2221\",\"2222\",\"2223\",\"2224\",\"2225\",\"2226\",\"2227\",\"2228\",\"2229\",\"2230\",\"2231\",\"2232\",\"2233\",\"2234\",\"2235\",\"2236\",\"2237\",\"2238\",\"2239\",\"2240\",\"2241\",\"2242\",\"2243\",\"2244\",\"2245\",\"2246\",\"2247\",\"2248\",\"2249\",\"2250\",\"2251\",\"2252\",\"2253\",\"2254\",\"2255\",\"2256\",\"2257\",\"2258\",\"2259\",\"2260\",\"2261\",\"2262\",\"2263\",\"2264\",\"2265\",\"2266\",\"2267\",\"2268\",\"2269\",\"2270\",\"2271\",\"2272\",\"2273\",\"2274\",\"2275\",\"2276\",\"2277\",\"2278\",\"2279\",\"2280\",\"2281\",\"2282\",\"2283\",\"2284\",\"2285\",\"2286\",\"2287\",\"2288\",\"2289\",\"2290\",\"2291\",\"2292\",\"2293\",\"2294\",\"2295\",\"2296\",\"2297\",\"2298\",\"2299\",\"2300\",\"2301\",\"2302\",\"2303\",\"2304\",\"2305\",\"2306\",\"2307\",\"2308\",\"2309\",\"2310\",\"2311\",\"2312\",\"2313\",\"2314\",\"2315\",\"2316\",\"2317\",\"2318\",\"2319\",\"2320\",\"2321\",\"2322\",\"2323\",\"2324\",\"2325\",\"2326\",\"2327\",\"2328\",\"2329\",\"2330\",\"2331\",\"2332\",\"2333\",\"2334\",\"2335\",\"2336\",\"2337\",\"2338\",\"2339\",\"2340\",\"2341\",\"2342\",\"2343\",\"2344\",\"2345\",\"2346\",\"2347\",\"2348\",\"2349\",\"2350\",\"2351\",\"2352\",\"2353\",\"2354\",\"2355\",\"2356\",\"2357\",\"2358\",\"2359\",\"2360\",\"2361\",\"2362\",\"2363\",\"2364\",\"2365\",\"2366\",\"2367\",\"2368\",\"2369\",\"2370\",\"2371\",\"2372\",\"2373\",\"2374\",\"2375\",\"2376\",\"2377\",\"2378\",\"2379\",\"2380\",\"2381\",\"2382\",\"2383\",\"2384\",\"2385\",\"2386\",\"2387\",\"2388\",\"2389\",\"2390\",\"2391\",\"2392\",\"2393\",\"2394\",\"2395\",\"2396\",\"2397\",\"2398\",\"2399\",\"2400\",\"2401\",\"2402\",\"2403\",\"2404\",\"2405\",\"2406\",\"2407\",\"2408\",\"2409\",\"2410\",\"2411\",\"2412\",\"2413\",\"2414\",\"2415\",\"2416\",\"2417\",\"2418\",\"2419\",\"2420\",\"2421\",\"2422\",\"2423\",\"2424\",\"2425\",\"2426\",\"2427\",\"2428\",\"2429\",\"2430\",\"2431\",\"2432\",\"2433\",\"2434\",\"2435\",\"2436\",\"2437\",\"2438\",\"2439\",\"2440\",\"2441\",\"2442\",\"2443\",\"2444\",\"2445\",\"2446\",\"2447\",\"2448\",\"2449\",\"2450\",\"2451\",\"2452\",\"2453\",\"2454\",\"2455\",\"2456\",\"2457\",\"2458\",\"2459\",\"2460\",\"2461\",\"2462\",\"2463\",\"2464\",\"2465\",\"2466\",\"2467\",\"2468\",\"2469\",\"2470\",\"2471\",\"2472\",\"2473\",\"2474\",\"2475\",\"2476\",\"2477\",\"2478\",\"2479\",\"2480\",\"2481\",\"2482\",\"2483\",\"2484\",\"2485\",\"2486\",\"2487\",\"2488\",\"2489\",\"2490\",\"2491\",\"2492\",\"2493\",\"2494\",\"2495\",\"2496\",\"2497\",\"2498\",\"2499\",\"2500\",\"2501\",\"2502\",\"2503\",\"2504\",\"2505\",\"2506\",\"2507\",\"2508\",\"2509\",\"2510\",\"2511\",\"2512\",\"2513\",\"2514\",\"2515\",\"2516\",\"2517\",\"2518\",\"2519\",\"2520\",\"2521\",\"2522\",\"2523\",\"2524\",\"2525\",\"2526\",\"2527\",\"2528\",\"2529\",\"2530\",\"2531\",\"2532\",\"2533\",\"2534\",\"2535\",\"2536\",\"2537\",\"2538\",\"2539\",\"2540\",\"2541\",\"2542\",\"2543\",\"2544\",\"2545\",\"2546\",\"2547\",\"2548\",\"2549\",\"2550\",\"2551\",\"2552\",\"2553\",\"2554\",\"2555\",\"2556\",\"2557\",\"2558\",\"2559\",\"2560\",\"2561\",\"2562\",\"2563\",\"2564\",\"2565\",\"2566\",\"2567\",\"2568\",\"2569\",\"2570\",\"2571\",\"2572\",\"2573\",\"2574\",\"2575\",\"2576\",\"2577\",\"2578\",\"2579\",\"2580\",\"2581\",\"2582\",\"2583\",\"2584\",\"2585\",\"2586\",\"2587\",\"2588\",\"2589\",\"2590\",\"2591\",\"2592\",\"2593\",\"2594\",\"2595\",\"2596\",\"2597\",\"2598\",\"2599\",\"2600\",\"2601\",\"2602\",\"2603\",\"2604\",\"2605\",\"2606\",\"2607\",\"2608\",\"2609\",\"2610\",\"2611\",\"2612\",\"2613\",\"2614\",\"2615\",\"2616\",\"2617\",\"2618\",\"2619\",\"2620\",\"2621\",\"2622\",\"2623\",\"2624\",\"2625\",\"2626\",\"2627\",\"2628\",\"2629\",\"2630\",\"2631\",\"2632\",\"2633\",\"2634\",\"2635\",\"2636\",\"2637\",\"2638\",\"2639\",\"2640\",\"2641\",\"2642\",\"2643\",\"2644\",\"2645\",\"2646\",\"2647\",\"2648\",\"2649\",\"2650\",\"2651\",\"2652\",\"2653\",\"2654\",\"2655\",\"2656\",\"2657\",\"2658\",\"2659\",\"2660\",\"2661\",\"2662\",\"2663\",\"2664\",\"2665\",\"2666\",\"2667\",\"2668\",\"2669\",\"2670\",\"2671\",\"2672\",\"2673\",\"2674\",\"2675\",\"2676\",\"2677\",\"2678\",\"2679\",\"2680\",\"2681\",\"2682\",\"2683\",\"2684\",\"2685\",\"2686\",\"2687\",\"2688\",\"2689\",\"2690\",\"2691\",\"2692\",\"2693\",\"2694\",\"2695\",\"2696\",\"2697\",\"2698\",\"2699\",\"2700\",\"2701\",\"2702\",\"2703\",\"2704\",\"2705\",\"2706\",\"2707\",\"2708\",\"2709\",\"2710\",\"2711\",\"2712\",\"2713\",\"2714\",\"2715\",\"2716\",\"2717\",\"2718\",\"2719\",\"2720\",\"2721\",\"2722\",\"2723\",\"2724\",\"2725\",\"2726\",\"2727\",\"2728\",\"2729\",\"2730\",\"2731\",\"2732\",\"2733\",\"2734\",\"2735\",\"2736\",\"2737\",\"2738\",\"2739\",\"2740\",\"2741\",\"2742\",\"2743\",\"2744\",\"2745\",\"2746\",\"2747\",\"2748\",\"2749\",\"2750\",\"2751\",\"2752\",\"2753\",\"2754\",\"2755\",\"2756\",\"2757\",\"2758\",\"2759\",\"2760\",\"2761\",\"2762\",\"2763\",\"2764\",\"2765\",\"2766\",\"2767\",\"2768\",\"2769\",\"2770\",\"2771\",\"2772\",\"2773\",\"2774\",\"2775\",\"2776\",\"2777\",\"2778\",\"2779\",\"2780\",\"2781\",\"2782\",\"2783\",\"2784\",\"2785\",\"2786\",\"2787\",\"2788\",\"2789\",\"2790\",\"2791\",\"2792\",\"2793\",\"2794\",\"2795\",\"2796\",\"2797\",\"2798\",\"2799\",\"2800\",\"2801\",\"2802\",\"2803\",\"2804\",\"2805\",\"2806\",\"2807\",\"2808\",\"2809\",\"2810\",\"2811\",\"2812\",\"2813\",\"2814\",\"2815\",\"2816\",\"2817\",\"2818\",\"2819\",\"2820\",\"2821\",\"2822\",\"2823\",\"2824\",\"2825\",\"2826\",\"2827\",\"2828\",\"2829\",\"2830\",\"2831\",\"2832\",\"2833\",\"2834\",\"2835\",\"2836\",\"2837\",\"2838\",\"2839\",\"2840\",\"2841\",\"2842\",\"2843\",\"2844\",\"2845\",\"2846\",\"2847\",\"2848\",\"2849\",\"2850\",\"2851\",\"2852\",\"2853\",\"2854\",\"2855\",\"2856\",\"2857\",\"2858\",\"2859\",\"2860\",\"2861\",\"2862\",\"2863\",\"2864\",\"2865\",\"2866\",\"2867\",\"2868\",\"2869\",\"2870\",\"2871\",\"2872\",\"2873\",\"2874\",\"2875\",\"2876\",\"2877\",\"2878\",\"2879\",\"2880\",\"2881\",\"2882\",\"2883\",\"2884\",\"2885\",\"2886\",\"2887\",\"2888\",\"2889\",\"2890\",\"2891\",\"2892\",\"2893\",\"2894\",\"2895\",\"2896\",\"2897\",\"2898\",\"2899\",\"2900\",\"2901\",\"2902\",\"2903\",\"2904\",\"2905\",\"2906\",\"2907\",\"2908\",\"2909\",\"2910\",\"2911\",\"2912\",\"2913\",\"2914\",\"2915\",\"2916\",\"2917\",\"2918\",\"2919\",\"2920\",\"2921\",\"2922\",\"2923\",\"2924\",\"2925\",\"2926\",\"2927\",\"2928\",\"2929\",\"2930\",\"2931\",\"2932\",\"2933\",\"2934\",\"2935\",\"2936\",\"2937\",\"2938\",\"2939\",\"2940\",\"2941\",\"2942\",\"2943\",\"2944\",\"2945\",\"2946\",\"2947\",\"2948\",\"2949\",\"2950\",\"2951\",\"2952\",\"2953\",\"2954\",\"2955\",\"2956\",\"2957\",\"2958\",\"2959\",\"2960\",\"2961\",\"2962\",\"2963\",\"2964\",\"2965\",\"2966\",\"2967\",\"2968\",\"2969\",\"2970\",\"2971\",\"2972\",\"2973\",\"2974\",\"2975\",\"2976\",\"2977\",\"2978\",\"2979\",\"2980\",\"2981\",\"2982\",\"2983\",\"2984\",\"2985\",\"2986\",\"2987\",\"2988\",\"2989\",\"2990\",\"2991\",\"2992\",\"2993\",\"2994\",\"2995\",\"2996\",\"2997\",\"2998\",\"2999\",\"3000\",\"3001\",\"3002\",\"3003\",\"3004\",\"3005\",\"3006\",\"3007\",\"3008\",\"3009\",\"3010\",\"3011\",\"3012\",\"3013\",\"3014\",\"3015\",\"3016\",\"3017\",\"3018\",\"3019\",\"3020\",\"3021\",\"3022\",\"3023\",\"3024\",\"3025\",\"3026\",\"3027\",\"3028\",\"3029\",\"3030\",\"3031\",\"3032\",\"3033\",\"3034\",\"3035\",\"3036\",\"3037\",\"3038\",\"3039\",\"3040\",\"3041\",\"3042\",\"3043\",\"3044\",\"3045\",\"3046\",\"3047\",\"3048\",\"3049\",\"3050\",\"3051\",\"3052\",\"3053\",\"3054\",\"3055\",\"3056\",\"3057\",\"3058\",\"3059\",\"3060\",\"3061\",\"3062\",\"3063\",\"3064\",\"3065\",\"3066\",\"3067\",\"3068\",\"3069\",\"3070\",\"3071\",\"3072\",\"3073\",\"3074\",\"3075\",\"3076\",\"3077\",\"3078\",\"3079\",\"3080\",\"3081\",\"3082\",\"3083\",\"3084\",\"3085\",\"3086\",\"3087\",\"3088\",\"3089\",\"3090\",\"3091\",\"3092\",\"3093\",\"3094\",\"3095\",\"3096\",\"3097\",\"3098\",\"3099\",\"3100\",\"3101\",\"3102\",\"3103\",\"3104\",\"3105\",\"3106\",\"3107\",\"3108\",\"3109\",\"3110\",\"3111\",\"3112\",\"3113\",\"3114\",\"3115\",\"3116\",\"3117\",\"3118\",\"3119\",\"3120\",\"3121\",\"3122\",\"3123\",\"3124\",\"3125\",\"3126\",\"3127\",\"3128\",\"3129\",\"3130\",\"3131\",\"3132\",\"3133\",\"3134\",\"3135\",\"3136\",\"3137\",\"3138\",\"3139\",\"3140\",\"3141\",\"3142\",\"3143\",\"3144\",\"3145\",\"3146\",\"3147\",\"3148\",\"3149\",\"3150\",\"3151\",\"3152\",\"3153\",\"3154\",\"3155\",\"3156\",\"3157\",\"3158\",\"3159\",\"3160\",\"3161\",\"3162\",\"3163\",\"3164\",\"3165\",\"3166\",\"3167\",\"3168\",\"3169\",\"3170\",\"3171\",\"3172\",\"3173\",\"3174\",\"3175\",\"3176\",\"3177\",\"3178\",\"3179\",\"3180\",\"3181\",\"3182\",\"3183\",\"3184\",\"3185\",\"3186\",\"3187\",\"3188\",\"3189\",\"3190\",\"3191\",\"3192\",\"3193\",\"3194\",\"3195\",\"3196\",\"3197\",\"3198\",\"3199\",\"3200\",\"3201\",\"3202\",\"3203\",\"3204\",\"3205\",\"3206\",\"3207\",\"3208\",\"3209\",\"3210\",\"3211\",\"3212\",\"3213\",\"3214\",\"3215\",\"3216\",\"3217\",\"3218\",\"3219\",\"3220\",\"3221\",\"3222\",\"3223\",\"3224\",\"3225\",\"3226\",\"3227\",\"3228\",\"3229\",\"3230\",\"3231\",\"3232\",\"3233\",\"3234\",\"3235\",\"3236\",\"3237\",\"3238\",\"3239\",\"3240\",\"3241\",\"3242\",\"3243\",\"3244\",\"3245\",\"3246\",\"3247\",\"3248\",\"3249\",\"3250\",\"3251\",\"3252\",\"3253\",\"3254\",\"3255\",\"3256\",\"3257\",\"3258\",\"3259\",\"3260\",\"3261\",\"3262\",\"3263\",\"3264\",\"3265\",\"3266\",\"3267\",\"3268\",\"3269\",\"3270\",\"3271\",\"3272\",\"3273\",\"3274\",\"3275\",\"3276\",\"3277\",\"3278\",\"3279\",\"3280\",\"3281\",\"3282\",\"3283\",\"3284\",\"3285\",\"3286\",\"3287\",\"3288\",\"3289\",\"3290\",\"3291\",\"3292\",\"3293\",\"3294\",\"3295\",\"3296\",\"3297\",\"3298\",\"3299\",\"3300\",\"3301\",\"3302\",\"3303\",\"3304\",\"3305\",\"3306\",\"3307\",\"3308\",\"3309\",\"3310\",\"3311\",\"3312\",\"3313\",\"3314\",\"3315\",\"3316\",\"3317\",\"3318\",\"3319\",\"3320\",\"3321\",\"3322\",\"3323\",\"3324\",\"3325\",\"3326\",\"3327\",\"3328\",\"3329\",\"3330\",\"3331\",\"3332\",\"3333\",\"3334\",\"3335\",\"3336\",\"3337\",\"3338\",\"3339\",\"3340\",\"3341\",\"3342\",\"3343\",\"3344\",\"3345\",\"3346\",\"3347\",\"3348\",\"3349\",\"3350\",\"3351\",\"3352\",\"3353\",\"3354\",\"3355\",\"3356\",\"3357\",\"3358\",\"3359\",\"3360\",\"3361\",\"3362\",\"3363\",\"3364\",\"3365\",\"3366\",\"3367\",\"3368\",\"3369\",\"3370\",\"3371\",\"3372\",\"3373\",\"3374\",\"3375\",\"3376\",\"3377\",\"3378\",\"3379\",\"3380\",\"3381\",\"3382\",\"3383\",\"3384\",\"3385\",\"3386\",\"3387\",\"3388\",\"3389\",\"3390\",\"3391\",\"3392\",\"3393\",\"3394\",\"3395\",\"3396\",\"3397\",\"3398\",\"3399\",\"3400\",\"3401\",\"3402\",\"3403\",\"3404\",\"3405\",\"3406\",\"3407\",\"3408\",\"3409\",\"3410\",\"3411\",\"3412\",\"3413\",\"3414\",\"3415\",\"3416\",\"3417\",\"3418\",\"3419\",\"3420\",\"3421\",\"3422\",\"3423\",\"3424\",\"3425\",\"3426\",\"3427\",\"3428\",\"3429\",\"3430\",\"3431\",\"3432\",\"3433\",\"3434\",\"3435\",\"3436\",\"3437\",\"3438\",\"3439\",\"3440\",\"3441\",\"3442\",\"3443\",\"3444\",\"3445\",\"3446\",\"3447\",\"3448\",\"3449\",\"3450\",\"3451\",\"3452\",\"3453\",\"3454\",\"3455\",\"3456\",\"3457\",\"3458\",\"3459\",\"3460\",\"3461\",\"3462\",\"3463\",\"3464\",\"3465\",\"3466\",\"3467\",\"3468\",\"3469\",\"3470\",\"3471\",\"3472\",\"3473\",\"3474\",\"3475\",\"3476\",\"3477\",\"3478\",\"3479\",\"3480\",\"3481\",\"3482\",\"3483\",\"3484\",\"3485\",\"3486\",\"3487\",\"3488\",\"3489\",\"3490\",\"3491\",\"3492\",\"3493\",\"3494\",\"3495\",\"3496\",\"3497\",\"3498\",\"3499\",\"3500\",\"3501\",\"3502\",\"3503\",\"3504\",\"3505\",\"3506\",\"3507\",\"3508\",\"3509\",\"3510\",\"3511\",\"3512\",\"3513\",\"3514\",\"3515\",\"3516\",\"3517\",\"3518\",\"3519\",\"3520\",\"3521\",\"3522\",\"3523\",\"3524\",\"3525\",\"3526\",\"3527\",\"3528\",\"3529\",\"3530\",\"3531\",\"3532\",\"3533\",\"3534\",\"3535\",\"3536\",\"3537\",\"3538\",\"3539\",\"3540\",\"3541\",\"3542\",\"3543\",\"3544\",\"3545\",\"3546\",\"3547\",\"3548\",\"3549\",\"3550\",\"3551\",\"3552\",\"3553\",\"3554\",\"3555\",\"3556\",\"3557\",\"3558\",\"3559\",\"3560\",\"3561\",\"3562\",\"3563\",\"3564\",\"3565\",\"3566\",\"3567\",\"3568\",\"3569\",\"3570\",\"3571\",\"3572\",\"3573\",\"3574\",\"3575\",\"3576\",\"3577\",\"3578\",\"3579\",\"3580\",\"3581\",\"3582\",\"3583\",\"3584\",\"3585\",\"3586\",\"3587\",\"3588\",\"3589\",\"3590\",\"3591\",\"3592\",\"3593\",\"3594\",\"3595\",\"3596\",\"3597\",\"3598\",\"3599\",\"3600\",\"3601\",\"3602\",\"3603\",\"3604\",\"3605\",\"3606\",\"3607\",\"3608\",\"3609\",\"3610\",\"3611\",\"3612\",\"3613\",\"3614\",\"3615\",\"3616\",\"3617\",\"3618\",\"3619\",\"3620\",\"3621\",\"3622\",\"3623\",\"3624\",\"3625\",\"3626\",\"3627\",\"3628\",\"3629\",\"3630\",\"3631\",\"3632\",\"3633\",\"3634\",\"3635\",\"3636\",\"3637\",\"3638\",\"3639\",\"3640\",\"3641\",\"3642\",\"3643\",\"3644\",\"3645\",\"3646\",\"3647\",\"3648\",\"3649\",\"3650\",\"3651\",\"3652\",\"3653\",\"3654\",\"3655\",\"3656\",\"3657\",\"3658\",\"3659\",\"3660\",\"3661\",\"3662\",\"3663\",\"3664\",\"3665\",\"3666\",\"3667\",\"3668\",\"3669\",\"3670\",\"3671\",\"3672\",\"3673\",\"3674\",\"3675\",\"3676\",\"3677\",\"3678\",\"3679\",\"3680\",\"3681\",\"3682\",\"3683\",\"3684\",\"3685\",\"3686\",\"3687\",\"3688\",\"3689\",\"3690\",\"3691\",\"3692\",\"3693\",\"3694\",\"3695\",\"3696\",\"3697\",\"3698\",\"3699\",\"3700\",\"3701\",\"3702\",\"3703\",\"3704\",\"3705\",\"3706\",\"3707\",\"3708\",\"3709\",\"3710\",\"3711\",\"3712\",\"3713\",\"3714\",\"3715\",\"3716\",\"3717\",\"3718\",\"3719\",\"3720\",\"3721\",\"3722\",\"3723\",\"3724\",\"3725\",\"3726\",\"3727\",\"3728\",\"3729\",\"3730\",\"3731\",\"3732\",\"3733\",\"3734\",\"3735\",\"3736\",\"3737\",\"3738\",\"3739\",\"3740\",\"3741\",\"3742\",\"3743\",\"3744\",\"3745\",\"3746\",\"3747\",\"3748\",\"3749\",\"3750\",\"3751\",\"3752\",\"3753\",\"3754\",\"3755\",\"3756\",\"3757\",\"3758\",\"3759\",\"3760\",\"3761\",\"3762\",\"3763\",\"3764\",\"3765\",\"3766\",\"3767\",\"3768\",\"3769\",\"3770\",\"3771\",\"3772\",\"3773\",\"3774\",\"3775\",\"3776\",\"3777\",\"3778\",\"3779\",\"3780\",\"3781\",\"3782\",\"3783\",\"3784\",\"3785\",\"3786\",\"3787\",\"3788\",\"3789\",\"3790\",\"3791\",\"3792\",\"3793\",\"3794\",\"3795\",\"3796\",\"3797\",\"3798\",\"3799\",\"3800\",\"3801\",\"3802\",\"3803\",\"3804\",\"3805\",\"3806\",\"3807\",\"3808\",\"3809\",\"3810\",\"3811\",\"3812\",\"3813\",\"3814\",\"3815\",\"3816\",\"3817\",\"3818\",\"3819\",\"3820\",\"3821\",\"3822\",\"3823\",\"3824\",\"3825\",\"3826\",\"3827\",\"3828\",\"3829\",\"3830\",\"3831\",\"3832\",\"3833\",\"3834\",\"3835\",\"3836\",\"3837\",\"3838\",\"3839\",\"3840\",\"3841\",\"3842\",\"3843\",\"3844\",\"3845\",\"3846\",\"3847\",\"3848\",\"3849\",\"3850\",\"3851\",\"3852\",\"3853\",\"3854\",\"3855\",\"3856\",\"3857\",\"3858\",\"3859\",\"3860\",\"3861\",\"3862\",\"3863\",\"3864\",\"3865\",\"3866\",\"3867\",\"3868\",\"3869\",\"3870\",\"3871\",\"3872\",\"3873\",\"3874\",\"3875\",\"3876\",\"3877\",\"3878\",\"3879\",\"3880\",\"3881\",\"3882\",\"3883\",\"3884\",\"3885\",\"3886\",\"3887\",\"3888\",\"3889\",\"3890\",\"3891\",\"3892\",\"3893\",\"3894\",\"3895\",\"3896\",\"3897\",\"3898\",\"3899\",\"3900\",\"3901\",\"3902\",\"3903\",\"3904\",\"3905\",\"3906\",\"3907\",\"3908\",\"3909\",\"3910\",\"3911\",\"3912\",\"3913\",\"3914\",\"3915\",\"3916\",\"3917\",\"3918\",\"3919\",\"3920\",\"3921\",\"3922\",\"3923\",\"3924\",\"3925\",\"3926\",\"3927\",\"3928\",\"3929\",\"3930\",\"3931\",\"3932\",\"3933\",\"3934\",\"3935\",\"3936\",\"3937\",\"3938\",\"3939\",\"3940\",\"3941\",\"3942\",\"3943\",\"3944\",\"3945\",\"3946\",\"3947\",\"3948\",\"3949\",\"3950\",\"3951\",\"3952\",\"3953\",\"3954\",\"3955\",\"3956\",\"3957\",\"3958\",\"3959\",\"3960\",\"3961\",\"3962\",\"3963\",\"3964\",\"3965\",\"3966\",\"3967\",\"3968\",\"3969\",\"3970\",\"3971\",\"3972\",\"3973\",\"3974\",\"3975\",\"3976\",\"3977\",\"3978\",\"3979\",\"3980\",\"3981\",\"3982\",\"3983\",\"3984\",\"3985\",\"3986\",\"3987\",\"3988\",\"3989\",\"3990\",\"3991\",\"3992\",\"3993\",\"3994\",\"3995\",\"3996\",\"3997\",\"3998\",\"3999\",\"4000\",\"4001\",\"4002\",\"4003\",\"4004\",\"4005\",\"4006\",\"4007\",\"4008\",\"4009\",\"4010\",\"4011\",\"4012\",\"4013\",\"4014\",\"4015\",\"4016\",\"4017\",\"4018\",\"4019\",\"4020\",\"4021\",\"4022\",\"4023\",\"4024\",\"4025\",\"4026\",\"4027\",\"4028\",\"4029\",\"4030\",\"4031\",\"4032\",\"4033\",\"4034\",\"4035\",\"4036\",\"4037\",\"4038\",\"4039\",\"4040\",\"4041\",\"4042\",\"4043\",\"4044\",\"4045\",\"4046\",\"4047\",\"4048\",\"4049\",\"4050\",\"4051\",\"4052\",\"4053\",\"4054\",\"4055\",\"4056\",\"4057\",\"4058\",\"4059\",\"4060\",\"4061\",\"4062\",\"4063\",\"4064\",\"4065\",\"4066\",\"4067\",\"4068\",\"4069\",\"4070\",\"4071\",\"4072\",\"4073\",\"4074\",\"4075\",\"4076\",\"4077\",\"4078\",\"4079\",\"4080\",\"4081\",\"4082\",\"4083\",\"4084\",\"4085\",\"4086\",\"4087\",\"4088\",\"4089\",\"4090\",\"4091\",\"4092\",\"4093\",\"4094\",\"4095\",\"4096\",\"4097\",\"4098\",\"4099\",\"4100\",\"4101\",\"4102\",\"4103\",\"4104\",\"4105\",\"4106\",\"4107\",\"4108\",\"4109\",\"4110\",\"4111\",\"4112\",\"4113\",\"4114\",\"4115\",\"4116\",\"4117\",\"4118\",\"4119\",\"4120\",\"4121\",\"4122\",\"4123\",\"4124\",\"4125\",\"4126\",\"4127\",\"4128\",\"4129\",\"4130\",\"4131\",\"4132\",\"4133\",\"4134\",\"4135\",\"4136\",\"4137\",\"4138\",\"4139\",\"4140\",\"4141\",\"4142\",\"4143\",\"4144\",\"4145\",\"4146\",\"4147\",\"4148\",\"4149\",\"4150\",\"4151\",\"4152\",\"4153\",\"4154\",\"4155\",\"4156\",\"4157\",\"4158\",\"4159\",\"4160\",\"4161\",\"4162\",\"4163\",\"4164\",\"4165\",\"4166\",\"4167\",\"4168\",\"4169\",\"4170\",\"4171\",\"4172\",\"4173\",\"4174\",\"4175\",\"4176\",\"4177\",\"4178\",\"4179\",\"4180\",\"4181\",\"4182\",\"4183\",\"4184\",\"4185\",\"4186\",\"4187\",\"4188\",\"4189\",\"4190\",\"4191\",\"4192\",\"4193\",\"4194\",\"4195\",\"4196\",\"4197\",\"4198\",\"4199\",\"4200\",\"4201\",\"4202\",\"4203\",\"4204\",\"4205\",\"4206\",\"4207\",\"4208\",\"4209\",\"4210\",\"4211\",\"4212\",\"4213\",\"4214\",\"4215\",\"4216\",\"4217\",\"4218\",\"4219\",\"4220\",\"4221\",\"4222\",\"4223\",\"4224\",\"4225\",\"4226\",\"4227\",\"4228\",\"4229\",\"4230\",\"4231\",\"4232\",\"4233\",\"4234\",\"4235\",\"4236\",\"4237\",\"4238\",\"4239\",\"4240\",\"4241\",\"4242\",\"4243\",\"4244\",\"4245\",\"4246\",\"4247\",\"4248\",\"4249\",\"4250\",\"4251\",\"4252\",\"4253\",\"4254\",\"4255\",\"4256\",\"4257\",\"4258\",\"4259\",\"4260\",\"4261\",\"4262\",\"4263\",\"4264\",\"4265\",\"4266\",\"4267\",\"4268\",\"4269\",\"4270\",\"4271\",\"4272\",\"4273\",\"4274\",\"4275\",\"4276\",\"4277\",\"4278\",\"4279\",\"4280\",\"4281\",\"4282\",\"4283\",\"4284\",\"4285\",\"4286\",\"4287\",\"4288\",\"4289\",\"4290\",\"4291\",\"4292\",\"4293\",\"4294\",\"4295\",\"4296\",\"4297\",\"4298\",\"4299\",\"4300\",\"4301\",\"4302\",\"4303\",\"4304\",\"4305\",\"4306\",\"4307\",\"4308\",\"4309\",\"4310\",\"4311\",\"4312\",\"4313\",\"4314\",\"4315\",\"4316\",\"4317\",\"4318\",\"4319\",\"4320\",\"4321\",\"4322\",\"4323\",\"4324\",\"4325\",\"4326\",\"4327\",\"4328\",\"4329\",\"4330\",\"4331\",\"4332\",\"4333\",\"4334\",\"4335\",\"4336\",\"4337\",\"4338\",\"4339\",\"4340\",\"4341\",\"4342\",\"4343\",\"4344\",\"4345\",\"4346\",\"4347\",\"4348\",\"4349\",\"4350\",\"4351\",\"4352\",\"4353\",\"4354\",\"4355\",\"4356\",\"4357\",\"4358\",\"4359\",\"4360\",\"4361\",\"4362\",\"4363\",\"4364\",\"4365\",\"4366\",\"4367\",\"4368\",\"4369\",\"4370\",\"4371\",\"4372\",\"4373\",\"4374\",\"4375\",\"4376\",\"4377\",\"4378\",\"4379\",\"4380\",\"4381\",\"4382\",\"4383\",\"4384\",\"4385\",\"4386\",\"4387\",\"4388\",\"4389\",\"4390\",\"4391\",\"4392\",\"4393\",\"4394\",\"4395\",\"4396\",\"4397\",\"4398\",\"4399\",\"4400\",\"4401\",\"4402\",\"4403\",\"4404\",\"4405\",\"4406\",\"4407\",\"4408\",\"4409\",\"4410\",\"4411\",\"4412\",\"4413\",\"4414\",\"4415\",\"4416\",\"4417\",\"4418\",\"4419\",\"4420\",\"4421\",\"4422\",\"4423\",\"4424\",\"4425\",\"4426\",\"4427\",\"4428\",\"4429\",\"4430\",\"4431\",\"4432\",\"4433\",\"4434\",\"4435\",\"4436\",\"4437\",\"4438\",\"4439\",\"4440\",\"4441\",\"4442\",\"4443\",\"4444\",\"4445\",\"4446\",\"4447\",\"4448\",\"4449\",\"4450\",\"4451\",\"4452\",\"4453\",\"4454\",\"4455\",\"4456\",\"4457\",\"4458\",\"4459\",\"4460\",\"4461\",\"4462\",\"4463\",\"4464\",\"4465\",\"4466\",\"4467\",\"4468\",\"4469\",\"4470\",\"4471\",\"4472\",\"4473\",\"4474\",\"4475\",\"4476\",\"4477\",\"4478\",\"4479\",\"4480\",\"4481\",\"4482\",\"4483\",\"4484\",\"4485\",\"4486\",\"4487\",\"4488\",\"4489\",\"4490\",\"4491\",\"4492\",\"4493\",\"4494\",\"4495\",\"4496\",\"4497\",\"4498\",\"4499\",\"4500\",\"4501\",\"4502\",\"4503\",\"4504\",\"4505\",\"4506\",\"4507\",\"4508\",\"4509\",\"4510\",\"4511\",\"4512\",\"4513\",\"4514\",\"4515\",\"4516\",\"4517\",\"4518\",\"4519\",\"4520\",\"4521\",\"4522\",\"4523\",\"4524\",\"4525\",\"4526\",\"4527\",\"4528\",\"4529\",\"4530\",\"4531\",\"4532\",\"4533\",\"4534\",\"4535\",\"4536\",\"4537\",\"4538\",\"4539\",\"4540\",\"4541\",\"4542\",\"4543\",\"4544\",\"4545\",\"4546\",\"4547\",\"4548\",\"4549\",\"4550\",\"4551\",\"4552\",\"4553\",\"4554\",\"4555\",\"4556\",\"4557\",\"4558\",\"4559\",\"4560\",\"4561\",\"4562\",\"4563\",\"4564\",\"4565\",\"4566\",\"4567\",\"4568\",\"4569\",\"4570\",\"4571\",\"4572\",\"4573\",\"4574\",\"4575\",\"4576\",\"4577\",\"4578\",\"4579\",\"4580\",\"4581\",\"4582\",\"4583\",\"4584\",\"4585\",\"4586\",\"4587\",\"4588\",\"4589\",\"4590\",\"4591\",\"4592\",\"4593\",\"4594\",\"4595\",\"4596\",\"4597\",\"4598\",\"4599\",\"4600\",\"4601\",\"4602\",\"4603\",\"4604\",\"4605\",\"4606\",\"4607\",\"4608\",\"4609\",\"4610\",\"4611\",\"4612\",\"4613\",\"4614\",\"4615\",\"4616\",\"4617\",\"4618\",\"4619\",\"4620\",\"4621\",\"4622\",\"4623\",\"4624\",\"4625\",\"4626\",\"4627\",\"4628\",\"4629\",\"4630\",\"4631\",\"4632\",\"4633\",\"4634\",\"4635\",\"4636\",\"4637\",\"4638\",\"4639\",\"4640\",\"4641\",\"4642\",\"4643\",\"4644\",\"4645\",\"4646\",\"4647\",\"4648\",\"4649\",\"4650\",\"4651\",\"4652\",\"4653\",\"4654\",\"4655\",\"4656\",\"4657\",\"4658\",\"4659\",\"4660\",\"4661\",\"4662\",\"4663\",\"4664\",\"4665\",\"4666\",\"4667\",\"4668\",\"4669\",\"4670\",\"4671\",\"4672\",\"4673\",\"4674\",\"4675\",\"4676\",\"4677\",\"4678\",\"4679\",\"4680\",\"4681\",\"4682\",\"4683\",\"4684\",\"4685\",\"4686\",\"4687\",\"4688\",\"4689\",\"4690\",\"4691\",\"4692\",\"4693\",\"4694\",\"4695\",\"4696\",\"4697\",\"4698\",\"4699\",\"4700\",\"4701\",\"4702\",\"4703\",\"4704\",\"4705\",\"4706\",\"4707\",\"4708\",\"4709\",\"4710\",\"4711\",\"4712\",\"4713\",\"4714\",\"4715\",\"4716\",\"4717\",\"4718\",\"4719\",\"4720\",\"4721\",\"4722\",\"4723\",\"4724\",\"4725\",\"4726\",\"4727\",\"4728\",\"4729\",\"4730\",\"4731\",\"4732\",\"4733\",\"4734\",\"4735\",\"4736\",\"4737\",\"4738\",\"4739\",\"4740\",\"4741\",\"4742\",\"4743\",\"4744\",\"4745\",\"4746\",\"4747\",\"4748\",\"4749\",\"4750\",\"4751\",\"4752\",\"4753\",\"4754\",\"4755\",\"4756\",\"4757\",\"4758\",\"4759\",\"4760\",\"4761\",\"4762\",\"4763\",\"4764\",\"4765\",\"4766\",\"4767\",\"4768\",\"4769\",\"4770\",\"4771\",\"4772\",\"4773\",\"4774\",\"4775\",\"4776\",\"4777\",\"4778\",\"4779\",\"4780\",\"4781\",\"4782\",\"4783\",\"4784\",\"4785\",\"4786\",\"4787\",\"4788\",\"4789\",\"4790\",\"4791\",\"4792\",\"4793\",\"4794\",\"4795\",\"4796\",\"4797\",\"4798\",\"4799\",\"4800\",\"4801\",\"4802\",\"4803\",\"4804\",\"4805\",\"4806\",\"4807\",\"4808\",\"4809\",\"4810\",\"4811\",\"4812\",\"4813\",\"4814\",\"4815\",\"4816\",\"4817\",\"4818\",\"4819\",\"4820\",\"4821\",\"4822\",\"4823\",\"4824\",\"4825\",\"4826\",\"4827\",\"4828\",\"4829\",\"4830\",\"4831\",\"4832\",\"4833\",\"4834\",\"4835\",\"4836\",\"4837\",\"4838\",\"4839\",\"4840\",\"4841\",\"4842\",\"4843\",\"4844\",\"4845\",\"4846\",\"4847\",\"4848\",\"4849\",\"4850\",\"4851\",\"4852\",\"4853\",\"4854\",\"4855\",\"4856\",\"4857\",\"4858\",\"4859\",\"4860\",\"4861\",\"4862\",\"4863\",\"4864\",\"4865\",\"4866\",\"4867\",\"4868\",\"4869\",\"4870\",\"4871\",\"4872\",\"4873\",\"4874\",\"4875\",\"4876\",\"4877\",\"4878\",\"4879\",\"4880\",\"4881\",\"4882\",\"4883\",\"4884\",\"4885\",\"4886\",\"4887\",\"4888\",\"4889\",\"4890\",\"4891\",\"4892\",\"4893\",\"4894\",\"4895\",\"4896\",\"4897\",\"4898\",\"4899\",\"4900\",\"4901\",\"4902\",\"4903\",\"4904\",\"4905\",\"4906\",\"4907\",\"4908\",\"4909\",\"4910\",\"4911\",\"4912\",\"4913\",\"4914\",\"4915\",\"4916\",\"4917\",\"4918\",\"4919\",\"4920\",\"4921\",\"4922\",\"4923\",\"4924\",\"4925\",\"4926\",\"4927\",\"4928\",\"4929\",\"4930\",\"4931\",\"4932\",\"4933\",\"4934\",\"4935\",\"4936\",\"4937\",\"4938\",\"4939\",\"4940\",\"4941\",\"4942\",\"4943\",\"4944\",\"4945\",\"4946\",\"4947\",\"4948\",\"4949\",\"4950\",\"4951\",\"4952\",\"4953\",\"4954\",\"4955\",\"4956\",\"4957\",\"4958\",\"4959\",\"4960\",\"4961\",\"4962\",\"4963\",\"4964\",\"4965\",\"4966\",\"4967\",\"4968\",\"4969\",\"4970\",\"4971\",\"4972\",\"4973\",\"4974\",\"4975\",\"4976\",\"4977\",\"4978\",\"4979\",\"4980\",\"4981\",\"4982\",\"4983\",\"4984\",\"4985\",\"4986\",\"4987\",\"4988\",\"4989\",\"4990\",\"4991\",\"4992\",\"4993\",\"4994\",\"4995\",\"4996\",\"4997\",\"4998\",\"4999\",\"5000\",\"5001\",\"5002\",\"5003\",\"5004\",\"5005\",\"5006\",\"5007\",\"5008\",\"5009\",\"5010\",\"5011\",\"5012\",\"5013\",\"5014\",\"5015\",\"5016\",\"5017\",\"5018\",\"5019\",\"5020\",\"5021\",\"5022\",\"5023\",\"5024\",\"5025\",\"5026\",\"5027\",\"5028\",\"5029\",\"5030\",\"5031\",\"5032\",\"5033\",\"5034\",\"5035\",\"5036\",\"5037\",\"5038\",\"5039\",\"5040\",\"5041\",\"5042\",\"5043\",\"5044\",\"5045\",\"5046\",\"5047\",\"5048\",\"5049\",\"5050\",\"5051\",\"5052\",\"5053\",\"5054\",\"5055\",\"5056\",\"5057\",\"5058\",\"5059\",\"5060\",\"5061\",\"5062\",\"5063\",\"5064\",\"5065\",\"5066\",\"5067\",\"5068\",\"5069\",\"5070\",\"5071\",\"5072\",\"5073\",\"5074\",\"5075\",\"5076\",\"5077\",\"5078\",\"5079\",\"5080\",\"5081\",\"5082\",\"5083\",\"5084\",\"5085\",\"5086\",\"5087\",\"5088\",\"5089\",\"5090\",\"5091\",\"5092\",\"5093\",\"5094\",\"5095\",\"5096\",\"5097\",\"5098\",\"5099\",\"5100\",\"5101\",\"5102\",\"5103\",\"5104\",\"5105\",\"5106\",\"5107\",\"5108\",\"5109\",\"5110\",\"5111\",\"5112\",\"5113\",\"5114\",\"5115\",\"5116\",\"5117\",\"5118\",\"5119\",\"5120\",\"5121\",\"5122\",\"5123\",\"5124\",\"5125\",\"5126\",\"5127\",\"5128\",\"5129\",\"5130\",\"5131\",\"5132\",\"5133\",\"5134\",\"5135\",\"5136\",\"5137\",\"5138\",\"5139\",\"5140\",\"5141\",\"5142\",\"5143\",\"5144\",\"5145\",\"5146\",\"5147\",\"5148\",\"5149\",\"5150\",\"5151\",\"5152\",\"5153\",\"5154\",\"5155\",\"5156\",\"5157\",\"5158\",\"5159\",\"5160\",\"5161\",\"5162\",\"5163\",\"5164\",\"5165\",\"5166\",\"5167\",\"5168\",\"5169\",\"5170\",\"5171\",\"5172\",\"5173\",\"5174\",\"5175\",\"5176\",\"5177\",\"5178\",\"5179\",\"5180\",\"5181\",\"5182\",\"5183\",\"5184\",\"5185\",\"5186\",\"5187\",\"5188\",\"5189\",\"5190\",\"5191\",\"5192\",\"5193\",\"5194\",\"5195\",\"5196\",\"5197\",\"5198\",\"5199\",\"5200\",\"5201\",\"5202\",\"5203\",\"5204\",\"5205\",\"5206\",\"5207\",\"5208\",\"5209\",\"5210\",\"5211\",\"5212\",\"5213\",\"5214\",\"5215\",\"5216\",\"5217\",\"5218\",\"5219\",\"5220\",\"5221\",\"5222\",\"5223\",\"5224\",\"5225\",\"5226\",\"5227\",\"5228\",\"5229\",\"5230\",\"5231\",\"5232\",\"5233\",\"5234\",\"5235\",\"5236\",\"5237\",\"5238\",\"5239\",\"5240\",\"5241\",\"5242\",\"5243\",\"5244\",\"5245\",\"5246\",\"5247\",\"5248\",\"5249\",\"5250\",\"5251\",\"5252\",\"5253\",\"5254\",\"5255\",\"5256\",\"5257\",\"5258\",\"5259\",\"5260\",\"5261\",\"5262\",\"5263\",\"5264\",\"5265\",\"5266\",\"5267\",\"5268\",\"5269\",\"5270\",\"5271\",\"5272\",\"5273\",\"5274\",\"5275\",\"5276\",\"5277\",\"5278\",\"5279\",\"5280\",\"5281\",\"5282\",\"5283\",\"5284\",\"5285\",\"5286\",\"5287\",\"5288\",\"5289\",\"5290\",\"5291\",\"5292\",\"5293\",\"5294\",\"5295\",\"5296\",\"5297\",\"5298\",\"5299\",\"5300\",\"5301\",\"5302\",\"5303\",\"5304\",\"5305\",\"5306\",\"5307\",\"5308\",\"5309\",\"5310\",\"5311\",\"5312\",\"5313\",\"5314\",\"5315\",\"5316\",\"5317\",\"5318\",\"5319\",\"5320\",\"5321\",\"5322\",\"5323\",\"5324\",\"5325\",\"5326\",\"5327\",\"5328\",\"5329\",\"5330\",\"5331\",\"5332\",\"5333\",\"5334\",\"5335\",\"5336\",\"5337\",\"5338\",\"5339\",\"5340\",\"5341\",\"5342\",\"5343\",\"5344\",\"5345\",\"5346\",\"5347\",\"5348\",\"5349\",\"5350\",\"5351\",\"5352\",\"5353\",\"5354\",\"5355\",\"5356\",\"5357\",\"5358\",\"5359\",\"5360\",\"5361\",\"5362\",\"5363\",\"5364\",\"5365\",\"5366\",\"5367\",\"5368\",\"5369\",\"5370\",\"5371\",\"5372\",\"5373\",\"5374\",\"5375\",\"5376\",\"5377\",\"5378\",\"5379\",\"5380\",\"5381\",\"5382\",\"5383\",\"5384\",\"5385\",\"5386\",\"5387\",\"5388\",\"5389\",\"5390\",\"5391\",\"5392\",\"5393\",\"5394\",\"5395\",\"5396\",\"5397\",\"5398\",\"5399\",\"5400\",\"5401\",\"5402\",\"5403\",\"5404\",\"5405\",\"5406\",\"5407\",\"5408\",\"5409\",\"5410\",\"5411\",\"5412\",\"5413\",\"5414\",\"5415\",\"5416\",\"5417\",\"5418\",\"5419\",\"5420\",\"5421\",\"5422\",\"5423\",\"5424\",\"5425\",\"5426\",\"5427\",\"5428\",\"5429\",\"5430\",\"5431\",\"5432\",\"5433\",\"5434\",\"5435\",\"5436\",\"5437\",\"5438\",\"5439\",\"5440\",\"5441\",\"5442\",\"5443\",\"5444\",\"5445\",\"5446\",\"5447\",\"5448\",\"5449\",\"5450\",\"5451\",\"5452\",\"5453\",\"5454\",\"5455\",\"5456\",\"5457\",\"5458\",\"5459\",\"5460\",\"5461\",\"5462\",\"5463\",\"5464\",\"5465\",\"5466\",\"5467\",\"5468\",\"5469\",\"5470\",\"5471\",\"5472\",\"5473\",\"5474\",\"5475\",\"5476\",\"5477\",\"5478\",\"5479\",\"5480\",\"5481\",\"5482\",\"5483\",\"5484\",\"5485\",\"5486\",\"5487\",\"5488\",\"5489\",\"5490\",\"5491\",\"5492\",\"5493\",\"5494\",\"5495\",\"5496\",\"5497\",\"5498\",\"5499\",\"5500\",\"5501\",\"5502\",\"5503\",\"5504\",\"5505\",\"5506\",\"5507\",\"5508\",\"5509\",\"5510\",\"5511\",\"5512\",\"5513\",\"5514\",\"5515\",\"5516\",\"5517\",\"5518\",\"5519\",\"5520\",\"5521\",\"5522\",\"5523\",\"5524\",\"5525\",\"5526\",\"5527\",\"5528\",\"5529\",\"5530\",\"5531\",\"5532\",\"5533\",\"5534\",\"5535\",\"5536\",\"5537\",\"5538\",\"5539\",\"5540\",\"5541\",\"5542\",\"5543\",\"5544\",\"5545\",\"5546\",\"5547\",\"5548\",\"5549\",\"5550\",\"5551\",\"5552\",\"5553\",\"5554\",\"5555\",\"5556\",\"5557\",\"5558\",\"5559\",\"5560\",\"5561\",\"5562\",\"5563\",\"5564\",\"5565\",\"5566\",\"5567\",\"5568\",\"5569\",\"5570\",\"5571\",\"5572\",\"5573\",\"5574\",\"5575\",\"5576\",\"5577\",\"5578\",\"5579\",\"5580\",\"5581\",\"5582\",\"5583\",\"5584\",\"5585\",\"5586\",\"5587\",\"5588\",\"5589\",\"5590\",\"5591\",\"5592\",\"5593\",\"5594\",\"5595\",\"5596\",\"5597\",\"5598\",\"5599\",\"5600\",\"5601\",\"5602\",\"5603\",\"5604\",\"5605\",\"5606\",\"5607\",\"5608\",\"5609\",\"5610\",\"5611\",\"5612\",\"5613\",\"5614\",\"5615\",\"5616\",\"5617\",\"5618\",\"5619\",\"5620\",\"5621\",\"5622\",\"5623\",\"5624\",\"5625\",\"5626\",\"5627\",\"5628\",\"5629\",\"5630\",\"5631\",\"5632\",\"5633\",\"5634\",\"5635\",\"5636\",\"5637\",\"5638\",\"5639\",\"5640\",\"5641\",\"5642\",\"5643\",\"5644\",\"5645\",\"5646\",\"5647\",\"5648\",\"5649\",\"5650\",\"5651\",\"5652\",\"5653\",\"5654\",\"5655\",\"5656\",\"5657\",\"5658\",\"5659\",\"5660\",\"5661\",\"5662\",\"5663\",\"5664\",\"5665\",\"5666\",\"5667\",\"5668\",\"5669\",\"5670\",\"5671\",\"5672\",\"5673\",\"5674\",\"5675\",\"5676\",\"5677\",\"5678\",\"5679\",\"5680\",\"5681\",\"5682\",\"5683\",\"5684\",\"5685\",\"5686\",\"5687\",\"5688\",\"5689\",\"5690\",\"5691\",\"5692\",\"5693\",\"5694\",\"5695\",\"5696\",\"5697\",\"5698\",\"5699\",\"5700\",\"5701\",\"5702\",\"5703\",\"5704\",\"5705\",\"5706\",\"5707\",\"5708\",\"5709\",\"5710\",\"5711\",\"5712\",\"5713\",\"5714\",\"5715\",\"5716\",\"5717\",\"5718\",\"5719\",\"5720\",\"5721\",\"5722\",\"5723\",\"5724\",\"5725\",\"5726\",\"5727\",\"5728\",\"5729\",\"5730\",\"5731\",\"5732\",\"5733\",\"5734\",\"5735\",\"5736\",\"5737\",\"5738\",\"5739\",\"5740\",\"5741\",\"5742\",\"5743\",\"5744\",\"5745\",\"5746\",\"5747\",\"5748\",\"5749\",\"5750\",\"5751\",\"5752\",\"5753\",\"5754\",\"5755\",\"5756\",\"5757\",\"5758\",\"5759\",\"5760\",\"5761\",\"5762\",\"5763\",\"5764\",\"5765\",\"5766\",\"5767\",\"5768\",\"5769\",\"5770\",\"5771\",\"5772\",\"5773\",\"5774\",\"5775\",\"5776\",\"5777\",\"5778\",\"5779\",\"5780\",\"5781\",\"5782\",\"5783\",\"5784\",\"5785\",\"5786\",\"5787\",\"5788\",\"5789\",\"5790\",\"5791\",\"5792\",\"5793\",\"5794\",\"5795\",\"5796\",\"5797\",\"5798\",\"5799\",\"5800\",\"5801\",\"5802\",\"5803\",\"5804\",\"5805\",\"5806\",\"5807\",\"5808\",\"5809\",\"5810\",\"5811\",\"5812\",\"5813\",\"5814\",\"5815\",\"5816\",\"5817\",\"5818\",\"5819\",\"5820\",\"5821\",\"5822\",\"5823\",\"5824\",\"5825\",\"5826\",\"5827\",\"5828\",\"5829\",\"5830\",\"5831\",\"5832\",\"5833\",\"5834\",\"5835\",\"5836\",\"5837\",\"5838\",\"5839\",\"5840\",\"5841\",\"5842\",\"5843\",\"5844\",\"5845\",\"5846\",\"5847\",\"5848\",\"5849\",\"5850\",\"5851\",\"5852\",\"5853\",\"5854\",\"5855\",\"5856\",\"5857\",\"5858\",\"5859\",\"5860\",\"5861\",\"5862\",\"5863\",\"5864\",\"5865\",\"5866\",\"5867\",\"5868\",\"5869\",\"5870\",\"5871\",\"5872\",\"5873\",\"5874\",\"5875\",\"5876\",\"5877\",\"5878\",\"5879\",\"5880\",\"5881\",\"5882\",\"5883\",\"5884\",\"5885\",\"5886\",\"5887\",\"5888\",\"5889\",\"5890\",\"5891\",\"5892\",\"5893\",\"5894\",\"5895\",\"5896\",\"5897\",\"5898\",\"5899\",\"5900\",\"5901\",\"5902\",\"5903\",\"5904\",\"5905\",\"5906\",\"5907\",\"5908\",\"5909\",\"5910\",\"5911\",\"5912\",\"5913\",\"5914\",\"5915\",\"5916\",\"5917\",\"5918\",\"5919\",\"5920\",\"5921\",\"5922\",\"5923\",\"5924\",\"5925\",\"5926\",\"5927\",\"5928\",\"5929\",\"5930\",\"5931\",\"5932\",\"5933\",\"5934\",\"5935\",\"5936\",\"5937\",\"5938\",\"5939\",\"5940\",\"5941\",\"5942\",\"5943\",\"5944\",\"5945\",\"5946\",\"5947\",\"5948\",\"5949\",\"5950\",\"5951\",\"5952\",\"5953\",\"5954\",\"5955\",\"5956\",\"5957\",\"5958\",\"5959\",\"5960\",\"5961\",\"5962\",\"5963\",\"5964\",\"5965\",\"5966\",\"5967\",\"5968\",\"5969\",\"5970\",\"5971\",\"5972\",\"5973\",\"5974\",\"5975\",\"5976\",\"5977\",\"5978\",\"5979\",\"5980\",\"5981\",\"5982\",\"5983\",\"5984\",\"5985\",\"5986\",\"5987\",\"5988\",\"5989\",\"5990\",\"5991\",\"5992\",\"5993\",\"5994\",\"5995\",\"5996\",\"5997\",\"5998\",\"5999\",\"6000\",\"6001\",\"6002\",\"6003\",\"6004\",\"6005\",\"6006\",\"6007\",\"6008\",\"6009\",\"6010\",\"6011\",\"6012\",\"6013\",\"6014\",\"6015\",\"6016\",\"6017\",\"6018\",\"6019\",\"6020\",\"6021\",\"6022\",\"6023\",\"6024\",\"6025\",\"6026\",\"6027\",\"6028\",\"6029\",\"6030\",\"6031\",\"6032\",\"6033\",\"6034\",\"6035\",\"6036\",\"6037\",\"6038\",\"6039\",\"6040\",\"6041\",\"6042\",\"6043\",\"6044\",\"6045\",\"6046\",\"6047\",\"6048\",\"6049\",\"6050\",\"6051\",\"6052\",\"6053\",\"6054\",\"6055\",\"6056\",\"6057\",\"6058\",\"6059\",\"6060\",\"6061\",\"6062\",\"6063\",\"6064\",\"6065\",\"6066\",\"6067\",\"6068\",\"6069\",\"6070\",\"6071\",\"6072\",\"6073\",\"6074\",\"6075\",\"6076\",\"6077\",\"6078\",\"6079\",\"6080\",\"6081\",\"6082\",\"6083\",\"6084\",\"6085\",\"6086\",\"6087\",\"6088\",\"6089\",\"6090\",\"6091\",\"6092\",\"6093\",\"6094\",\"6095\",\"6096\",\"6097\",\"6098\",\"6099\",\"6100\",\"6101\",\"6102\",\"6103\"],\"y\":[null,null,null,null,null,null,null,null,null,null,null,null,null,null,null,null,null,null,null,null,null,null,null,null,null,null,null,null,null,null,null,null,null,null,null,null,null,null,null,null,null,null,null,null,null,null,null,null,null,null,null,null,null,null,null,null,null,null,null,null,null,null,null,null,null,null,null,null,null,null,null,null,null,null,null,null,null,null,null,null,null,null,null,null,null,null,null,null,null,null,null,null,null,null,null,null,null,null,null,null,null,null,null,null,null,null,null,null,1006.6,15793.8,7010.0,4794.6,5856.2,7499.7,7743.5,7835.2,4299.7,2139.9,999.3,2038.6,1108.1,2820.6,4751.1,1529.5,151.9,256.8,469.8,4331.6,3714.1,2871.4,2114.0,4849.5,2309.6,1635.0,2.0,0.0,2.0,535.3,232.6,1.3,13.8,314.2,0.0,166.2,0.0,1.1,0.0,560.7,16.0,148.6,144.8,193.9,0.0,3.8,68.3,234.6,723.4,450.4,0.0,0.0,3.1,102.8,481.2,343.1,472.3,5.8,130.9,0.0,0.0,24.1,332.1,359.4,0.7,363.6,70.7,4.3,95.4,5.8,135.3,312.0,0.3,78.9,81.5,102.5,142.3,516.6,3.2,123.9,4525.9,9754.2,5412.5,5571.0,5060.5,4435.1,3524.1,3917.3,2393.6,1813.3,611.0,1075.6,6635.3,15236.5,12341.0,7313.7,5226.2,4371.5,4992.6,8389.8,10363.5,9350.2,6293.5,3118.9,1760.6,5166.9,5134.8,3471.8,706.4,2006.8,3928.9,5277.6,7622.4,0.0,9609.2,14466.9,2271.0,2650.7,1905.1,4539.7,776.8,2084.6,3437.0,2024.2,5660.4,7986.1,11120.7,9022.1,13396.0,9458.2,17128.7,19815.6,18304.6,17621.0,18393.2,10424.1,9637.8,18600.3,18648.5,9689.4,4624.5,6959.0,4359.7,7515.5,2771.4,7077.7,11419.7,10182.0,7488.3,4260.1,8648.3,9109.3,1743.2,790.3,787.5,1176.9,738.2,569.4,419.1,583.5,1436.6,808.0,3602.0,6437.4,4910.3,6007.2,1121.7,1792.8,4062.8,3830.7,723.4,993.7,599.1,455.4,794.1,409.8,798.5,608.4,682.2,742.2,718.4,516.9,1931.5,138.8,790.6,171.7,247.0,440.6,339.4,425.6,378.3,5179.7,10.8,1.7,19.1,0.0,0.0,1.3,488.7,19.8,5.7,0.0,0.0,0.0,0.3,448.6,82.9,0.0,203.2,131.4,76.4,264.0,0.4,0.0,61.4,27.0,109.1,363.1,1.2,85.1,384.3,95.7,0.0,441.0,54.3,60.0,209.7,3844.8,6457.6,4329.4,11588.0,7800.6,2572.1,7857.3,6446.8,3254.8,5395.0,4172.4,1445.2,7160.8,5666.4,1909.3,4624.8,5815.8,2337.6,2744.4,1463.3,2184.6,3965.0,6627.1,9408.1,2174.0,725.9,3170.1,4028.2,92.6,369.8,797.6,975.8,265.2,0.0,2.4,251.4,97.4,894.9,1242.1,667.6,2114.8,5478.0,4613.5,6580.9,5059.3,9132.0,6144.1,3900.6,9178.3,8990.4,2743.7,2810.3,5721.9,10843.3,9835.3,3350.9,11829.8,11910.4,7821.6,6830.3,8488.7,16212.2,16114.3,16620.0,12632.9,3731.7,2036.7,7019.2,1602.0,13.8,8.4,2278.1,1801.5,1804.4,1826.7,1274.7,568.0,1278.7,728.8,2524.8,1505.6,5677.8,2145.8,2723.0,3151.4,90.3,0.4,0.0,0.5,56.6,269.4,3.5,0.0,0.0,0.0,0.0,313.1,0.0,0.0,248.7,378.1,909.1,1.3,21.4,0.0,0.0,0.0,0.0,54.9,318.5,0.0,52.9,234.2,53.8,458.3,351.4,129.5,292.3,18.4,0.0,0.0,173.0,296.8,0.0,0.0,99.1,513.6,48.6,33.0,168.2,196.5,122.9,86.9,275.2,1.2,365.5,0.3,55.0,143.8,0.8,87.5,547.7,5629.6,2831.6,2317.6,5279.0,9809.0,6246.2,5650.7,5112.7,5107.8,3006.4,3725.0,3331.5,2105.1,4628.6,4063.9,2857.2,3148.0,4951.0,15868.2,13235.0,6862.5,2720.3,10370.5,11633.9,8703.8,7976.1,7158.3,5338.8,5651.0,9521.1,9004.3,9304.3,10694.8,10825.1,5185.6,1344.8,4760.4,3466.8,2711.8,10355.5,8625.7,3920.5,5767.1,6173.6,3082.2,4043.2,9672.8,8775.8,5589.8,5036.2,6768.4,6427.6,5462.9,12407.0,11072.6,12775.3,9648.0,5862.4,10117.7,18270.5,11402.1,9992.7,6203.5,3743.8,1247.8,3778.9,2013.0,1534.1,2924.1,1335.4,2470.4,947.2,1273.0,5658.7,1856.5,6492.8,3046.7,213.4,39.5,1.0,258.5,1.0,0.0,0.6,0.0,0.4,639.1,203.2,537.1,49.5,0.4,24.8,0.0,154.8,173.4,315.6,153.2,668.9,66.1,158.1,63.4,6.2,2.0,21.8,329.9,779.0,102.0,151.0,187.7,491.6,1004.1,119.2,7.5,3.4,908.7,0.0,0.0,69.1,83.2,155.5,339.1,183.4,0.0,170.5,97.1,52.5,0.0,107.3,141.9,820.6,0.0,258.8,781.0,236.1,89.9,68.4,176.5,243.9,490.6,130.3,0.8,700.0,3423.3,0.0,87.9,0.0,7135.6,12069.9,15663.3,11777.0,3473.5,2675.1,2669.5,4991.4,7567.3,6210.1,6210.4,7608.7,4808.1,11201.3,15806.4,22005.9,21912.4,24417.7,21968.6,23583.5,7560.8,6873.3,7658.1,6317.0,5437.3,5319.2,3569.4,5030.3,947.7,2280.7,471.7,3498.9,6189.4,10036.4,13185.8,16089.4,28398.6,30069.3,29059.7,31688.6,24337.5,24174.6,11471.2,1399.0,2961.7,2938.4,1907.9,1499.2,1566.3,829.8,932.0,1535.6,12167.2,6892.2,5502.1,8832.4,8078.3,8075.4,14597.6,14811.1,5890.2,5654.8,4534.1,7174.4,5461.0,1692.6,2238.0,1315.9,1765.9,2167.9,1218.5,3422.5,2532.2,4561.7,1334.3,55.1,176.3,681.5,403.1,3.4,783.5,175.7,0.0,0.0,0.5,126.3,285.0,21.8,41.9,394.7,0.9,1.1,4.0,0.0,26.6,0.0,214.4,110.7,0.0,117.5,735.8,138.1,0.0,0.0,38.8,15.8,142.7,133.4,24.9,222.1,14.4,0.0,30.8,661.2,33.1,20.6,208.7,72.4,317.9,209.8,163.0,0.0,0.3,274.9,313.3,0.0,0.0,56.3,85.5,125.3,8.4,32.2,36.9,256.5,428.7,70.6,582.0,7.0,184.5,2.2,744.1,10757.2,9518.9,9315.8,5834.0,3640.4,1708.9,3854.1,2473.7,5742.1,8591.4,5743.7,5052.9,10978.5,6284.4,26237.7,28906.2,24201.3,11965.5,22264.6,23883.9,22652.1,21082.3,24059.5,5037.9,13685.7,19961.3,20669.5,23844.6,11619.3,5529.2,5083.3,10389.8,5903.0,5622.9,4759.0,2338.3,1662.6,2664.0,1721.2,3762.2,5821.2,19.7,2.3,0.0,49.1,2.1,73.7,196.1,2.8,3791.8,5874.7,4623.2,600.9,1427.1,3479.5,10833.6,4383.3,2430.6,6347.6,4951.1,3278.3,2441.0,3947.5,5997.3,5589.2,3895.5,4336.9,3535.9,6292.1,9424.1,1915.5,2574.9,3271.6,3121.9,2485.5,1861.7,3091.5,477.4,1724.8,1845.3,890.7,1633.1,215.8,4562.6,25.6,0.4,0.0,0.0,0.0,106.1,21.9,1.0,0.0,911.5,0.0,113.3,46.5,194.9,2.5,0.0,0.6,190.3,227.9,132.9,270.1,164.1,83.9,70.2,0.0,55.8,0.0,375.6,0.0,94.3,7.3,0.0,151.8,45.7,698.9,2.4,0.0,169.5,436.3,20.2,0.0,41.6,165.2,51.8,325.0,0.5,0.0,0.0,58.7,333.3,56.1,193.3,140.9,198.4,174.0,4245.6,4.8,136.4,55.3,204.5,80.1,110.9,113.9,499.6,0.4,11.6,196.4,393.4,3658.0,6926.4,9839.5,5068.7,8844.9,5952.5,2751.5,3814.2,4325.4,6433.0,617.3,3019.8,5238.7,7449.3,13347.4,18011.4,37189.9,32168.5,34158.1,32744.0,29330.8,33871.3,18269.0,8094.4,31222.6,27800.5,32357.8,25214.8,27385.1,26302.4,27521.7,30649.8,29944.5,31322.3,17294.3,22661.2,8359.9,6910.1,7336.7,8354.3,8901.8,8656.5,3707.3,5752.0,11351.1,5602.2,1357.8,1098.3,763.9,1117.7,788.9,705.6,1314.2,683.0,805.2,1017.8,835.8,8701.4,8233.3,5812.6,3707.3,6915.2,8416.9,5602.0,5226.8,6315.4,6701.5,7900.1,1209.7,910.4,1706.4,1796.2,766.5,2079.1,1172.0,502.1,3054.9,3953.6,49.1,33.8,0.0,0.0,0.0,32.8,254.4,75.8,124.9,0.0,80.7,584.1,0.0,0.0,0.3,249.8,0.8,0.7,9.5,54.6,0.0,345.4,63.6,949.2,14.8,55.0,64.7,11.0,47.0,2.3,0.0,305.0,60.7,86.5,45.1,228.0,36.1,0.0,710.7,39.0,0.0,42.9,686.9,5.4,0.4,0.6,0.0,0.0,36.2,68.2,99.6,55.3,84.0,576.4,5.7,1.8,55.6,6149.5,4136.8,2912.7,1203.5,1185.8,573.6,2080.9,2373.7,9653.9,5766.5,3453.2,4187.0,1911.6,7362.1,9610.7,10450.5,5201.9,18270.1,7899.3,19653.1,34563.2,34216.6,35976.3,32870.8,25659.2,28774.2,30979.5,24820.9,3957.8,11314.8,25735.4,24771.9,25505.4,20790.0,34835.4,16366.5,10098.7,7096.8,5291.2,6804.1,6362.0,8076.7,9115.4,7449.0,6513.6,8840.0,8842.0,4595.7,1426.6,1349.2,8717.4,5079.4,4868.5,8417.0,9944.2,7113.4,5903.1,5267.8,4363.1,5454.5,5179.1,5573.8,3099.7,4587.7,6700.4,5259.8,4962.4,4374.0,4913.3,7451.5,5740.5,6839.8,4515.8,777.1,2209.0,2392.6,3237.9,3279.7,2951.2,2598.1,11281.2,11753.5,8717.1,4139.0,4250.2,1614.9,378.1,591.3,2059.8,1279.5,590.9,233.8,202.5,205.2,300.9,253.8,842.8,402.6,121.9,453.7,4185.1,2522.6,2461.6,9619.4,6454.5,1700.8,1092.4,1852.6,1919.6,2056.5,1485.1,2209.0,1569.6,2905.3,4686.9,298.6,273.6,34.0,0.0,0.0,43.9,6.6,1.3,7.3,167.0,109.7,35.9,0.0,8.8,1.2,29.0,8.0,20.0,6.5,239.6,250.5,2.2,154.4,22.8,0.8,0.5,597.7,166.2,65.9,19.3,30.6,10.1,207.9,4.7,103.9,73.7,277.8,1995.6,7108.4,5485.7,2837.3,3458.5,3545.5,2215.1,3867.1,10018.7,18718.8,3370.8,9493.6,5258.2,7695.3,8483.4,4443.5,550.8,304.6,3072.7,7858.9,8028.4,12714.7,11437.3,12084.8,8347.7,6601.1,6331.1,7160.9,5471.8,6251.1,4435.0,2819.3,4022.1,8830.1,3394.6,5098.5,11656.8,2086.2,120.3,4486.3,3773.7,2329.9,14839.0,5509.1,6573.8,6487.0,2711.2,3519.0,6877.3,7363.6,3328.2,9230.6,8770.6,4598.9,1261.5,3283.0,478.7,4730.1,4854.1,3151.5,1386.9,771.1,359.6,285.5,1227.7,1810.0,910.2,913.1,3723.7,1309.3,1182.6,3520.6,2475.6,7059.2,1626.5,2645.5,7131.8,5312.7,1234.1,0.0,0.0,0.0,233.9,0.0,0.0,0.0,0.0,0.0,185.8,196.5,268.8,23.1,67.6,0.0,0.0,164.4,8.4,0.0,602.3,1767.1,5.0,0.0,131.6,49.9,27.1,0.0,1.1,19.4,149.2,0.8,151.8,209.1,197.0,333.9,0.0,182.6,4.6,4.7,16.8,146.4,438.7,177.1,102.3,287.1,3.1,20.2,14.5,116.3,123.7,550.1,114.6,59.5,1.7,113.3,66.6,709.9,3.0,3.1,209.2,2491.7,6996.8,4417.5,1746.4,1980.0,3082.2,1778.3,2927.7,3515.3,1900.0,2208.4,2852.2,3022.1,2929.4,2924.2,2270.4,6097.7,2169.6,2098.1,2570.5,4597.0,4438.9,7592.9,3604.6,1337.8,7708.0,9489.0,8910.4,9039.8,8350.6,6558.8,8902.4,9354.5,13381.1,11140.2,6220.5,1773.9,2323.8,3803.1,4975.7,11622.3,11367.8,9423.0,7875.9,19828.8,19091.2,12656.1,17648.5,11956.5,1871.2,8698.2,17336.3,8921.4,13673.2,11898.1,11484.2,10144.5,11710.2,16200.6,11798.8,13497.2,11845.6,13682.9,8441.0,6975.2,6809.0,6405.9,4653.4,3741.7,3826.2,4263.5,1032.1,845.2,249.2,354.2,561.9,4258.7,7651.2,5695.3,3428.3,6350.2,40.9,4310.7,6228.3,459.2,277.7,765.8,830.3,419.4,197.3,682.3,2292.8,823.9,1516.8,1712.7,139.4,337.8,149.5,110.8,182.2,589.9,71.9,390.4,387.4,180.6,5655.5,1505.9,23.0,971.8,3.1,0.0,0.0,0.0,0.3,156.4,1.1,0.3,0.0,8.4,267.3,0.0,0.3,163.2,3533.1,10427.6,10857.8,8227.4,8841.5,13503.6,8384.1,6605.7,6695.9,5378.5,7706.4,7926.3,7767.0,7740.7,9168.3,7078.9,6007.5,4468.5,4550.3,3397.1,4869.6,5252.4,7484.0,11597.3,1462.3,1877.7,5542.2,77.5,94.0,368.1,245.4,719.4,431.6,2145.4,4473.3,9366.0,2423.9,2978.1,2829.4,570.5,451.2,1465.6,669.7,1242.7,759.8,1346.3,1075.4,1299.3,5162.3,2608.6,2021.6,1256.9,1660.2,4644.9,2500.9,1501.2,1259.5,4316.8,7785.5,2678.7,6379.4,5486.8,5011.3,6225.8,8637.1,8399.7,5358.6,3223.0,3388.9,7542.6,5013.2,4434.7,5978.3,3643.9,5262.2,5130.9,6673.7,8495.3,1098.1,680.9,4376.2,3481.2,6709.9,5881.6,2370.9,1071.7,1520.8,3144.9,2052.7,5078.5,4435.7,1143.8,4175.1,1601.8,920.0,1845.7,1799.7,1240.7,1756.5,721.4,1061.8,1661.1,1254.7,1320.5,895.5,1080.4,42.8,154.6,67.0,251.6,316.4,32.4,87.9,35.3,238.2,46.1,103.8,230.7,246.8,45.6,255.9,0.0,1.8,0.0,0.0,394.6,0.3,0.6,0.7,154.5,189.8,0.0,0.0,0.0,0.0,0.0,78.8,83.7,44.5,104.7,467.6,0.0,0.0,528.7,0.0,94.5,82.1,264.5,202.5,279.7,2.8,120.2,0.0,0.0,19.6,181.7,40.5,84.5,113.1,130.7,106.7,29.3,149.5,74.0,163.5,36.0,0.0,642.9,2.7,0.0,680.5,6003.8,4649.2,4748.6,1739.1,2435.3,2927.7,2814.4,2716.6,675.0,4777.5,3798.4,2024.0,2420.8,538.9,6999.1,4926.5,3377.8,2574.9,9919.4,14623.9,6145.7,1344.8,1480.3,787.3,3617.3,3092.2,6118.3,4395.7,7485.8,4269.0,3921.4,6679.9,11008.1,1396.1,8124.0,15612.1,4866.2,4568.7,1717.3,1117.0,2405.9,3550.5,4127.4,6057.1,4561.7,10020.7,12148.2,10310.4,3177.8,7398.4,9481.0,11725.1,9721.5,11601.4,6782.6,12254.1,14355.2,16668.5,17868.6,12301.8,11542.6,9704.0,5966.6,5107.9,7607.9,7939.4,209.7,1125.2,2523.3,1423.6,1342.9,2072.8,7866.6,1367.1,5940.1,2786.5,1484.5,3299.4,766.8,67.9,0.0,0.0,0.0,0.0,168.1,0.4,0.4,300.8,120.2,3.5,136.0,145.5,65.7,122.8,106.3,174.7,268.0,0.0,25.9,145.1,0.0,0.0,0.0,0.0,308.9,333.3,0.5,106.9,434.0,0.4,35.7,47.8,58.1,84.0,61.4,318.9,88.9,177.5,1.3,0.0,311.9,280.0,1.3,224.2,189.7,345.6,53.6,166.2,33.2,0.6,70.6,573.1,1268.5,1352.7,362.4,1279.9,51.7,379.4,16.7,396.8,2593.3,6891.3,10159.9,2407.9,896.2,3283.3,8283.6,7662.3,6832.6,4903.2,6126.2,12227.4,5997.3,4812.2,11279.0,11536.5,5081.9,7519.8,3706.2,10017.5,8696.2,6175.7,6953.5,10923.3,7347.4,2339.5,553.5,2330.0,2783.0,3268.3,944.6,1960.3,1285.6,6004.5,11071.9,3500.5,6394.5,3921.4,2586.6,5748.2,9199.5,5068.8,3843.8,3664.1,4466.3,3209.1,5811.7,3220.2,2804.9,1844.8,191.7,1584.1,4413.6,7204.1,6036.4,4932.4,4888.0,5437.9,5705.3,5404.1,6279.8,5118.0,1744.2,2526.6,3561.6,1609.8,7051.5,5308.2,2401.3,2887.5,480.1,212.4,415.3,272.5,3265.7,4443.7,1200.6,2349.4,5695.6,1605.1,5.1,0.3,2.3,0.0,0.0,0.0,83.2,0.0,1.8,0.0,234.4,423.4,395.2,188.1,3.4,425.5,196.7,93.7,424.8,65.0,0.0,0.0,73.9,0.0,0.0,344.2,0.0,172.6,525.6,0.0,57.7,123.7,2.0,68.4,0.0,22.2,21.6,418.0,221.0,406.6,0.4,0.0,91.2,87.7,61.4,381.8,51.3,77.3,6.2,177.9,0.9,420.4,53.0,0.0,0.3,3.9,396.7,0.7,222.8,12.3,438.0,109.7,98.1,6.3,4613.1,4080.6,7245.2,2490.1,3137.0,4466.1,1783.1,3425.4,4544.4,5673.6,3584.2,2426.9,2739.6,2465.7,4056.8,5323.6,3835.4,4600.8,4718.2,6554.2,3546.9,5387.9,11397.0,12320.8,21167.6,28434.2,16985.2,17525.2,17902.1,20026.2,22451.4,22865.6,19711.8,17691.2,22843.1,20119.6,19186.3,19927.4,9332.2,4231.5,5336.7,5694.9,5191.4,2975.1,2501.0,23163.7,29037.9,18466.5,2863.0,17295.9,28968.3,24517.9,2805.1,2857.0,3166.5,3135.8,10867.2,13476.2,17244.9,9846.6,9354.8,5806.8,3925.2,329.7,0.0,0.0,2382.8,3744.6,3459.9,2452.7,1700.6,3578.5,854.1,1791.4,1082.0,685.7,594.2,114.5,100.2,65.1,182.4,225.2,183.6,153.2,223.8,889.2,207.6,2.8,40.7,0.0,1115.4,3.0,0.0,265.1,0.3,214.3,89.5,346.6,70.0,0.0,0.0,0.4,0.3,267.7,131.1,44.6,238.6,360.7,317.5,368.0,292.3,0.8,152.1,112.7,542.3,215.0,96.6,0.0,215.4,133.2,484.1,193.5,262.4,48.1,95.4,11.5,178.6,753.5,50.8,14.7,391.8,0.5,127.6,15.1,45.7,150.2,333.8,2.0,53.9,251.2,211.7,20.0,1920.7,6013.4,7500.2,5192.8,3199.0,1635.5,2152.0,2044.8,2630.1,10946.0,3555.1,8042.5,5615.1,10869.6,10341.7,6066.8,7124.8,9258.2,1771.8,1640.0,22255.5,40332.7,16475.1,18831.5,32833.3,9384.6,15679.2,32747.8,35226.1,28252.5,30428.1,31995.1,24561.6,28490.7,28832.2,20244.5,3203.2,1706.3,1972.4,3842.9,3254.6,9799.1,3086.0,4894.6,9015.6,6707.5,7981.9,8396.4,10928.2,10440.4,10635.5,5878.6,6284.2,7828.8,3998.0,1303.9,6062.0,6022.6,6413.2,7914.7,9727.4,7561.3,6379.9,4279.7,4955.2,1906.3,1658.6,1005.0,1122.7,753.9,30.0,138.7,90.7,4.4,252.8,254.9,2315.9,4120.6,2256.3,4839.7,2355.5,3604.3,2446.8,2431.9,3184.8,2556.1,8101.8,7290.1,3825.8,3145.9,3063.6,1685.5,14.0,159.3,142.1,0.0,0.0,119.1,4.0,316.0,1.7,21.4,11.6,67.5,548.3,202.1,200.3,86.9,462.7,3.2,63.2,0.0,60.2,0.0,71.9,52.2,326.5,127.7,150.8,767.2,399.8,0.0,172.1,0.0,0.0,5.0,670.7,684.1,99.8,275.9,196.5,172.0,158.0,0.3,285.2,0.6,133.2,280.3,161.7,403.9,95.8,13.3,113.1,6.2,44.2,1974.9,5023.5,5135.0,4235.1,8386.8,1490.9,7203.7,7553.0,6795.9,5954.2,6989.9,7454.6,13645.7,11543.5,1801.8,3518.0,3308.7,2860.0,2613.3,3075.7,4826.1,9604.9,4725.2,3497.2,6007.5,6691.3,4243.8,2992.7,7244.0,308.1,5108.9,806.3,1126.2,1082.4,854.5,510.9,2169.4,1679.4,3593.8,5903.1,5611.6,2538.3,2008.4,2040.2,1940.9,2691.5,2047.9,2015.1,2857.4,2576.1,1542.0,429.2,3085.4,1646.1,1324.7,2843.4,16940.1,18226.5,7046.7,2729.4,5552.3,2533.3,1297.3,3245.6,539.6,564.6,255.4,867.8,1200.0,1312.5,734.9,2959.1,1799.0,627.2,6846.6,7396.0,1676.6,1535.3,1.3,0.0,0.0,0.0,0.0,248.3,202.1,518.3,73.6,3.3,0.0,0.0,0.0,76.5,2.0,521.9,1.1,88.9,79.8,67.8,79.1,184.9,191.3,435.9,95.5,101.2,132.6,0.0,50.1,10.8,126.2,155.0,0.0,24.7,266.9,542.7,106.8,0.4,145.3,245.0,0.0,0.0,134.2,0.0,141.3,229.3,81.6,291.5,26.4,139.1,135.6,320.7,146.9,0.5,0.0,73.1,115.3,2.2,90.5,41.6,196.7,86.6,84.5,4.4,141.8,1381.4,2843.8,4848.8,2890.7,1948.2,1298.9,3599.6,1027.8,8733.1,6797.6,2966.7,7608.7,4965.5,10665.4,7826.9,5262.2,3435.5,9527.8,10580.1,7447.1,6664.6,10310.4,10446.8,2510.3,2883.8,4054.0,1481.9,3268.4,3714.4,6467.8,5314.3,6988.0,3902.8,1739.2,2613.6,1056.0,1359.7,4606.5,3004.9,3371.6,6546.6,6020.3,2388.3,3736.1,2941.6,5158.4,19335.4,16198.2,9685.0,22623.4,8628.8,13496.2,6316.1,9324.9,7539.0,4128.4,7608.0,3265.5,4565.2,2782.8,3475.1,4398.4,8295.8,6956.8,5322.0,3179.9,1351.1,3666.1,2494.3,108.8,37.5,1649.4,4835.4,1486.6,81.0,0.4,0.5,491.9,32.5,0.0,3.2,102.8,467.7,547.2,118.0,7.8,134.9,578.2,239.9,81.1,0.0,0.0,86.1,76.9,28.0,305.1,46.1,340.6,90.8,22.6,21.0,679.7,3.1,78.6,0.0,174.1,115.0,264.7,58.7,1310.7,858.9,610.5,594.5,157.8,0.7,0.0,74.6,116.2,137.8,63.8,0.4,1.0,1.2,0.0,54.3,32.9,326.2,177.0,88.7,2.5,75.9,50.6,86.0,269.8,104.2,69.5,0.4,0.7,2140.3,1043.6,835.4,903.7,292.4,319.4,857.0,254.0,88.2,69.4,154.6,2762.8,5830.0,5382.1,2278.0,5110.1,5913.5,13810.5,6763.1,5264.5,1262.2,2778.0,2962.7,3353.2,4691.8,7387.1,6745.5,10061.3,6031.6,3908.6,5334.4,7569.6,7343.0,5471.4,5212.6,4505.2,1294.0,2419.3,3599.2,8112.8,3075.1,3718.6,2509.3,4274.7,7478.4,12993.2,25970.7,26146.2,21896.3,25298.4,31785.0,25015.6,23941.8,24237.7,24177.7,14490.5,20726.2,23199.4,21556.9,18157.2,22187.3,14333.7,7011.6,5707.3,4108.0,4749.0,8168.3,9299.3,1343.8,2175.6,2795.0,2201.4,1055.8,324.8,11452.0,4109.7,3535.1,2445.1,715.3,1106.2,750.5,1837.8,970.3,1902.5,2444.3,3191.4,2041.9,2415.8,1550.4,1170.1,171.3,21.6,1.1,155.1,0.0,0.0,0.0,171.7,0.9,22.7,2.9,33.0,0.0,808.1,36.7,224.4,0.0,0.0,0.4,418.7,14.4,247.2,368.5,154.7,211.1,94.8,264.2,134.9,379.9,5.0,14.9,541.3,96.8,74.9,0.0,329.8,266.0,139.4,185.9,173.2,628.4,546.0,89.8,8.0,0.0,228.0,301.5,13.7,46.5,58.7,1.6,346.8,830.6,4790.3,5293.3,6126.9,3265.1,333.4,6057.1,3784.5,7555.6,2954.8,2787.3,1070.1,1296.3,1223.0,2479.7,4970.2,2411.3,5610.3,5530.5,9.7,6880.7,7663.1,8119.9,5845.6,3294.5,1517.7,4267.9,6735.1,9325.5,9379.3,8777.7,7714.9,6622.9,14550.9,14372.7,9981.2,6370.2,5373.1,2905.9,4172.0,3339.4,2782.8,2395.8,3289.0,4717.1,11716.5,6486.6,4558.9,4901.6,8133.6,3741.1,3901.7,2506.9,5362.8,8954.4,5548.0,4139.8,5211.3,6378.9,6445.2,7224.2,5942.1,6427.0,6002.0,7868.8,5989.2,5755.9,5696.1,5893.4,5498.5,5754.9,5420.6,6032.5,6031.3,6408.5,7427.4,7792.4,12324.4,4604.4,4625.3,2880.9,1467.9,3158.7,3067.3,4103.4,5255.0,2852.9,2283.9,763.5,824.1,2764.5,1536.9,737.5,1758.6,1020.4,3326.9,4890.1,4353.6,1104.8,8.8,1.4,0.0,11.6,0.0,95.9,87.4,5.8,172.9,8.2,0.0,301.3,107.4,0.0,366.8,4.9,214.9,77.3,194.8,228.3,245.9,4.3,28.4,0.0,0.0,692.2,71.7,6.3,365.1,197.5,58.2,200.8,385.4,0.0,178.8,146.1,110.8,134.1,0.0,88.6,390.0,52.0,136.1,112.9,123.5,882.2,143.9,636.5,57.8,0.0,5.2,37.7,21.2,1694.1,4660.0,4823.0,2433.4,3175.5,3986.2,3646.0,3590.0,3325.5,1696.8,3561.6,2292.4,3824.1,4176.1,2642.2,1970.5,6454.9,1130.4,7330.8,7820.1,9894.8,884.6,4044.4,6127.4,13120.1,11831.9,10765.4,4978.9,9957.8,9599.4,5373.1,8141.2,6153.6,4624.4,2785.7,2080.2,7225.0,6508.1,3159.5,3912.1,7510.5,6423.0,4568.5,6120.4,1827.3,5805.5,7391.4,6394.5,6936.3,4995.0,6277.3,9724.2,8254.7,7655.7,11691.0,10818.8,11455.0,10115.8,4226.1,106.0,1.2,null,null,null,null,null,null,null,null,null,null,null,null,null,null,null,null,null,null,null,null,null,null,null,null,null,null,null,null,null,null,null,null,null,null,null,null,null,null,null,null,null,null,null,null,null,null,null,null,null,null,null,null,null,null,null,null,null,null,null,null,null,null,null,null,null,null,null,null,null,null,null,null,null,null,null,null,null,null,null,null,null,null,null,null,null,null,null,null,null,null,null,null,null,null,null,null,null,null,null,null,null,null,null,null,null,null,null,null,null,null,null,null,null,null,null,null,null,null,null,null,null,null,null,null,null,null,null,null,null,null,null,null,null,null,null,null,null,null,null,null,null,null,null,null,null,null,null,null,null,null,null,null,null,null,null,null,null,null,null,null,null,null,null,null,null,null,null,null,null,null,null,null,null,null,null,null,null,null,null,null,null,null,null,null,null,null,null,null,null,null,null,null,null,null,null,null,null,null,null,null,null,null,null,null,null,null,null,null,null,null,null,null,null,null,null,null,null,null,null,null,null,null,null,null,null,null,null,null,null,null,null,null,null,null,null,null,null,null,null,null,null,null,null,null,null,null,null,null,null,null,null,null,null,null,null,null,null,null,null,null,null,null,null,null,null,null,null,null,null,null,null,null,null,null,null,null,null,null,null,null,null,null,null,null,null,null,null,null,null,null,null,null,null,null,null,null,null,null,null,null,null,null,null,null,null,null,null,null,null,null,null,null,null,null,null,null,null,null,null,null,null,null,null,null,null,null,null,null,null,null,null,null,null,null,null,null,null,null,null,null,null,null,null,null,null,null,null,null,null,null,null,null,null,null,null,null,null,null,null,null,null,null,null,null,null,null,null,null,null,null,null,null,null,null,null,null,null,null,null,null,null,null,null,null,null,null,null,null,null,null,null,null,null,null,null,null,null,null,null,null,null,null,null,null,null,null,null,null,null,null,null,null,null,null,null,null,null,null,null,null,null,null,null,null,null,null,null,null,null,null,null,null,null,null,null,null,null,null,1246.7,9392.9,7796.7,14650.3,5294.5,5594.5,4633.1,5099.1,5241.2,4189.7,4524.4,4463.1,3391.0,3016.5,2120.4,3662.7,5272.9,4151.3,1629.6,1082.3,1620.8,41.4,6.9,0.3,0.0,288.0,0.0,1.0,74.4,271.4,124.6,153.5,430.2,0.0,15.6,11.2,51.8,689.3,215.3,294.5,1877.1,1655.9,96.5,53.7,298.3,169.4,388.4,144.0,72.3,78.4,226.0,112.4,2.0,63.6,0.3,285.8,57.6,115.2,415.4,134.4,36.3,133.2,137.3,25.8,136.4,218.8,90.3,41.2,205.1,129.9,15.3,25.2,16.9,218.4,31.6,111.8,77.8,1062.5,314.7,3611.8,6755.1,3038.2,4613.1,11069.4,9983.0,12800.9,10404.2,3536.0,2792.4,1019.8,904.2,935.0,1176.2,1778.1,1484.2,792.6,650.1,704.6,6847.6,1280.6,870.0,2044.7,4129.3,5827.5,4874.6,5217.5,4700.9,5148.1,4709.3,5924.2,4022.5,3804.1,3509.9,2020.2,1508.7,2024.8,2654.5,2231.1,277.4,147.4,21.8,118.8,61.9,411.7,692.8,396.2,5489.8,9738.9,7197.6,4364.7,4675.1,5305.8,5019.2,3069.1,6266.3,18887.9,4311.2,4322.5,2172.9,2312.0,3474.1,5400.6,905.2,2311.7,2862.4,3550.9,3628.9,7770.7,4884.3,7685.1,8049.4,3487.9,1510.2,1780.5,3908.1,5582.6,1679.2,1254.1,75.2,0.0,376.1,0.0,186.3,0.0,0.0,100.6,0.0,227.8,451.1,154.1,235.1,515.2,0.0,390.0,0.3,0.0,187.0,214.2,223.8,361.7,79.3,108.3,0.0,1.8,0.3,199.4,2688.9,0.3,0.0,0.0,331.7,171.2,237.7,161.6,172.9,59.7,335.0,84.0,250.7,617.0,568.1,200.0,145.4,106.6,170.0,173.4,113.1,0.0,228.1,21.6,16.1,0.0,2225.7,3899.3,2287.2,1570.6,6110.6,520.9,566.9,0.5,41.1,2.2,206.2,4911.8,14182.4,10834.2,7776.0,4860.6,4129.2,3064.6,666.6,5029.8,8901.4,6645.2,7530.2,9726.7,14212.0,9006.0,8045.2,8598.8,10040.8,8008.2,9108.6,9532.1,7965.3,9343.7,7636.6,10206.8,9203.1,9544.2,11305.4,8428.3,9691.3,13840.6,8619.4,14448.2,14042.2,11228.7,8107.3,9570.1,12602.2,10270.4,10174.9,8245.0,10089.1,10450.6,12463.6,8577.9,9816.4,10591.8,9207.5,8864.1,7233.2,22844.9,6957.9,6720.4,5746.7,5002.3,6421.3,1900.1,3482.0,3606.1,1184.2,808.0,2877.3,3766.2,2825.8,3941.4,2755.0,8899.6,3779.8,2342.8,3560.1,4221.7,3671.1,706.2,3314.1,160.8,238.3,166.8,361.2,605.1,670.1,545.0,128.1,488.4,380.7,1144.5,157.3,0.0,46.3,0.7,0.0,528.5,131.5,1.9,45.5,585.2,74.2,0.3,0.3,301.3,89.5,720.0,0.0,75.1,881.0,136.5,227.9,11.0,0.7,452.7,8.0,5.2,5.0,3.2,220.0,27.4,31.3,312.1,246.7,581.0,48.1,17.0,281.9,35.5,327.1,127.9,316.8,140.5,314.2,17.9,1.5,299.1,264.8,0.6,432.2,400.7,528.1,400.2,6921.4,6496.4,6186.5,5134.3,9157.4,6074.0,5689.8,6660.4,6883.5,5482.4,3280.0,6226.0,9901.1,16261.1,29601.2,22986.5,22374.3,15522.9,16370.5,19382.3,14635.1,14586.9,8923.2,4251.5,5419.0,5371.5,4892.7,4525.9,1264.8,3390.7,3068.1,3931.9,13305.1,18400.3,8172.6,7932.2,7510.4,5634.2,2642.6,4365.8,3309.8,3293.0,3316.8,6618.6,7453.0,2770.6,6868.5,9885.7,10145.1,4937.1,3232.3,7168.0,7747.3,7464.1,6308.5,6251.8,7176.0,2561.0,3452.8,4072.1,1527.9,1816.4,4815.5,912.9,808.3,3234.8,1129.3,708.5,3224.1,4239.5,4203.5,4408.3,2978.5,5476.1,3833.3,4247.5,1589.9,2423.3,4364.4,2088.0,229.7,369.8,359.9,64.6,0.3,132.3,0.0,328.7,125.0,0.0,297.9,369.8,203.5,226.4,33.8,322.1,36.8,0.0,136.5,3.4,286.0,141.9,28.0,25.3,320.0,222.0,198.0,179.1,0.0,0.0,0.0,93.8,225.7,419.5,165.9,625.6,581.1,5.1,73.2,1.0,55.5,156.7,0.0,67.3,75.0,625.2,345.5,182.7,214.8,1.8,0.0,0.0,237.6,29.0,71.8,269.5,377.3,44.7,1.2,0.4,346.5,0.6,234.7,2412.8,349.5,8487.5,5259.2,6117.4,9673.2,7841.5,4958.7,4470.0,3638.1,2148.0,3800.8,4511.1,3657.3,6581.8,1535.6,2369.5,6516.5,10283.2,3630.7,7822.9,7954.5,6744.7,7424.5,9315.1,8155.2,9265.1,7493.3,8116.3,7739.6,8291.0,8579.3,9550.5,13869.9,18422.3,8740.0,12489.1,4917.6,7189.7,10161.2,5958.2,1556.9,3684.8,9428.9,6184.7,8759.6,7788.5,16184.2,25053.4,21811.7,14605.9,8458.5,6101.7,10916.0,15075.5,10494.9,12392.9,9973.9,18006.2,30833.3,7636.8,9809.9,12017.9,10624.6,9869.3,7311.4,6938.4,9279.0,13699.5,2498.9,8904.6,3506.9,3501.1,3900.1,2804.6,765.7,2278.2,1269.7,1190.3,1407.2,514.5,1220.5,4616.7,3133.3,2293.6,389.6,4766.9,587.5,349.8,799.8,561.9,661.2,114.7,369.1,2885.7,7058.9,2739.0,3174.9,407.6,662.6,512.6,498.7,2056.2,345.1,269.5,115.8,585.9,3.2,0.0,0.0,25.8,105.8,62.5,2.1,160.1,0.0,0.0,1.2,108.0,125.6,131.9,236.1,69.9,1.5,460.8,33.4,0.0,0.0,290.6,46.3,71.6,257.9,128.9,175.7,0.6,334.8,0.5,54.8,71.1,875.6,4946.5,2105.5,16535.7,12572.7,7933.2,6552.9,11778.7,5531.7,6962.6,6860.3,7630.2,2092.1,4436.3,4527.9,4725.8,6891.8,5779.2,5388.2,4485.8,11274.6,2172.4,6366.9,7708.9,3420.4,4207.6,20.1,102.7,491.5,587.7,123.6,3616.0,1863.1,4682.4,5010.8,2860.5,1947.1,1632.3,2792.5,4730.9,6673.3,1059.2,2856.8,6953.1,4688.8,550.5,370.3,817.5,775.1,2987.3,2369.1,2418.9,6032.6,1335.0,1280.3,4473.2,4819.7,3666.4,11498.5,7159.3,7458.7,7969.0,7629.1,8762.1,9504.5,13881.8,4927.1,1757.9,2400.2,3066.4,3357.5,3502.5,2834.1,4672.2,5534.5,5898.6,6678.0,9697.5,6543.2,1960.6,4911.1,3388.3,2865.1,2422.5,3491.1,4857.7,2191.6,7516.7,4039.6,518.4,1236.9,1252.8,1858.3,1690.4,995.8,2987.8,1562.8,3119.3,2324.3,2422.4,5338.5,3461.2,18.8,106.6,0.0,0.0,0.0,69.6,129.5,33.5,8.3,88.7,1.2,1.9,71.1,12.5,184.6,138.2,0.0,99.5,31.7,62.7,340.0,0.0,0.0,0.0,211.5,310.0,222.5,0.0,0.0,113.0,301.3,201.2,1.7,219.4,272.8,14.9,172.3,68.1,0.5,101.3,3.7,471.0,88.1,152.8,44.4,367.5,0.5,0.0,94.9,91.9,4.3,69.3,55.3,49.6,208.1,189.6,0.0,178.2,0.6,2430.8,3602.8,5095.4,3749.6,3876.0,1839.9,3937.2,3532.1,8212.2,4958.8,3055.5,3131.0,3824.9,3416.6,3842.5,6584.8,2237.6,2634.8,3291.5,2831.8,381.5,478.8,3005.1,2625.2,2978.8,2997.3,10726.3,9273.1,9679.7,7563.2,2816.4,1466.4,571.8,647.8,654.1,2219.1,1030.8,905.0,6443.6,4167.1,4124.5,2441.8,6326.3,6327.5,9577.8,4398.8,6896.5,3744.8,1334.1,3739.2,519.2,468.8,927.2,1517.4,2275.0,5258.8,12164.7,8184.0,1548.7,14177.2,11421.5,4675.7,4115.5,6169.7,5700.8,8085.6,4233.5,1402.9,813.1,1258.7,1826.9,962.3,1243.7,2245.6,2783.1,5712.5,6505.5,8075.9,9533.7,3995.2,3099.8,3323.3,3192.8,3677.9,1943.4,4555.1,1878.8,1543.7,1004.4,219.0,6803.9,6890.6,1903.0,1508.7,385.3,0.7,0.0,134.2,195.2,120.3,185.3,162.2,81.0,92.3,50.7,0.5,17.2,313.1,258.4,55.7,283.8,84.9,32.5,167.7,0.0,0.0,88.4,246.9,642.1,3.3,0.0,0.0,207.8,0.0,361.7,271.8,261.5,420.0,1.1,69.2,244.9,62.1,243.6,0.3,0.0,185.6,163.2,973.7,71.4,490.4,2350.1,7542.4,3826.6,3892.6,10635.0,6954.9,15119.3,1191.0,763.7,1268.6,4720.3,3034.8,3641.8,4196.1,5274.1,3507.1,640.4,6851.4,9517.4,6001.0,5011.9,4012.8,4036.5,4031.3,10829.5,6954.7,2903.9,6838.2,9837.1,9718.2,5410.8,4750.8,1716.2,3557.8,4562.6,3160.8,6752.0,7429.8,3710.7,7075.3,5477.3,4599.0,662.1,5350.8,7177.3,14244.6,12511.7,11003.0,10775.3,1873.4,13140.7,10216.3,12163.8,10715.2,15348.5,11475.9,13025.0,15886.8,13755.2,14696.3,3485.7,2060.4,3747.3,9495.7,2610.3,10972.0,7461.4,6954.1,5062.5,3540.2,3493.1,1729.3,2895.7,2985.4,3200.4,2596.5,2975.4,2403.9,2484.2,3469.5,2020.1,2035.6,1692.1,2846.6,2347.4,6631.2,1216.2,1042.0,2444.0,14.6,0.0,0.0,0.0,30.8,29.3,270.9,332.5,0.0,0.0,0.0,0.0,0.0,263.0,1.0,57.8,271.7,65.9,0.0,23.1,120.1,0.0,286.9,598.1,107.0,196.7,165.5,299.2,0.0,42.4,0.0,0.0,0.0,74.6,164.8,84.3,66.6,0.0,530.7,153.7,248.5,64.6,213.2,60.9,581.8,103.9,0.0,1097.3,8348.5,6671.0,4601.1,8479.7,7410.8,2816.8,8785.5,6258.0,5104.4,11459.7,9185.0,10838.9,5109.0,9902.1,11490.6,776.5,1499.1,11917.8,5543.4,1590.2,2155.2,4289.5,4745.1,4076.8,3778.6,8143.8,6251.8,7644.5,4433.0,6905.5,5177.0,5413.1,4365.3,3695.2,2413.7,1986.1,1859.1,4783.8,6496.2,3579.4,2390.7,2793.4,2163.4,4063.6,3218.1,2425.1,3450.4,3422.4,2671.8,2242.2,2997.1,2508.2,2640.7,4196.5,7206.6,5890.2,4571.0,5049.3,4329.8,11227.5,9600.4,5731.7,7674.1,5273.1,7360.4,3613.3,8282.1,6378.0,2648.4,6558.7,3199.2,2538.7,4185.4,3168.5,3097.8,1275.8,2707.2,2132.5,3249.2,4899.8,3327.5,4346.5,5058.2,314.4,538.2,11.2,259.8,0.0,0.0,56.0,26.6,0.0,0.0,232.9,22.1,0.0,0.0,152.6,0.3,587.4,0.0,188.6,180.5,347.0,0.0,0.0,77.0,1.5,87.2,265.4,277.6,308.8,7.8,132.9,84.4,337.2,4.8,99.1,0.0,896.6,1321.9,0.0,81.9,4.5,256.3,134.6,284.9,0.5,0.0,58.9,148.2,151.3,121.1,134.6,510.5,470.9,256.3,113.1,55.2,4.1,88.0,63.2,51.6,473.3,4.9,161.4,27.6,104.4,137.0,247.9,1575.3,5138.2,6372.0,2889.6,1834.4,2278.3,4619.6,5401.8,1210.8,5644.7,4233.8,4747.0,3871.6,3156.9,3181.8,3976.0,4238.8,4327.8,2659.3,4316.9,3505.2,2795.1,3758.9,7736.9,10634.3,4727.7,1971.6,4147.8,10548.2,11339.1,5457.9,2004.7,5018.9,9728.2,9526.1,19860.2,10424.4,13591.1,6222.7,17591.5,4066.0,4898.3,3104.7,3500.6,6509.8,5867.2,1457.0,1518.7,9453.1,8134.2,8400.2,5336.5,8098.7,6389.4,6366.3,6791.8,8199.1,5774.6,11651.3,7625.1,4705.9,4652.7,2568.2,537.3,1941.0,3527.3,2621.7,903.0,4433.0,5284.0,72.5,1054.6,20.2,2.5,0.0,0.0,31.2,8.4,556.3,1.7,278.3,291.8,0.0,407.5,54.9,45.8,0.0,1.1,329.6,268.2,54.3,43.2,3.2,0.0,75.6,306.4,74.4,295.6,86.8,193.6,111.0,0.0,0.0,362.8,0.0,0.0,162.7,71.4,121.9,238.5,0.7,239.9,8.1,486.7,648.6,48.2,1.3,1.2,99.6,308.6,176.4,76.8,154.7,74.2,211.1,60.7,226.1,450.4,9.5,129.6,66.7,0.7,2.4,122.6,82.7,59.3,281.8,229.3,1278.2,5518.0,6117.2,13875.8,11950.4,11315.1,12502.8,12615.7,10686.7,8242.7,13698.1,10576.9,9897.6,6817.4,8014.6,7971.1,4123.6,9098.7,792.7,5926.9,5412.0,4600.4,3626.7,4410.9,8426.3,4252.3,3663.9,4524.9,5251.6,4595.5,5003.2,6944.8,11018.8,7026.7,4770.5,7120.6,12993.6,17915.0,4822.5,8012.1,7998.8,8262.4,10344.2,11321.5,15216.9,11428.2,8090.0,9046.2,13703.2,16372.0,9564.3,9481.0,10829.7,10834.2,7776.1,12446.9,8841.9,4573.9,5464.1,8266.3,9002.3,12025.5,21402.6,12804.6,12734.4,11693.9,14095.1,6710.0,4353.7,4763.6,23325.4,8539.6,7756.5,5823.5,6293.7,3661.4,4353.9,6640.2,5586.4,2972.1,2386.6,311.1,2588.8,3531.1,884.7,11.2,5293.2,435.8,570.3,2657.3,2798.3,3495.6,1128.5,2950.7,2444.3,4058.5,4037.1,133.0,120.7,695.6,702.0,0.0,94.4,0.0,49.8,206.7,21.1,2.0,0.9,0.0,4.1,76.0,0.3,797.3,0.6,10.0,272.4,159.0,383.7,218.5,67.7,180.6,0.0,0.0,0.0,43.4,102.2,249.0,267.9,852.8,0.0,0.0,182.4,10.4,547.7,4.3,352.2,265.5,151.2,407.1,36.5,0.0,1.0,53.8,330.3,87.0,358.0,610.1,289.5,873.4,324.0,527.1,219.6,4750.6,1557.5,1460.3,5720.8,3194.0,8315.6,9580.1,3231.4,2659.2,2414.8,4625.0,4038.0,3192.0,3678.6,4645.7,5533.0,6575.3,12229.8,13253.4,10012.0,8525.0,6498.8,10024.0,7720.3,8480.8,9948.4,13440.4,7889.9,7027.3,5802.0,8262.9,10392.3,5662.0,3243.0,2788.0,2907.3,3406.3,3071.1,5249.1,2073.5,3301.1,2881.3,1795.9,2346.3,2077.5,3421.4,3944.2,3845.0,2130.3,1694.0,3994.6,5039.3,7352.5,8821.2,7988.2,6812.1,794.0,2535.3,2724.9,3537.1,7395.9,12562.5,7279.1,10901.1,14296.0,10246.1,6813.0,12096.7,3823.5,1277.7,2047.6,1603.4,1091.5,527.8,662.8,2640.5,296.6,3858.9,7233.5,2286.4,906.4,5074.8,1097.4,3815.5,5325.4,4221.6,4696.3,5997.1,3043.2,735.7,7771.6,5152.4,4805.4,5214.0,8721.1,8217.5,8727.9,7992.0,9863.6,10553.5,9866.4,8646.9,8680.6,8536.8,5009.9,245.1,86.2,0.3,0.0,2.1,128.4,6.9,325.4,82.5,7.9,0.0,56.7,114.9,0.9,0.0,334.9,128.5,367.7,80.3,330.1,367.6,29.6,81.7,797.5,3.5,0.0,345.2,9369.6,12240.3,6977.9,10726.1,10739.3,7653.3,5597.7,12102.9,9519.2,7319.1,7342.6,9204.0,7250.9,7594.0,7538.3,4227.5,5050.5,7204.2,6319.8,5664.8,6982.6,7557.9,2862.2,2730.6,7826.3,4118.3,3355.5,6820.7,7963.6,8760.0,4588.3,3095.3,8850.9,10116.1,3644.3,5791.3,6252.5,8863.4,8073.5,2092.3,3051.9,887.9,1659.2,1775.7,3624.8,4295.7,4985.5,2077.8,301.0,4040.1,1302.1,6528.8,4420.8,5400.0,3766.4,3200.2,1016.9,27.9,19.7,1536.4,1069.7,1977.5,1076.4,567.1,670.4,990.4,283.2,610.5,642.6,783.4,582.1,6055.0,3375.0,6282.9,1845.6,1311.0,1353.6,423.6,4305.3,6346.2,6388.5,2065.8,687.6,2596.2,1642.3,3936.1,4170.7,2570.4,2005.6,3284.0,1383.7,7412.2,6524.0,7411.6,6414.4,6276.7,3785.5,2072.7,2814.5,109.5,1.7,459.7,1.2,1.5,88.4,1.0,528.5,39.7,32.3,0.0,86.8,0.0,122.9,62.8,61.0,153.3,110.8,589.5,10.2,215.5,52.5,67.6,68.7,573.1,36.0,198.6,137.8,531.3,3733.8,6345.1,7575.6,10711.5,11865.3,8497.8,5204.2,5493.7,6576.8,3500.6,2795.1,5005.5,3803.2,3624.0,166.4,704.0,2718.5,7439.2,4675.9,5510.4,5244.7,3563.5,3975.5,4613.7,4726.0,8051.3,2530.2,3247.8,3719.0,2434.2,4401.7,4062.7,2675.4,2818.4,2231.2,1711.6,1770.5,2911.5,4855.8,1616.1,4004.2,6279.8,4595.2,3239.7,4680.5,3658.4,3945.6,9325.2,8378.6,11793.4,4012.4,9734.8,2244.2,3515.3,4866.2,5252.8,8146.2,3552.8,1760.6,952.6,2453.6,11636.5,14026.0,6572.0,2711.7,3216.2,3823.8,1533.0,816.6,1147.6,2031.4,4146.3,8552.2,6244.8,1844.5,4305.5,2587.1,3912.2,3240.3,4831.7,12972.0,6516.1,4095.0,3653.7,1604.8,1937.3,2013.7,2222.4,5151.4,0.0,14177.3,8194.0,9002.9,4739.4,3948.0,4075.4,5043.4,1565.4,2045.2,525.9,629.1,1147.4,1416.1,880.6,5473.6,3547.3,4158.5,1741.6,2153.8,2154.9,1450.3,1693.6,665.2,1980.7,3505.0,1004.2,2625.6,3337.9,2957.6,2815.7,1726.7,2238.6,2725.9,6592.5,3293.8,3961.4,2804.6,1703.7,873.0,246.0,0.6,389.7,0.0,0.0,6.7,0.4,0.0,226.9,66.7,0.0,0.0,8.9,96.0,1.1,92.2,10.5,0.0,40.0,0.0,7.7,173.4,273.1,95.8,33.7,37.1,2.7,98.9,71.4,47.8,294.2,27.7,50.5,42.4,7.8,245.5,139.5,69.2,0.0,80.5,14.5,2.0,503.3,0.0,2591.6,7326.6,2668.0,1846.3,3092.0,4969.9,5206.8,5779.9,6425.9,6362.1,7556.0,4665.9,7365.3,9082.6,6074.1,3041.0,4604.0,2876.9,986.1,4806.3,317.9,3259.3,1801.6,1963.9,1251.0,4916.7,5104.9,416.7,2627.2,1886.8,1024.0,1525.6,4935.5,4664.0,9213.8,4518.5,1920.0,1578.1,1480.2,3000.0,2872.0,1816.8,890.7,3678.7,2862.6,3478.4,2566.7,1838.6,4132.8,6117.3,3255.7,7039.6,5828.5,4485.6,8995.0,7191.9,11517.9,9478.4,6252.4,8056.3,13705.7,10028.4,8304.3,7950.9,4636.3,2993.1,1489.5,1379.7,867.8,614.2,666.9,1294.0,1471.1,1877.4,7903.6,9843.2,9094.8,4949.7,1178.2,1855.4,4604.2,1446.2,3533.7,4352.3,4962.8,7164.1,694.0,1.0,0.0,73.6,48.2,0.3,35.9,4.3,1.3,0.0,175.8,98.8,77.7,1.4,30.4,88.1,27.1,1.1,779.8,9.8,0.7,0.0,0.0,0.0,0.0,21.9,3.9,144.9,0.0,34.5,221.6,77.2,7.8,75.4,12.9,12.9,341.6,317.4,0.0,1.5,0.8,0.0,123.1,111.7,118.4,157.9,147.4,291.4,520.4,170.6,2.3,3.2,17.0,236.9,142.8,37.0,35.3,207.0,90.3,261.6,0.0,3548.8,5820.2,5216.8,3417.5,2961.7,3775.3,6866.5,7615.4,3973.4,4133.9,1544.3,499.5,998.8,5399.4,4227.7,4179.1,8331.6,8432.0,10671.3,12752.6,8132.7,8524.2,5072.3,4741.1,2993.2,3570.9,1881.6,4244.3,6178.1,5615.2,4116.3,4470.2,9171.9,2923.0,2370.3,4942.1,2944.7,2728.4,3664.2,8663.8,8461.5,5731.1,5976.2,5200.3,5494.4,7877.0,7629.5,7139.4,7020.5,6366.9,11491.4,8759.9,11010.5,4518.3,4510.6,4903.9,4916.9,4798.8,3562.0,3134.8,2338.1,1651.0,5890.3,3893.7,3215.5,1187.4,1745.1,3254.3,1213.2,2451.7,3823.1,2976.5,4167.8,7616.7,8279.2,12755.2,5045.7,1466.2,264.5,386.2,491.2,427.7,107.8,120.2,145.4,253.9,713.8,185.2,149.2,0.0,0.0,0.3,298.0,270.4,236.8,0.0,0.0,0.0,0.0,94.2,483.1,96.5,156.6,172.3,2.1,0.0,0.0,3.4,545.4,232.5,130.4,245.4,304.1,1.7,282.7,44.3,124.5,40.5,26.9,0.0,0.0,262.9,105.8,163.5,467.9,375.5,0.0,0.0,82.1,219.4,192.4,100.9,117.5,157.3,359.1,48.4,12.7,0.0,64.1,2026.7,0.0,68.0,717.7,554.5,57.6,159.2,199.3,5494.1,3472.1,2032.0,3564.0,7151.4,9937.5,8238.3,6875.4,4576.1,4836.6,2371.9,588.4,10778.3,7639.4,14282.8,11316.1,7726.9,3872.1,3047.9,2047.4,6152.7,3239.3,5044.5,6574.4,5746.4,4182.9,9093.2,7910.0,6635.3,8694.1,8580.3,10191.6,9861.8,8013.7,4426.8,8587.1,8238.5,8934.8,7225.7,6402.7,6175.9,8169.5,7819.7,12391.4,6866.4,4273.1,3958.7,5210.1,8348.5,7181.3,6395.9,4262.7,6350.2,8802.9,9685.9,4056.9,4135.8,6226.4,1604.8,1073.2,1883.3,1044.8,1375.4,1747.7,3227.5,2195.3,767.5,3382.9,1333.7,3753.4,1786.9,0.0,0.0,0.0,0.7,0.0,0.0,2065.4,961.8,247.9,184.4,300.8,238.3,168.8,190.2,870.2,883.6,9.3,33.1,286.3,0.0,0.0,0.0,61.7,110.4,0.0,0.0,265.5,154.7,158.9,179.9,62.2,54.4,0.0,0.0,0.0,77.5,584.0,543.9,128.3,381.7,0.7,0.0,0.4,199.9,5.3,348.2,55.3,0.0,21.5,30.3,300.5,57.7,271.3,336.2,374.4,30.9,74.0,270.4,1039.5,925.1,339.3,0.0,0.7,0.5,365.5,142.7,37.2,281.7,16.6,119.7,177.1,1.4,0.0,0.4,73.6,151.5,7.5,317.6,1214.0,5129.5,4340.2,4740.6,1988.2,3376.2,4968.2,3746.9,3121.1,4119.9,3441.0,2616.2,3367.2,1854.7,2988.7,4685.3,8120.9,7844.4,3960.8,4536.6,2119.0,1817.5,1855.7,1949.0,2211.6,1954.5,2690.3,2159.6,7248.6,4222.2,2988.9,5325.8,3073.9,2257.9,4863.1,4219.5,2126.1,1643.7,1022.8,2036.8,2219.0,2098.8,1720.8,1763.9,1843.6,1657.2,2343.3,1908.4,5507.3,1027.1,3388.6,1471.3,2868.5,2537.5,4788.0,4079.9,2223.2,846.4,2385.0,1267.1,2234.6,869.3,1012.0,882.0,2915.2,3569.8,7772.6,2622.7,5326.9,2052.8,1966.8,4804.5,4679.8,1972.4,4031.9,2377.4,460.4,523.9,229.4,688.8,317.9,517.0,0.8,0.0,2.1,0.0,0.0,266.2,4.6,463.0,296.2,90.4,298.5,11.4,15.7,1.2,8.1,228.8,0.0,0.0,0.0,460.1,177.0,736.3,417.0,0.0,85.0,167.4,106.8,11.2,0.9,38.5,400.2,1.0,134.4,186.8,86.7,0.0,609.2,41.5,171.1,167.1,286.6,278.2,270.9,670.8,473.7,4.8,163.8,0.6,166.6,236.2,213.9,95.7,0.3,7.5,4381.7,3338.8,69.4,0.0,6827.7,11457.0,12033.9,5956.5,4727.3,11636.2,6309.9,3506.3,5805.4,3373.7,7959.3,943.4,2610.3,2712.5,4295.0,5467.6,8723.9,2454.5,7559.7,8218.9,2875.1,4163.3,4112.2,8224.0,4300.5,1638.5,2570.0,2943.4,3271.1,3616.4,4611.6,8267.6,6082.4,7606.1,9913.4,6696.4,1583.7,538.7,538.4,3566.3,713.2,1731.0,2202.9,5117.0,1465.3,1636.7,1955.3,5564.6,5334.8,7330.9,5198.6,8488.0,10466.4,1201.6,16.1,2319.3,7561.2,11073.6,12703.9,2936.6,863.8,833.0,1288.6,514.4,904.5,1546.2,668.1,1171.4,8250.3,4399.9,4473.7,5208.2,2148.0,6913.9,3489.5,1168.8,1386.9,1406.0,612.8,3496.6,4703.7,194.1,25.2,402.6,137.2,255.9,177.8,358.1,130.9,474.0,277.0,102.8,286.3,0.5,296.4,1.8,3.1,124.4,0.0,63.9,107.8,37.4,0.0,0.0,0.0,39.7,114.6,23.0,14.9,0.4,0.0,0.0,57.7,665.2,153.6,73.0,329.4,283.1,0.3,0.0,3.0,104.8,119.4,142.0,62.8,140.7,127.2,346.5,291.5,554.6,4.1,379.6,145.8,3943.2,3517.0,10667.0,11184.8,8237.4,10107.0,3716.1,579.1,699.9,8912.7,7013.2,4134.4,2261.7,4282.3,5265.2,1363.7,4595.9,3797.0,3291.6,5091.6,4930.7,8175.0,5486.5,1975.2,4382.1,9794.5,9514.7,10087.1,9824.3,6285.0,5878.7,7312.4,5292.2,2568.0,1839.5,2744.2,1174.4,3749.3,2474.1,2026.6,3025.6,2331.6,3354.5,3042.4,3181.1,2429.3,3925.8,2599.4,5404.5,3152.7,5092.0,2248.9,2638.2,5222.3,10240.7,5342.7,7664.8,4324.9,818.3,4992.2,1866.5,8258.3,10950.6,10199.7,9504.8,6370.4,4551.7,6108.2,5610.9,7968.6,7371.1,4535.2,8706.0,4127.2,4480.6,5263.6,3189.2,6583.1,2711.4,4960.8,2811.4,3406.1,1274.1,1586.9,2025.0,1077.3,30.7,3277.5,10699.8,11365.0,9027.4,8767.9,2437.3,6046.0,84.7,135.5,13.9,1.4,377.2,7.9,2.0,0.0,5.6,0.0,112.2,13.7,84.3,0.0,0.0,0.0,187.1,126.7,0.0,93.3,471.5,1.8,483.7,0.0,0.0,415.2,512.0,240.7,161.1,12.4,689.4,254.5,20.2,723.3,308.6,149.9,0.0,0.6,0.0,54.8,186.8,234.0,28.5,123.9,249.4,41.5,301.8,78.7,37.0,68.1,676.6,181.2,86.7,72.9,138.0,69.1,1.2,null,null],\"type\":\"scatter\"}],                        {\"showlegend\":false,\"title\":{\"text\":\"Actigraphy data\"},\"xaxis\":{\"title\":{\"text\":\"Date time\"}},\"yaxis\":{\"title\":{\"text\":\"Counts/period\"}},\"template\":{\"data\":{\"histogram2dcontour\":[{\"type\":\"histogram2dcontour\",\"colorbar\":{\"outlinewidth\":0,\"ticks\":\"\"},\"colorscale\":[[0.0,\"#0d0887\"],[0.1111111111111111,\"#46039f\"],[0.2222222222222222,\"#7201a8\"],[0.3333333333333333,\"#9c179e\"],[0.4444444444444444,\"#bd3786\"],[0.5555555555555556,\"#d8576b\"],[0.6666666666666666,\"#ed7953\"],[0.7777777777777778,\"#fb9f3a\"],[0.8888888888888888,\"#fdca26\"],[1.0,\"#f0f921\"]]}],\"choropleth\":[{\"type\":\"choropleth\",\"colorbar\":{\"outlinewidth\":0,\"ticks\":\"\"}}],\"histogram2d\":[{\"type\":\"histogram2d\",\"colorbar\":{\"outlinewidth\":0,\"ticks\":\"\"},\"colorscale\":[[0.0,\"#0d0887\"],[0.1111111111111111,\"#46039f\"],[0.2222222222222222,\"#7201a8\"],[0.3333333333333333,\"#9c179e\"],[0.4444444444444444,\"#bd3786\"],[0.5555555555555556,\"#d8576b\"],[0.6666666666666666,\"#ed7953\"],[0.7777777777777778,\"#fb9f3a\"],[0.8888888888888888,\"#fdca26\"],[1.0,\"#f0f921\"]]}],\"heatmap\":[{\"type\":\"heatmap\",\"colorbar\":{\"outlinewidth\":0,\"ticks\":\"\"},\"colorscale\":[[0.0,\"#0d0887\"],[0.1111111111111111,\"#46039f\"],[0.2222222222222222,\"#7201a8\"],[0.3333333333333333,\"#9c179e\"],[0.4444444444444444,\"#bd3786\"],[0.5555555555555556,\"#d8576b\"],[0.6666666666666666,\"#ed7953\"],[0.7777777777777778,\"#fb9f3a\"],[0.8888888888888888,\"#fdca26\"],[1.0,\"#f0f921\"]]}],\"heatmapgl\":[{\"type\":\"heatmapgl\",\"colorbar\":{\"outlinewidth\":0,\"ticks\":\"\"},\"colorscale\":[[0.0,\"#0d0887\"],[0.1111111111111111,\"#46039f\"],[0.2222222222222222,\"#7201a8\"],[0.3333333333333333,\"#9c179e\"],[0.4444444444444444,\"#bd3786\"],[0.5555555555555556,\"#d8576b\"],[0.6666666666666666,\"#ed7953\"],[0.7777777777777778,\"#fb9f3a\"],[0.8888888888888888,\"#fdca26\"],[1.0,\"#f0f921\"]]}],\"contourcarpet\":[{\"type\":\"contourcarpet\",\"colorbar\":{\"outlinewidth\":0,\"ticks\":\"\"}}],\"contour\":[{\"type\":\"contour\",\"colorbar\":{\"outlinewidth\":0,\"ticks\":\"\"},\"colorscale\":[[0.0,\"#0d0887\"],[0.1111111111111111,\"#46039f\"],[0.2222222222222222,\"#7201a8\"],[0.3333333333333333,\"#9c179e\"],[0.4444444444444444,\"#bd3786\"],[0.5555555555555556,\"#d8576b\"],[0.6666666666666666,\"#ed7953\"],[0.7777777777777778,\"#fb9f3a\"],[0.8888888888888888,\"#fdca26\"],[1.0,\"#f0f921\"]]}],\"surface\":[{\"type\":\"surface\",\"colorbar\":{\"outlinewidth\":0,\"ticks\":\"\"},\"colorscale\":[[0.0,\"#0d0887\"],[0.1111111111111111,\"#46039f\"],[0.2222222222222222,\"#7201a8\"],[0.3333333333333333,\"#9c179e\"],[0.4444444444444444,\"#bd3786\"],[0.5555555555555556,\"#d8576b\"],[0.6666666666666666,\"#ed7953\"],[0.7777777777777778,\"#fb9f3a\"],[0.8888888888888888,\"#fdca26\"],[1.0,\"#f0f921\"]]}],\"mesh3d\":[{\"type\":\"mesh3d\",\"colorbar\":{\"outlinewidth\":0,\"ticks\":\"\"}}],\"scatter\":[{\"fillpattern\":{\"fillmode\":\"overlay\",\"size\":10,\"solidity\":0.2},\"type\":\"scatter\"}],\"parcoords\":[{\"type\":\"parcoords\",\"line\":{\"colorbar\":{\"outlinewidth\":0,\"ticks\":\"\"}}}],\"scatterpolargl\":[{\"type\":\"scatterpolargl\",\"marker\":{\"colorbar\":{\"outlinewidth\":0,\"ticks\":\"\"}}}],\"bar\":[{\"error_x\":{\"color\":\"#2a3f5f\"},\"error_y\":{\"color\":\"#2a3f5f\"},\"marker\":{\"line\":{\"color\":\"#E5ECF6\",\"width\":0.5},\"pattern\":{\"fillmode\":\"overlay\",\"size\":10,\"solidity\":0.2}},\"type\":\"bar\"}],\"scattergeo\":[{\"type\":\"scattergeo\",\"marker\":{\"colorbar\":{\"outlinewidth\":0,\"ticks\":\"\"}}}],\"scatterpolar\":[{\"type\":\"scatterpolar\",\"marker\":{\"colorbar\":{\"outlinewidth\":0,\"ticks\":\"\"}}}],\"histogram\":[{\"marker\":{\"pattern\":{\"fillmode\":\"overlay\",\"size\":10,\"solidity\":0.2}},\"type\":\"histogram\"}],\"scattergl\":[{\"type\":\"scattergl\",\"marker\":{\"colorbar\":{\"outlinewidth\":0,\"ticks\":\"\"}}}],\"scatter3d\":[{\"type\":\"scatter3d\",\"line\":{\"colorbar\":{\"outlinewidth\":0,\"ticks\":\"\"}},\"marker\":{\"colorbar\":{\"outlinewidth\":0,\"ticks\":\"\"}}}],\"scattermapbox\":[{\"type\":\"scattermapbox\",\"marker\":{\"colorbar\":{\"outlinewidth\":0,\"ticks\":\"\"}}}],\"scatterternary\":[{\"type\":\"scatterternary\",\"marker\":{\"colorbar\":{\"outlinewidth\":0,\"ticks\":\"\"}}}],\"scattercarpet\":[{\"type\":\"scattercarpet\",\"marker\":{\"colorbar\":{\"outlinewidth\":0,\"ticks\":\"\"}}}],\"carpet\":[{\"aaxis\":{\"endlinecolor\":\"#2a3f5f\",\"gridcolor\":\"white\",\"linecolor\":\"white\",\"minorgridcolor\":\"white\",\"startlinecolor\":\"#2a3f5f\"},\"baxis\":{\"endlinecolor\":\"#2a3f5f\",\"gridcolor\":\"white\",\"linecolor\":\"white\",\"minorgridcolor\":\"white\",\"startlinecolor\":\"#2a3f5f\"},\"type\":\"carpet\"}],\"table\":[{\"cells\":{\"fill\":{\"color\":\"#EBF0F8\"},\"line\":{\"color\":\"white\"}},\"header\":{\"fill\":{\"color\":\"#C8D4E3\"},\"line\":{\"color\":\"white\"}},\"type\":\"table\"}],\"barpolar\":[{\"marker\":{\"line\":{\"color\":\"#E5ECF6\",\"width\":0.5},\"pattern\":{\"fillmode\":\"overlay\",\"size\":10,\"solidity\":0.2}},\"type\":\"barpolar\"}],\"pie\":[{\"automargin\":true,\"type\":\"pie\"}]},\"layout\":{\"autotypenumbers\":\"strict\",\"colorway\":[\"#636efa\",\"#EF553B\",\"#00cc96\",\"#ab63fa\",\"#FFA15A\",\"#19d3f3\",\"#FF6692\",\"#B6E880\",\"#FF97FF\",\"#FECB52\"],\"font\":{\"color\":\"#2a3f5f\"},\"hovermode\":\"closest\",\"hoverlabel\":{\"align\":\"left\"},\"paper_bgcolor\":\"white\",\"plot_bgcolor\":\"#E5ECF6\",\"polar\":{\"bgcolor\":\"#E5ECF6\",\"angularaxis\":{\"gridcolor\":\"white\",\"linecolor\":\"white\",\"ticks\":\"\"},\"radialaxis\":{\"gridcolor\":\"white\",\"linecolor\":\"white\",\"ticks\":\"\"}},\"ternary\":{\"bgcolor\":\"#E5ECF6\",\"aaxis\":{\"gridcolor\":\"white\",\"linecolor\":\"white\",\"ticks\":\"\"},\"baxis\":{\"gridcolor\":\"white\",\"linecolor\":\"white\",\"ticks\":\"\"},\"caxis\":{\"gridcolor\":\"white\",\"linecolor\":\"white\",\"ticks\":\"\"}},\"coloraxis\":{\"colorbar\":{\"outlinewidth\":0,\"ticks\":\"\"}},\"colorscale\":{\"sequential\":[[0.0,\"#0d0887\"],[0.1111111111111111,\"#46039f\"],[0.2222222222222222,\"#7201a8\"],[0.3333333333333333,\"#9c179e\"],[0.4444444444444444,\"#bd3786\"],[0.5555555555555556,\"#d8576b\"],[0.6666666666666666,\"#ed7953\"],[0.7777777777777778,\"#fb9f3a\"],[0.8888888888888888,\"#fdca26\"],[1.0,\"#f0f921\"]],\"sequentialminus\":[[0.0,\"#0d0887\"],[0.1111111111111111,\"#46039f\"],[0.2222222222222222,\"#7201a8\"],[0.3333333333333333,\"#9c179e\"],[0.4444444444444444,\"#bd3786\"],[0.5555555555555556,\"#d8576b\"],[0.6666666666666666,\"#ed7953\"],[0.7777777777777778,\"#fb9f3a\"],[0.8888888888888888,\"#fdca26\"],[1.0,\"#f0f921\"]],\"diverging\":[[0,\"#8e0152\"],[0.1,\"#c51b7d\"],[0.2,\"#de77ae\"],[0.3,\"#f1b6da\"],[0.4,\"#fde0ef\"],[0.5,\"#f7f7f7\"],[0.6,\"#e6f5d0\"],[0.7,\"#b8e186\"],[0.8,\"#7fbc41\"],[0.9,\"#4d9221\"],[1,\"#276419\"]]},\"xaxis\":{\"gridcolor\":\"white\",\"linecolor\":\"white\",\"ticks\":\"\",\"title\":{\"standoff\":15},\"zerolinecolor\":\"white\",\"automargin\":true,\"zerolinewidth\":2},\"yaxis\":{\"gridcolor\":\"white\",\"linecolor\":\"white\",\"ticks\":\"\",\"title\":{\"standoff\":15},\"zerolinecolor\":\"white\",\"automargin\":true,\"zerolinewidth\":2},\"scene\":{\"xaxis\":{\"backgroundcolor\":\"#E5ECF6\",\"gridcolor\":\"white\",\"linecolor\":\"white\",\"showbackground\":true,\"ticks\":\"\",\"zerolinecolor\":\"white\",\"gridwidth\":2},\"yaxis\":{\"backgroundcolor\":\"#E5ECF6\",\"gridcolor\":\"white\",\"linecolor\":\"white\",\"showbackground\":true,\"ticks\":\"\",\"zerolinecolor\":\"white\",\"gridwidth\":2},\"zaxis\":{\"backgroundcolor\":\"#E5ECF6\",\"gridcolor\":\"white\",\"linecolor\":\"white\",\"showbackground\":true,\"ticks\":\"\",\"zerolinecolor\":\"white\",\"gridwidth\":2}},\"shapedefaults\":{\"line\":{\"color\":\"#2a3f5f\"}},\"annotationdefaults\":{\"arrowcolor\":\"#2a3f5f\",\"arrowhead\":0,\"arrowwidth\":1},\"geo\":{\"bgcolor\":\"white\",\"landcolor\":\"#E5ECF6\",\"subunitcolor\":\"white\",\"showland\":true,\"showlakes\":true,\"lakecolor\":\"white\"},\"title\":{\"x\":0.05},\"mapbox\":{\"style\":\"light\"}}}},                        {\"responsive\": true}                    ).then(function(){\n",
              "                            \n",
              "var gd = document.getElementById('42bcfb59-ca99-40bf-8355-90bdd8370922');\n",
              "var x = new MutationObserver(function (mutations, observer) {{\n",
              "        var display = window.getComputedStyle(gd).display;\n",
              "        if (!display || display === 'none') {{\n",
              "            console.log([gd, 'removed!']);\n",
              "            Plotly.purge(gd);\n",
              "            observer.disconnect();\n",
              "        }}\n",
              "}});\n",
              "\n",
              "// Listen for the removal of the full notebook cells\n",
              "var notebookContainer = gd.closest('#notebook-container');\n",
              "if (notebookContainer) {{\n",
              "    x.observe(notebookContainer, {childList: true});\n",
              "}}\n",
              "\n",
              "// Listen for the clearing of the current output cell\n",
              "var outputEl = gd.closest('.output');\n",
              "if (outputEl) {{\n",
              "    x.observe(outputEl, {childList: true});\n",
              "}}\n",
              "\n",
              "                        })                };                            </script>        </div>\n",
              "</body>\n",
              "</html>"
            ]
          },
          "metadata": {}
        }
      ]
    }
  ]
}